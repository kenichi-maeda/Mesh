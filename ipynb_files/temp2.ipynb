{
 "cells": [
  {
   "cell_type": "markdown",
   "metadata": {},
   "source": [
    "## Method4 (Basically Method2 but without bbox)"
   ]
  },
  {
   "cell_type": "code",
   "execution_count": 1,
   "metadata": {},
   "outputs": [],
   "source": [
    "from utils import *"
   ]
  },
  {
   "cell_type": "markdown",
   "metadata": {},
   "source": [
    "#### Load a file"
   ]
  },
  {
   "cell_type": "code",
   "execution_count": 2,
   "metadata": {},
   "outputs": [],
   "source": [
    "mesh = pymesh.load_mesh(\"data/brain.ply\")"
   ]
  },
  {
   "cell_type": "code",
   "execution_count": null,
   "metadata": {},
   "outputs": [],
   "source": [
    "self_intersection_stats(mesh)"
   ]
  },
  {
   "cell_type": "code",
   "execution_count": null,
   "metadata": {},
   "outputs": [],
   "source": [
    "visualize_intersection(mesh)"
   ]
  },
  {
   "cell_type": "markdown",
   "metadata": {},
   "source": [
    "#### Save intersection info first"
   ]
  },
  {
   "cell_type": "code",
   "execution_count": 3,
   "metadata": {},
   "outputs": [],
   "source": [
    "intersections = pymesh.detect_self_intersection(mesh)\n",
    "intersecting_vertices, intersecting_faces = track_self_intersecting_faces(mesh, intersections)"
   ]
  },
  {
   "cell_type": "markdown",
   "metadata": {},
   "source": [
    "#### Get outer hull"
   ]
  },
  {
   "cell_type": "code",
   "execution_count": 4,
   "metadata": {},
   "outputs": [],
   "source": [
    "outer_hull = pymesh.compute_outer_hull(mesh)"
   ]
  },
  {
   "cell_type": "code",
   "execution_count": null,
   "metadata": {},
   "outputs": [],
   "source": [
    "self_intersection_stats(outer_hull)"
   ]
  },
  {
   "cell_type": "markdown",
   "metadata": {},
   "source": [
    "#### Map intersecting region to modified mesh & Extract submesh"
   ]
  },
  {
   "cell_type": "code",
   "execution_count": 5,
   "metadata": {},
   "outputs": [],
   "source": [
    "mapped_vertices = map_to_modified_mesh(mesh, outer_hull, intersecting_vertices)"
   ]
  },
  {
   "cell_type": "code",
   "execution_count": 6,
   "metadata": {},
   "outputs": [],
   "source": [
    "submesh, face_mask = extract_self_intersecting_region_from_modified(outer_hull, mapped_vertices)"
   ]
  },
  {
   "cell_type": "code",
   "execution_count": null,
   "metadata": {},
   "outputs": [],
   "source": [
    "visualize(submesh, filename=\"Submesh\")"
   ]
  },
  {
   "cell_type": "code",
   "execution_count": 7,
   "metadata": {},
   "outputs": [],
   "source": [
    "remaining_mesh = extract_remaining_mesh(outer_hull, face_mask)"
   ]
  },
  {
   "cell_type": "code",
   "execution_count": null,
   "metadata": {},
   "outputs": [],
   "source": [
    "visualize(remaining_mesh, filename=\"remaining_mesh\")"
   ]
  },
  {
   "cell_type": "markdown",
   "metadata": {},
   "source": [
    "#### Repair (or Remesh) the submesh\n",
    "- `pymesh.collapse_short_edges(mesh, abs_threshold, rel_threshold, preserve_feature)`<br>\n",
    "Collapses all edges with length less than a user specified threshold.\n",
    "\n",
    "- `pymesh.split_long_edges(mesh, max_edge_length)`<br>\n",
    "Splits long edges into 2 or more shorter edges.\n",
    "\n",
    "- `pymesh.remove_obtuse_triangles(mesh, max_angle, max_iterations)`<br>\n",
    "Splits each obtuse triangle into 2 or more right or sharp triangles.\n",
    "\n",
    "- `pymesh.remove_degenerated_triangles(mesh, num_iterations)` <br>\n",
    "Degenerate triangles are triangles with collinear vertices (i.e., some vertices are lying in the same straight line). They have zero areas and their normals are undefined."
   ]
  },
  {
   "cell_type": "code",
   "execution_count": 8,
   "metadata": {},
   "outputs": [],
   "source": [
    "from numpy.linalg import norm\n",
    "\n",
    "def method2(mesh, detail=2.4e-2):\n",
    "\n",
    "    bbox_min, bbox_max = mesh.bbox\n",
    "    diag_len = norm(bbox_max - bbox_min)\n",
    "    target_len = diag_len * detail\n",
    "    print(\"Target resolution: {} mm\".format(target_len))\n",
    "\n",
    "    count = 0\n",
    "    mesh, __ = pymesh.remove_degenerated_triangles(mesh, 100)\n",
    "    mesh, __ = pymesh.split_long_edges(mesh, target_len)\n",
    "    num_vertices = mesh.num_vertices\n",
    "    while True:\n",
    "        mesh, __ = pymesh.collapse_short_edges(mesh, 1e-6, preserve_feature=True) # Remove extremely small edges\n",
    "        mesh, __ = pymesh.collapse_short_edges(mesh, target_len,\n",
    "                                               preserve_feature=True)\n",
    "        mesh, __ = pymesh.remove_obtuse_triangles(mesh, 150.0, 100)\n",
    "        if mesh.num_vertices == num_vertices:\n",
    "            break\n",
    "\n",
    "        num_vertices = mesh.num_vertices\n",
    "        print(\"#v: {}\".format(num_vertices))\n",
    "        count += 1\n",
    "        if count > 10: break\n",
    "\n",
    "    mesh = pymesh.resolve_self_intersection(mesh)\n",
    "    mesh, __ = pymesh.remove_duplicated_faces(mesh)\n",
    "    mesh = pymesh.compute_outer_hull(mesh)\n",
    "    mesh, __ = pymesh.remove_duplicated_faces(mesh)\n",
    "    mesh, __ = pymesh.remove_obtuse_triangles(mesh, 179.9, 5)\n",
    "    mesh, __ = pymesh.remove_isolated_vertices(mesh)\n",
    "\n",
    "    return mesh"
   ]
  },
  {
   "cell_type": "code",
   "execution_count": null,
   "metadata": {},
   "outputs": [],
   "source": [
    "components = pymesh.separate_mesh(submesh)\n",
    "\n",
    "if len(components) == 1:\n",
    "    repaired_submesh = method2(submesh)\n",
    "else:\n",
    "    repaired_components = []\n",
    "    for compoenent in components:\n",
    "        repaired_component = method2(compoenent)\n",
    "        repaired_components.append(repaired_component)\n",
    "    repaired_submesh = pymesh.merge_meshes(repaired_components)"
   ]
  },
  {
   "cell_type": "code",
   "execution_count": null,
   "metadata": {},
   "outputs": [],
   "source": [
    "visualize(repaired_submesh, filename=\"Repaired_submesh\")"
   ]
  },
  {
   "cell_type": "markdown",
   "metadata": {},
   "source": [
    "#### Align submesh\n",
    "Since we have modified the submesh, we need to change its boundary to what it used to be. Otherwise, when we combine the submesh and the remaining component later, there will be some small gaps."
   ]
  },
  {
   "cell_type": "code",
   "execution_count": 10,
   "metadata": {},
   "outputs": [],
   "source": [
    "aligned_submesh = align_submesh_boundary(remaining_mesh, repaired_submesh)"
   ]
  },
  {
   "cell_type": "code",
   "execution_count": null,
   "metadata": {},
   "outputs": [],
   "source": [
    "visualize(aligned_submesh, filename=\"Aligned submesh\")"
   ]
  },
  {
   "cell_type": "markdown",
   "metadata": {},
   "source": [
    "#### Merge two meshes"
   ]
  },
  {
   "cell_type": "code",
   "execution_count": 11,
   "metadata": {},
   "outputs": [],
   "source": [
    "repaired_full = replace_submesh_in_original(remaining_mesh, aligned_submesh)"
   ]
  },
  {
   "cell_type": "code",
   "execution_count": null,
   "metadata": {},
   "outputs": [],
   "source": [
    "visualize(repaired_full)"
   ]
  },
  {
   "cell_type": "markdown",
   "metadata": {},
   "source": [
    "#### Final refinement"
   ]
  },
  {
   "cell_type": "code",
   "execution_count": 14,
   "metadata": {},
   "outputs": [],
   "source": [
    "final = refinement(repaired_full)"
   ]
  },
  {
   "cell_type": "code",
   "execution_count": null,
   "metadata": {},
   "outputs": [],
   "source": [
    "self_intersection_stats(final)"
   ]
  },
  {
   "cell_type": "code",
   "execution_count": null,
   "metadata": {},
   "outputs": [],
   "source": [
    "visualize(final, filename=\"Final Outerhull\")"
   ]
  },
  {
   "cell_type": "code",
   "execution_count": null,
   "metadata": {},
   "outputs": [],
   "source": [
    "evaluation(outer_hull, final)"
   ]
  },
  {
   "cell_type": "code",
   "execution_count": null,
   "metadata": {},
   "outputs": [],
   "source": [
    "evaluate_displacement(outer_hull, final)"
   ]
  },
  {
   "cell_type": "code",
   "execution_count": null,
   "metadata": {},
   "outputs": [],
   "source": [
    "visualize_two_meshes(outer_hull, final)"
   ]
  },
  {
   "cell_type": "code",
   "execution_count": 17,
   "metadata": {},
   "outputs": [],
   "source": [
    "pymesh.save_mesh(\"temp.ply\", final, ascii=True)"
   ]
  },
  {
   "cell_type": "code",
   "execution_count": null,
   "metadata": {},
   "outputs": [],
   "source": []
  }
 ],
 "metadata": {
  "kernelspec": {
   "display_name": "pymesh_env",
   "language": "python",
   "name": "python3"
  },
  "language_info": {
   "codemirror_mode": {
    "name": "ipython",
    "version": 3
   },
   "file_extension": ".py",
   "mimetype": "text/x-python",
   "name": "python",
   "nbconvert_exporter": "python",
   "pygments_lexer": "ipython3",
   "version": "3.10.16"
  }
 },
 "nbformat": 4,
 "nbformat_minor": 2
}

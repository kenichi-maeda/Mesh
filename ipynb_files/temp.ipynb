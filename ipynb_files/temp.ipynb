{
 "cells": [
  {
   "cell_type": "markdown",
   "metadata": {},
   "source": [
    "## Method1"
   ]
  },
  {
   "cell_type": "code",
   "execution_count": 1,
   "metadata": {},
   "outputs": [],
   "source": [
    "import trimesh\n",
    "import pyvista as pv\n",
    "from utils import *"
   ]
  },
  {
   "cell_type": "markdown",
   "metadata": {},
   "source": [
    "#### Load a file"
   ]
  },
  {
   "cell_type": "code",
   "execution_count": 2,
   "metadata": {},
   "outputs": [],
   "source": [
    "mesh = pymesh.load_mesh(\"data/brain.ply\")"
   ]
  },
  {
   "cell_type": "code",
   "execution_count": 3,
   "metadata": {},
   "outputs": [
    {
     "name": "stdout",
     "output_type": "stream",
     "text": [
      "+-----------------------------------+---------+\n",
      "| Metric                            |   Value |\n",
      "+===================================+=========+\n",
      "| Number of vertices                |  114045 |\n",
      "+-----------------------------------+---------+\n",
      "| Number of faces                   |  228190 |\n",
      "+-----------------------------------+---------+\n",
      "| Number of intersecting face pairs |     402 |\n",
      "+-----------------------------------+---------+\n"
     ]
    }
   ],
   "source": [
    "self_intersection_stats(mesh)"
   ]
  },
  {
   "cell_type": "code",
   "execution_count": 4,
   "metadata": {},
   "outputs": [
    {
     "data": {
      "application/vnd.jupyter.widget-view+json": {
       "model_id": "f964f22b27f941808ae389d4609e2ab4",
       "version_major": 2,
       "version_minor": 0
      },
      "text/plain": [
       "Widget(value='<iframe src=\"http://localhost:35731/index.html?ui=P_0x7f5c736dab30_0&reconnect=auto\" class=\"pyvi…"
      ]
     },
     "metadata": {},
     "output_type": "display_data"
    },
    {
     "data": {
      "text/plain": [
       "None"
      ]
     },
     "metadata": {},
     "output_type": "display_data"
    }
   ],
   "source": [
    "visualize(mesh, filename=\"Initial Mesh\")"
   ]
  },
  {
   "cell_type": "code",
   "execution_count": 5,
   "metadata": {},
   "outputs": [
    {
     "name": "stderr",
     "output_type": "stream",
     "text": [
      "/home/kmaeda/anaconda3/envs/pymesh_env/lib/python3.10/site-packages/pyvista/core/pointset.py:1365: PyVistaDeprecationWarning: The current behavior of `pv.PolyData.n_faces` has been deprecated.\n",
      "                Use `pv.PolyData.n_cells` or `pv.PolyData.n_faces_strict` instead.\n",
      "                See the documentation in '`pv.PolyData.n_faces` for more information.\n",
      "  warnings.warn(\n"
     ]
    },
    {
     "data": {
      "application/vnd.jupyter.widget-view+json": {
       "model_id": "164022496967450a92f19e8560429710",
       "version_major": 2,
       "version_minor": 0
      },
      "text/plain": [
       "Widget(value='<iframe src=\"http://localhost:35731/index.html?ui=P_0x7f5c62aa1db0_1&reconnect=auto\" class=\"pyvi…"
      ]
     },
     "metadata": {},
     "output_type": "display_data"
    },
    {
     "data": {
      "text/plain": [
       "None"
      ]
     },
     "metadata": {},
     "output_type": "display_data"
    }
   ],
   "source": [
    "visualize_intersection(mesh, filename=\"Intersections\")"
   ]
  },
  {
   "cell_type": "markdown",
   "metadata": {},
   "source": [
    "#### Get outer hull (to remove inner components)"
   ]
  },
  {
   "cell_type": "code",
   "execution_count": 6,
   "metadata": {},
   "outputs": [],
   "source": [
    "outer_hull = pymesh.compute_outer_hull(mesh)"
   ]
  },
  {
   "cell_type": "code",
   "execution_count": 7,
   "metadata": {},
   "outputs": [
    {
     "name": "stdout",
     "output_type": "stream",
     "text": [
      "+-----------------------------------+---------+\n",
      "| Metric                            |   Value |\n",
      "+===================================+=========+\n",
      "| Number of vertices                |  104810 |\n",
      "+-----------------------------------+---------+\n",
      "| Number of faces                   |  209720 |\n",
      "+-----------------------------------+---------+\n",
      "| Number of intersecting face pairs |       0 |\n",
      "+-----------------------------------+---------+\n"
     ]
    }
   ],
   "source": [
    "self_intersection_stats(outer_hull)"
   ]
  },
  {
   "cell_type": "code",
   "execution_count": 8,
   "metadata": {},
   "outputs": [
    {
     "data": {
      "application/vnd.jupyter.widget-view+json": {
       "model_id": "4e9657ce2c564befa573a9d464c07759",
       "version_major": 2,
       "version_minor": 0
      },
      "text/plain": [
       "Widget(value='<iframe src=\"http://localhost:35731/index.html?ui=P_0x7f5c62e5aef0_2&reconnect=auto\" class=\"pyvi…"
      ]
     },
     "metadata": {},
     "output_type": "display_data"
    },
    {
     "data": {
      "text/plain": [
       "None"
      ]
     },
     "metadata": {},
     "output_type": "display_data"
    }
   ],
   "source": [
    "visualize(outer_hull, filename=\"After compute_outer_hull()\")"
   ]
  },
  {
   "cell_type": "code",
   "execution_count": 9,
   "metadata": {},
   "outputs": [
    {
     "data": {
      "application/vnd.jupyter.widget-view+json": {
       "model_id": "f8dacb97983d4cb1aa24f5ac3e793120",
       "version_major": 2,
       "version_minor": 0
      },
      "text/plain": [
       "Widget(value='<iframe src=\"http://localhost:38279/index.html?ui=P_0x7f98576d9360_3&reconnect=auto\" class=\"pyvi…"
      ]
     },
     "metadata": {},
     "output_type": "display_data"
    },
    {
     "data": {
      "text/plain": [
       "None"
      ]
     },
     "metadata": {},
     "output_type": "display_data"
    }
   ],
   "source": [
    "visualize_two_meshes(mesh, outer_hull)"
   ]
  },
  {
   "cell_type": "markdown",
   "metadata": {},
   "source": [
    "#### Define method1\n"
   ]
  },
  {
   "cell_type": "code",
   "execution_count": 9,
   "metadata": {},
   "outputs": [],
   "source": [
    "def method1(mesh, with_rounding=True, precision=11, max_iterations=15):\n",
    "    \"\"\"\n",
    "    Resolves self-intersections in a mesh iteratively.\n",
    "\n",
    "    Parameters:\n",
    "        mesh: The input mesh object.\n",
    "        with_rounding (bool): Enables rounding of vertices for stability. Default is True.\n",
    "        precision (int): Rounding precision level for vertices.\n",
    "        max_iterations (int): Maximum number of iterations allowed to resolve intersections.\n",
    "\n",
    "    Returns:\n",
    "        mesh: The processed mesh with no self-intersections.\n",
    "    \"\"\"\n",
    "    # Initial rounding of vertices\n",
    "    if (with_rounding):\n",
    "        mesh = pymesh.form_mesh(\n",
    "                np.round(mesh.vertices, precision),\n",
    "                mesh.faces);\n",
    "    intersecting_faces = pymesh.detect_self_intersection(mesh);\n",
    "\n",
    "    # Iterative process to resolve self-intersections\n",
    "    counter = 0;\n",
    "    while len(intersecting_faces) > 0 and counter < max_iterations:\n",
    "        if (with_rounding):\n",
    "            involved_vertices = np.unique(mesh.faces[intersecting_faces].ravel());\n",
    "\n",
    "            # Round only the involved vertices\n",
    "            # Suppose precision = 4. Then,\n",
    "            # [1.234567, 2.345678, 3.456789] <- One vertex example (x, y, z coords)\n",
    "            # becomes\n",
    "            # [1.23, 2.35, 3.46]\n",
    "            vertices_copy = mesh.vertices.copy()  \n",
    "            vertices_copy[involved_vertices, :] =\\\n",
    "                    np.round(mesh.vertices[involved_vertices, :],\n",
    "                            precision//2);\n",
    "        \n",
    "            mesh = pymesh.form_mesh(vertices_copy, mesh.faces) \n",
    "\n",
    "        mesh = pymesh.resolve_self_intersection(mesh, \"igl\");\n",
    "        mesh, __ = pymesh.remove_duplicated_faces(mesh, fins_only=True);\n",
    "        if (with_rounding):\n",
    "            mesh = pymesh.form_mesh(\n",
    "                    np.round(mesh.vertices, precision),\n",
    "                    mesh.faces);\n",
    "        mesh = intermediate(mesh) # Reload mesh. Otherwise, the next step fails in some cases.\n",
    "        intersecting_faces = pymesh.detect_self_intersection(mesh);\n",
    "        print(len(intersecting_faces))\n",
    "        counter += 1;\n",
    "\n",
    "    if len(intersecting_faces) > 0:\n",
    "        logging.warn(\"Resolving failed: max iteration reached!\");\n",
    "\n",
    "    return mesh"
   ]
  },
  {
   "cell_type": "code",
   "execution_count": 10,
   "metadata": {},
   "outputs": [
    {
     "name": "stdout",
     "output_type": "stream",
     "text": [
      "0\n"
     ]
    }
   ],
   "source": [
    "repaired_mesh = method1(mesh)"
   ]
  },
  {
   "cell_type": "code",
   "execution_count": 11,
   "metadata": {},
   "outputs": [
    {
     "name": "stdout",
     "output_type": "stream",
     "text": [
      "+-----------------------------------+---------+\n",
      "| Metric                            |   Value |\n",
      "+===================================+=========+\n",
      "| Number of vertices                |  114447 |\n",
      "+-----------------------------------+---------+\n",
      "| Number of faces                   |  229798 |\n",
      "+-----------------------------------+---------+\n",
      "| Number of intersecting face pairs |       0 |\n",
      "+-----------------------------------+---------+\n"
     ]
    }
   ],
   "source": [
    "self_intersection_stats(repaired_mesh)"
   ]
  },
  {
   "cell_type": "code",
   "execution_count": 12,
   "metadata": {},
   "outputs": [
    {
     "data": {
      "application/vnd.jupyter.widget-view+json": {
       "model_id": "d53b0224acee423394aa793f2e8712ad",
       "version_major": 2,
       "version_minor": 0
      },
      "text/plain": [
       "Widget(value='<iframe src=\"http://localhost:35731/index.html?ui=P_0x7f5c1fb58250_3&reconnect=auto\" class=\"pyvi…"
      ]
     },
     "metadata": {},
     "output_type": "display_data"
    },
    {
     "data": {
      "text/plain": [
       "None"
      ]
     },
     "metadata": {},
     "output_type": "display_data"
    }
   ],
   "source": [
    "visualize(repaired_mesh, filename=\"After applying method1\")"
   ]
  },
  {
   "cell_type": "code",
   "execution_count": 13,
   "metadata": {},
   "outputs": [
    {
     "name": "stdout",
     "output_type": "stream",
     "text": [
      "+-----------------------------------+------------------+------------------+\n",
      "| Metric                            |           Before |            After |\n",
      "+===================================+==================+==================+\n",
      "| Number of vertices                | 104810           | 114447           |\n",
      "+-----------------------------------+------------------+------------------+\n",
      "| Number of faces                   | 209720           | 229798           |\n",
      "+-----------------------------------+------------------+------------------+\n",
      "| Number of intersecting face pairs |      0           |      0           |\n",
      "+-----------------------------------+------------------+------------------+\n",
      "| Volume                            |      1.22503e+06 |      1.23075e+06 |\n",
      "+-----------------------------------+------------------+------------------+\n",
      "| Area                              | 175277           | 189938           |\n",
      "+-----------------------------------+------------------+------------------+\n"
     ]
    }
   ],
   "source": [
    "evaluation(outer_hull, repaired_mesh)"
   ]
  },
  {
   "cell_type": "code",
   "execution_count": 27,
   "metadata": {},
   "outputs": [],
   "source": [
    "mesh2 = pymesh.load_mesh(\"data/brain.ply\")"
   ]
  },
  {
   "cell_type": "code",
   "execution_count": 28,
   "metadata": {},
   "outputs": [],
   "source": [
    "pymesh.save_mesh(\"temp.ply\", pymesh.resolve_self_intersection(mesh2), ascii=True)"
   ]
  },
  {
   "cell_type": "code",
   "execution_count": null,
   "metadata": {},
   "outputs": [],
   "source": []
  }
 ],
 "metadata": {
  "kernelspec": {
   "display_name": "pymesh_env",
   "language": "python",
   "name": "python3"
  },
  "language_info": {
   "codemirror_mode": {
    "name": "ipython",
    "version": 3
   },
   "file_extension": ".py",
   "mimetype": "text/x-python",
   "name": "python",
   "nbconvert_exporter": "python",
   "pygments_lexer": "ipython3",
   "version": "3.10.16"
  }
 },
 "nbformat": 4,
 "nbformat_minor": 2
}

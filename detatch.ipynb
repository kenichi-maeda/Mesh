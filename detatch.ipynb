{
 "cells": [
  {
   "cell_type": "markdown",
   "metadata": {},
   "source": [
    "### Detach one from another"
   ]
  },
  {
   "cell_type": "code",
   "execution_count": 1,
   "metadata": {},
   "outputs": [],
   "source": [
    "import trimesh\n",
    "import numpy as np\n",
    "from utils import *"
   ]
  },
  {
   "cell_type": "code",
   "execution_count": 2,
   "metadata": {},
   "outputs": [],
   "source": [
    "mesh = trimesh.load(\"data/two_spheres2.ply\")"
   ]
  },
  {
   "cell_type": "markdown",
   "metadata": {},
   "source": [
    "Split the mesh into connected components"
   ]
  },
  {
   "cell_type": "code",
   "execution_count": 3,
   "metadata": {},
   "outputs": [],
   "source": [
    "connected_components = mesh.split(only_watertight=True)"
   ]
  },
  {
   "cell_type": "markdown",
   "metadata": {},
   "source": [
    "Compute centroids of each component"
   ]
  },
  {
   "cell_type": "code",
   "execution_count": 4,
   "metadata": {},
   "outputs": [],
   "source": [
    "centroids = [comp.centroid for comp in connected_components]"
   ]
  },
  {
   "cell_type": "markdown",
   "metadata": {},
   "source": [
    "Compute the vector between the centroids"
   ]
  },
  {
   "cell_type": "code",
   "execution_count": 5,
   "metadata": {},
   "outputs": [],
   "source": [
    "translation_vector = centroids[1] - centroids[0]\n",
    "distance = np.linalg.norm(translation_vector)\n",
    "normalized_vector = translation_vector / distance"
   ]
  },
  {
   "cell_type": "markdown",
   "metadata": {},
   "source": [
    "Shift the second component along the normalized vector"
   ]
  },
  {
   "cell_type": "code",
   "execution_count": null,
   "metadata": {},
   "outputs": [
    {
     "data": {
      "text/plain": [
       "<trimesh.Trimesh(vertices.shape=(476, 3), faces.shape=(948, 3), name=`two_spheres2.ply`)>"
      ]
     },
     "execution_count": 6,
     "metadata": {},
     "output_type": "execute_result"
    }
   ],
   "source": [
    "connected_components[1].apply_translation(normalized_vector * 0.7)"
   ]
  },
  {
   "cell_type": "code",
   "execution_count": 7,
   "metadata": {},
   "outputs": [],
   "source": [
    "new_mesh = trimesh.util.concatenate(connected_components)"
   ]
  },
  {
   "cell_type": "code",
   "execution_count": 8,
   "metadata": {},
   "outputs": [],
   "source": [
    "x = pymesh.form_mesh(vertices=new_mesh.vertices, faces = new_mesh.faces)"
   ]
  },
  {
   "cell_type": "code",
   "execution_count": 9,
   "metadata": {},
   "outputs": [
    {
     "data": {
      "application/vnd.jupyter.widget-view+json": {
       "model_id": "f8a350774bbc4e9b9bc450e83ec57808",
       "version_major": 2,
       "version_minor": 0
      },
      "text/plain": [
       "Widget(value='<iframe src=\"http://localhost:37609/index.html?ui=P_0x7f3b9e3a10f0_0&reconnect=auto\" class=\"pyvi…"
      ]
     },
     "metadata": {},
     "output_type": "display_data"
    },
    {
     "data": {
      "text/plain": [
       "None"
      ]
     },
     "metadata": {},
     "output_type": "display_data"
    }
   ],
   "source": [
    "visualize_two_meshes(mesh, x)"
   ]
  },
  {
   "cell_type": "code",
   "execution_count": null,
   "metadata": {},
   "outputs": [],
   "source": []
  },
  {
   "cell_type": "markdown",
   "metadata": {},
   "source": [
    "## Detach mesh"
   ]
  },
  {
   "cell_type": "code",
   "execution_count": 2,
   "metadata": {},
   "outputs": [],
   "source": [
    "import trimesh\n",
    "import numpy as np\n",
    "from utils import *"
   ]
  },
  {
   "cell_type": "code",
   "execution_count": null,
   "metadata": {},
   "outputs": [
    {
     "name": "stdout",
     "output_type": "stream",
     "text": [
      "[[ 465  844]\n",
      " [ 465 1199]\n",
      " [ 465  830]\n",
      " [ 465 1156]\n",
      " [ 828  465]\n",
      " [1154  465]\n",
      " [1211  465]\n",
      " [ 864  465]\n",
      " [1232  465]\n",
      " [ 825  465]\n",
      " [1194  465]]\n"
     ]
    }
   ],
   "source": [
    "### Generating a sample mesh\n",
    "\"\"\"\n",
    "mesh = trimesh.load(\"data/shrink.ply\")\n",
    "connected_components = mesh.split(only_watertight=True)\n",
    "centroids = [comp.centroid for comp in connected_components]\n",
    "translation_vector = centroids[1] - centroids[0]\n",
    "distance = np.linalg.norm(translation_vector)\n",
    "normalized_vector = translation_vector / distance\n",
    "connected_components[1].apply_translation(normalized_vector * 0.079)\n",
    "new_mesh = trimesh.util.concatenate(connected_components)\n",
    "x = pymesh.form_mesh(vertices=new_mesh.vertices, faces = new_mesh.faces)\n",
    "print(pymesh.detect_self_intersection(x))\n",
    "pymesh.save_mesh(\"data/shrink.ply\", x)\n",
    "\"\"\""
   ]
  },
  {
   "cell_type": "code",
   "execution_count": null,
   "metadata": {},
   "outputs": [],
   "source": []
  },
  {
   "cell_type": "code",
   "execution_count": 67,
   "metadata": {},
   "outputs": [],
   "source": [
    "import trimesh\n",
    "import open3d as o3d\n",
    "import numpy as np\n",
    "from utils import *\n",
    "from utils import *"
   ]
  },
  {
   "cell_type": "code",
   "execution_count": 68,
   "metadata": {},
   "outputs": [],
   "source": [
    "def trimesh_to_open3d(tri_mesh: trimesh.Trimesh) -> o3d.geometry.TriangleMesh:\n",
    "    o3d_mesh = o3d.geometry.TriangleMesh()\n",
    "    o3d_mesh.vertices = o3d.utility.Vector3dVector(tri_mesh.vertices)\n",
    "    o3d_mesh.triangles = o3d.utility.Vector3iVector(tri_mesh.faces)\n",
    "    return o3d_mesh\n",
    "\n",
    "def pymesh_to_trimesh(mesh):\n",
    "    return trimesh.Trimesh(vertices=mesh.vertices, faces=mesh.faces)\n",
    "\n",
    "def trimesh_to_pymesh(mesh):\n",
    "    return pymesh.form_mesh(vertices=mesh.vertices, faces=mesh.faces)\n",
    "\n",
    "def open3d_to_pymesh(o3d_mesh: o3d.geometry.TriangleMesh) -> pymesh.Mesh:\n",
    "    vertices = np.asarray(o3d_mesh.vertices)\n",
    "    faces = np.asarray(o3d_mesh.triangles)\n",
    "    return  pymesh.form_mesh(vertices, faces)"
   ]
  },
  {
   "cell_type": "code",
   "execution_count": 69,
   "metadata": {},
   "outputs": [
    {
     "name": "stdout",
     "output_type": "stream",
     "text": [
      "0.15174382028984734\n",
      "0.10271580593512712\n",
      "0.12595192967977561\n",
      "0.1094000787329456\n",
      "0.06338265389169823\n",
      "0.08543822385286422\n",
      "0.09304845251363987\n",
      "0.04139058208516351\n",
      "0.0657615088432917\n",
      "0.11416712315027365\n",
      "0.08833317312826063\n",
      "0.039019851598980096\n",
      "0.05910480225004458\n",
      "0.09875560125558888\n",
      "0.11422688028492113\n",
      "0.07263165275142384\n",
      "0.05060660772500468\n",
      "0.043659713150315554\n",
      "0.023202013056616674\n",
      "0.029827584034184455\n",
      "0.03584581449420547\n",
      "0.010068533758231768\n",
      "0.024565645337145395\n",
      "0.0379043478949616\n",
      "0.050716393365431045\n",
      "0.02681887257824601\n",
      "0.017740948919064362\n",
      "0.0661986061427297\n",
      "0.03229445737265595\n",
      "0.06410942698400957\n",
      "0.010233168337244015\n",
      "0.003943348559322186\n",
      "0.005044074046464657\n",
      "0.005670889600103792\n",
      "0.02967198795409586\n",
      "0.009580251900758473\n",
      "0.06655350605190882\n",
      "0.035714408557263835\n",
      "0.014206715072995623\n",
      "0.002471005070017933\n",
      "0.019897598483884376\n",
      "0.004069864929523681\n",
      "0.005295691202745829\n",
      "0.013331220104253907\n",
      "0.021435954000089828\n",
      "0.03419161476021514\n",
      "0.1675961857284172\n",
      "0.20110297483757705\n",
      "0.20431212833944726\n",
      "0.24008146963924043\n",
      "0.12010180781939413\n",
      "0.14783377327162858\n",
      "0.14153370300094748\n",
      "0.18229394829869466\n",
      "0.15093357052464587\n",
      "0.20880477465759345\n",
      "0.22811496988590982\n",
      "0.26760501761215344\n",
      "0.26659366992739986\n",
      "0.30648762255102563\n",
      "0.30692271034936075\n",
      "0.3389044395112922\n",
      "0.11178630034242969\n",
      "0.15584553042177537\n",
      "0.17656356176857307\n",
      "0.19420704540244207\n",
      "0.23388928881201915\n",
      "0.28237468425986234\n",
      "0.2792545913503643\n",
      "0.32824416425350966\n",
      "0.3823829852390709\n",
      "0.10585439386991533\n",
      "0.105276132090146\n",
      "0.12886797786628948\n",
      "0.15248527363221392\n",
      "0.2198502566214632\n",
      "0.23754476012174258\n",
      "0.25122066696964473\n",
      "0.284222257294855\n",
      "0.36555940344542415\n",
      "0.4138041689180799\n",
      "0.393687673898781\n",
      "0.42779675795715205\n",
      "0.1030869465578329\n",
      "0.14255943858163084\n",
      "0.17017589052008342\n",
      "0.219281273953695\n",
      "0.2617932481652714\n",
      "0.30906523105971967\n",
      "0.3558820791830419\n",
      "0.39641602547073873\n",
      "0.4390127384748813\n",
      "0.14755946886365787\n",
      "0.1903341486048014\n",
      "0.1704818880302471\n",
      "0.2184405027373106\n",
      "0.0798016579722457\n",
      "0.11143949173502804\n",
      "0.12608989002176635\n",
      "0.09192280718848259\n",
      "0.13209598244500492\n",
      "0.17391819578077253\n",
      "0.233997764082654\n",
      "0.17233283964893625\n",
      "0.22081698926902962\n",
      "0.26058435917945405\n",
      "0.2561821423909266\n",
      "0.289220281909063\n",
      "0.07211015303078908\n",
      "0.1255675112759553\n",
      "0.12791028602793517\n",
      "0.17000343768275028\n",
      "0.22259253841712442\n",
      "0.20851403607499547\n",
      "0.2585463843673534\n",
      "0.3235574491848629\n",
      "0.05420872954968609\n",
      "0.058135482403969235\n",
      "0.07027045537310274\n",
      "0.0933251449695892\n",
      "0.10325772646612043\n",
      "0.16989566617833013\n",
      "0.1712043059563627\n",
      "0.20541980884433492\n",
      "0.28706906871487403\n",
      "0.3432502917452417\n",
      "0.31196003839640657\n",
      "0.3480140867671991\n",
      "0.05453434095797225\n",
      "0.11041060880971845\n",
      "0.15006383465121761\n",
      "0.14703050490291844\n",
      "0.22567257013475367\n",
      "0.27227625290692037\n",
      "0.35628426380294215\n",
      "0.2324982677460962\n",
      "0.27512431275666227\n",
      "0.2617140076030977\n",
      "0.28795075976731654\n",
      "0.30316294862357457\n",
      "0.3489157263761197\n",
      "0.3807274021108858\n",
      "0.2849505633051442\n",
      "0.3249040550303865\n",
      "0.3882369570038168\n",
      "0.3993390696240569\n",
      "0.31915328346997596\n",
      "0.3711427592541096\n",
      "0.40041525521374627\n",
      "0.33519522230501386\n",
      "0.36610844618325367\n",
      "0.4215172868669688\n",
      "0.42177639564921277\n",
      "0.4450967418656942\n",
      "0.4007721671767819\n",
      "0.44507847652864796\n",
      "0.4698604492878031\n",
      "0.37596858785077786\n",
      "0.41075433462738914\n",
      "0.4538441454663785\n",
      "0.453249577888268\n",
      "0.4709593099847429\n",
      "0.5026101380816395\n",
      "0.5002975852631977\n",
      "0.5035667808471113\n",
      "0.5272873348141299\n",
      "0.38975346729907456\n",
      "0.4531198875290639\n",
      "0.5056136577291838\n",
      "0.5326547947224983\n",
      "0.40297831432555525\n",
      "0.4486390792820273\n",
      "0.4980657889893989\n",
      "0.5499288100091279\n",
      "0.5332292674758384\n",
      "0.5570103328410969\n",
      "0.5010553119075459\n",
      "0.5334595350806121\n",
      "0.5474764325897189\n",
      "0.42606181362712675\n",
      "0.4735889210372864\n",
      "0.037726082965998005\n",
      "0.06790332190560934\n",
      "0.007942508173087294\n",
      "0.012885425365331169\n",
      "0.020599642500632075\n",
      "0.0057955490842090404\n",
      "0.004987643417644021\n",
      "0.014132719415300716\n",
      "0.023252138891319378\n",
      "0.05127169908595108\n",
      "0.08286497754550907\n",
      "0.010267452997990053\n",
      "0.032801053501866656\n",
      "0.04659251612783262\n",
      "0.08874832886680101\n",
      "0.02837081251253272\n",
      "0.015884940826316182\n",
      "0.02481251319541544\n",
      "0.02347926244936989\n",
      "0.059678408416628546\n",
      "0.04479562707999122\n",
      "0.04840899192753622\n",
      "0.07548020214385595\n",
      "0.10728415687215266\n",
      "0.032499011448102605\n",
      "0.06131229070756153\n",
      "0.08218143917631769\n",
      "0.0661397637954977\n",
      "0.054230816710212536\n",
      "0.10177778908055851\n",
      "0.12207579937188018\n",
      "0.08186690182081864\n",
      "0.11038636082209992\n",
      "0.15826628555612413\n",
      "0.07300943431239502\n",
      "0.10058340777165309\n",
      "0.14416459246891888\n",
      "0.17440066556029574\n",
      "0.07297985767200724\n",
      "0.12935554403505628\n",
      "0.08850034450813521\n",
      "0.1597083725605346\n",
      "0.16460090254552137\n",
      "0.18769728366759475\n",
      "0.2158071481029668\n",
      "0.1777845143081825\n",
      "0.10508834385641196\n",
      "0.14704832348258007\n",
      "0.17552824919468085\n",
      "0.22223702607257426\n",
      "0.26667907917752554\n",
      "0.3170349836336521\n",
      "0.361966752096701\n",
      "0.4013405077546734\n",
      "0.45120444015368744\n",
      "0.12205683440744157\n",
      "0.14540375090824992\n",
      "0.13264908365670366\n",
      "0.17065789666344275\n",
      "0.24463256873009642\n",
      "0.2697190989721645\n",
      "0.2727478647804688\n",
      "0.3055162616122565\n",
      "0.39315236714565494\n",
      "0.41257185085562614\n",
      "0.4502712689204427\n",
      "0.4518703755608046\n",
      "0.14844622112403638\n",
      "0.19627137829019936\n",
      "0.23176986842002523\n",
      "0.22015524785635265\n",
      "0.2735144099285268\n",
      "0.3139483560268104\n",
      "0.3334342410195371\n",
      "0.3738873361375836\n",
      "0.43881314016478706\n",
      "0.1600274558323427\n",
      "0.18547304775411275\n",
      "0.19877216736988282\n",
      "0.2275363203601863\n",
      "0.2759244917240148\n",
      "0.21300377041593274\n",
      "0.2718902521627642\n",
      "0.3297606475019353\n",
      "0.36905971820967703\n",
      "0.33751228290286484\n",
      "0.37024120622143347\n",
      "0.40100840649941183\n",
      "0.23029489168383196\n",
      "0.26804758972727477\n",
      "0.2681894555726805\n",
      "0.3109325649661182\n",
      "0.056791188410185996\n",
      "0.0898786667824387\n",
      "0.08637832633797649\n",
      "0.149360459337292\n",
      "0.18725922730418196\n",
      "0.18334054980022277\n",
      "0.23171842854803754\n",
      "0.275609827558457\n",
      "0.3146030287437272\n",
      "0.3112028387849867\n",
      "0.36538151183032286\n",
      "0.08087417980298035\n",
      "0.07199891821791443\n",
      "0.08823352233055462\n",
      "0.11241095285961705\n",
      "0.17344597447253218\n",
      "0.1903422169975245\n",
      "0.19677044332087537\n",
      "0.22513770442447842\n",
      "0.32858312509956134\n",
      "0.3707432064906519\n",
      "0.31025697400300895\n",
      "0.10889813377157435\n",
      "0.1437169960876909\n",
      "0.11177912700897093\n",
      "0.1628538839978829\n",
      "0.16534052178236455\n",
      "0.2417522384051528\n",
      "0.2652057760634254\n",
      "0.20539475165404525\n",
      "0.30413696286492736\n",
      "0.12145433435817755\n",
      "0.15684429742397119\n",
      "0.1335033142757779\n",
      "0.1776383135822594\n",
      "0.18661235088672004\n",
      "0.21333338083583056\n",
      "0.23408561580653223\n",
      "0.2806196581798231\n",
      "0.2976983723106186\n",
      "0.30912676606094136\n",
      "0.3242659293667694\n",
      "0.36930491139844907\n",
      "0.2100395972358309\n",
      "0.255921849627225\n",
      "0.23406233593209605\n",
      "0.50653634715545\n",
      "0.5506608255520529\n",
      "0.570980923562575\n",
      "0.5594649662439726\n",
      "0.5149077098007444\n",
      "0.55939729936875\n",
      "0.43176391186038166\n",
      "0.4891451115941392\n",
      "0.5072104130893828\n",
      "0.4933362033423689\n",
      "0.5350458049550965\n",
      "0.542427067790381\n",
      "0.5672743585190303\n",
      "0.540861458920258\n",
      "0.5499213573388377\n",
      "0.5558338160095255\n",
      "0.5491038706684431\n",
      "0.43829984152992635\n",
      "0.3700466057970562\n",
      "0.4755837023527161\n",
      "0.4261550306058774\n",
      "0.4937807850295752\n",
      "0.4835051329189453\n",
      "0.5072566202293842\n",
      "0.5330026077383103\n",
      "0.48546373214127814\n",
      "0.5088955818160251\n",
      "0.4291816202940957\n",
      "0.4710740874159827\n",
      "0.5116819601295703\n",
      "0.4645634215058644\n",
      "0.4217943077877443\n",
      "0.37664596015620366\n",
      "0.44442202805183717\n",
      "0.46193582801619787\n",
      "0.40040369608210163\n",
      "0.4629029104816367\n",
      "0.38372973742706346\n",
      "0.440645919823167\n",
      "0.3578864794701479\n",
      "0.4670541614800429\n",
      "0.39897667768057304\n",
      "0.3513102063389185\n",
      "0.42981923761452495\n",
      "0.3055851341728834\n",
      "0.3489136634126383\n",
      "0.335502714455769\n",
      "0.28335038261157686\n",
      "0.36334824125428\n"
     ]
    }
   ],
   "source": [
    "def detach_inner_component(\n",
    "    input_path,\n",
    "    contact_threshold=0.001,\n",
    "    num_sample_points=50000\n",
    "):\n",
    "    \"\"\"\n",
    "    1) Use trimesh to read and split (connected components).\n",
    "    2) Convert each submesh to Open3D geometry.\n",
    "    3) Push the inner mesh inward where it contacts the outer mesh.\n",
    "    \"\"\"\n",
    "    # 1) Read mesh with trimesh and split into multiple components\n",
    "    tm = trimesh.load(input_path, process=False)\n",
    "    submeshes = tm.split(only_watertight=True) \n",
    "    \n",
    "    # 2) Sort by volume\n",
    "    submeshes_sorted = sorted(submeshes, key=lambda m: m.volume)\n",
    "    mesh_inner_tm = submeshes_sorted[0]\n",
    "    mesh_outer_tm = submeshes_sorted[-1]\n",
    "    \n",
    "    # 3) Convert to Open3D\n",
    "    mesh_inner = trimesh_to_open3d(mesh_inner_tm)\n",
    "    mesh_outer = trimesh_to_open3d(mesh_outer_tm)\n",
    "    \n",
    "    # For visualization and processing later\n",
    "    mesh_inner.compute_vertex_normals()\n",
    "    mesh_outer.compute_vertex_normals()\n",
    "\n",
    "    # Sample outer for distance checks\n",
    "    # Generate num_sample_points uniformly distributed points on the surface of mesh_outer. This helps in efficiently computing the nearest neighbors.\n",
    "    pcd_outer = mesh_outer.sample_points_poisson_disk(number_of_points=num_sample_points)\n",
    "    pcd_tree = o3d.geometry.KDTreeFlann(pcd_outer)\n",
    "\n",
    "    inner_vertices = np.asarray(mesh_inner.vertices)\n",
    "    center_inner = np.mean(inner_vertices, axis=0)\n",
    "\n",
    "    # For each vertex, find distance to outer sphere\n",
    "    for i in range(len(inner_vertices)):\n",
    "        v = inner_vertices[i]\n",
    "        # k: # of nearest neighors found (should be 1)\n",
    "        # idx: Index of the nearest neighbor (outersurface)\n",
    "        # dist_sq: Squared distance to the nearst neighbor\n",
    "        k, idx, dist_sq = pcd_tree.search_knn_vector_3d(v, 1) # 1 -> We want a nearest neighbor\n",
    "        if k > 0:\n",
    "            closest_point = np.asarray(pcd_outer.points)[idx[0]]\n",
    "            dist = np.linalg.norm(v - closest_point)\n",
    "            print(dist)\n",
    "            if dist < contact_threshold:\n",
    "                # shrink inward by (contact_threshold - dist)\n",
    "                offset = contact_threshold - dist\n",
    "                direction = v - center_inner\n",
    "                r_len = np.linalg.norm(direction)\n",
    "                if r_len > 1e-12:\n",
    "                    direction_unit = direction / r_len\n",
    "                    inner_vertices[i] = v - offset * direction_unit\n",
    "\n",
    "\n",
    "    mesh_inner.vertices = o3d.utility.Vector3dVector(inner_vertices)\n",
    "\n",
    "    # Merge the two meshes\n",
    "    combined_mesh = mesh_inner + mesh_outer\n",
    "    return combined_mesh\n",
    "\n",
    "\n",
    "input_ply = \"data/shrink.ply\"\n",
    "final = detach_inner_component(input_path=input_ply, contact_threshold=0.03, num_sample_points=50000)"
   ]
  },
  {
   "cell_type": "code",
   "execution_count": 71,
   "metadata": {},
   "outputs": [
    {
     "name": "stdout",
     "output_type": "stream",
     "text": [
      "[[ 465  844]\n",
      " [ 465 1199]\n",
      " [ 465  830]\n",
      " [ 465 1156]\n",
      " [ 828  465]\n",
      " [1154  465]\n",
      " [1211  465]\n",
      " [ 864  465]\n",
      " [1232  465]\n",
      " [ 825  465]\n",
      " [1194  465]]\n",
      "[]\n"
     ]
    }
   ],
   "source": [
    "original = pymesh.load_mesh(\"data/shrink.ply\")\n",
    "final = open3d_to_pymesh(final)\n",
    "print(pymesh.detect_self_intersection(original))\n",
    "print(pymesh.detect_self_intersection(final))"
   ]
  },
  {
   "cell_type": "code",
   "execution_count": 72,
   "metadata": {},
   "outputs": [
    {
     "data": {
      "application/vnd.jupyter.widget-view+json": {
       "model_id": "da9403ef9079482d8930bd9910e1ee19",
       "version_major": 2,
       "version_minor": 0
      },
      "text/plain": [
       "Widget(value='<iframe src=\"http://localhost:41219/index.html?ui=P_0x7f6858377400_9&reconnect=auto\" class=\"pyvi…"
      ]
     },
     "metadata": {},
     "output_type": "display_data"
    },
    {
     "data": {
      "text/plain": [
       "None"
      ]
     },
     "metadata": {},
     "output_type": "display_data"
    }
   ],
   "source": [
    "visualize_two_meshes(original, final)"
   ]
  },
  {
   "cell_type": "code",
   "execution_count": 73,
   "metadata": {},
   "outputs": [],
   "source": [
    "tri_original = pymesh_to_trimesh(original)\n",
    "tri_final = pymesh_to_trimesh(final)"
   ]
  },
  {
   "cell_type": "code",
   "execution_count": 74,
   "metadata": {},
   "outputs": [],
   "source": [
    "original_submeshes = tri_original.split(only_watertight=True)\n",
    "original_inner = sorted(original_submeshes, key=lambda m: m.volume)[0]\n",
    "final_submeshes = tri_final.split(only_watertight=True)\n",
    "final_inner = sorted(final_submeshes, key=lambda m: m.volume)[0]"
   ]
  },
  {
   "cell_type": "code",
   "execution_count": 75,
   "metadata": {},
   "outputs": [
    {
     "name": "stdout",
     "output_type": "stream",
     "text": [
      "+-----------------------------------+-----------+-----------+\n",
      "| Metric                            |    Before |     After |\n",
      "+===================================+===========+===========+\n",
      "| Number of vertices                | 368       | 368       |\n",
      "+-----------------------------------+-----------+-----------+\n",
      "| Number of faces                   | 732       | 732       |\n",
      "+-----------------------------------+-----------+-----------+\n",
      "| Number of intersecting face pairs |   0       |   0       |\n",
      "+-----------------------------------+-----------+-----------+\n",
      "| Volume                            |   1.27715 |   1.27028 |\n",
      "+-----------------------------------+-----------+-----------+\n",
      "| Area                              |   5.7148  |   5.69626 |\n",
      "+-----------------------------------+-----------+-----------+\n",
      "| Intact vertices (%)               | nan       |  91.5761  |\n",
      "+-----------------------------------+-----------+-----------+\n"
     ]
    }
   ],
   "source": [
    "evaluation(original_inner, final_inner)"
   ]
  }
 ],
 "metadata": {
  "kernelspec": {
   "display_name": "pymesh_env",
   "language": "python",
   "name": "python3"
  },
  "language_info": {
   "codemirror_mode": {
    "name": "ipython",
    "version": 3
   },
   "file_extension": ".py",
   "mimetype": "text/x-python",
   "name": "python",
   "nbconvert_exporter": "python",
   "pygments_lexer": "ipython3",
   "version": "3.10.16"
  }
 },
 "nbformat": 4,
 "nbformat_minor": 2
}

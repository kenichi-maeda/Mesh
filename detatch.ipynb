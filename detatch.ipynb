{
 "cells": [
  {
   "cell_type": "markdown",
   "metadata": {},
   "source": [
    "### Detach one from another"
   ]
  },
  {
   "cell_type": "code",
   "execution_count": 1,
   "metadata": {},
   "outputs": [],
   "source": [
    "import trimesh\n",
    "import numpy as np\n",
    "from utils import *"
   ]
  },
  {
   "cell_type": "code",
   "execution_count": 2,
   "metadata": {},
   "outputs": [],
   "source": [
    "mesh = trimesh.load(\"data/two_spheres2.ply\")"
   ]
  },
  {
   "cell_type": "markdown",
   "metadata": {},
   "source": [
    "Split the mesh into connected components"
   ]
  },
  {
   "cell_type": "code",
   "execution_count": 3,
   "metadata": {},
   "outputs": [],
   "source": [
    "connected_components = mesh.split(only_watertight=True)"
   ]
  },
  {
   "cell_type": "markdown",
   "metadata": {},
   "source": [
    "Compute centroids of each component"
   ]
  },
  {
   "cell_type": "code",
   "execution_count": 4,
   "metadata": {},
   "outputs": [],
   "source": [
    "centroids = [comp.centroid for comp in connected_components]"
   ]
  },
  {
   "cell_type": "markdown",
   "metadata": {},
   "source": [
    "Compute the vector between the centroids"
   ]
  },
  {
   "cell_type": "code",
   "execution_count": 5,
   "metadata": {},
   "outputs": [],
   "source": [
    "translation_vector = centroids[1] - centroids[0]\n",
    "distance = np.linalg.norm(translation_vector)\n",
    "normalized_vector = translation_vector / distance"
   ]
  },
  {
   "cell_type": "markdown",
   "metadata": {},
   "source": [
    "Shift the second component along the normalized vector"
   ]
  },
  {
   "cell_type": "code",
   "execution_count": null,
   "metadata": {},
   "outputs": [
    {
     "data": {
      "text/plain": [
       "<trimesh.Trimesh(vertices.shape=(476, 3), faces.shape=(948, 3), name=`two_spheres2.ply`)>"
      ]
     },
     "execution_count": 6,
     "metadata": {},
     "output_type": "execute_result"
    }
   ],
   "source": [
    "connected_components[1].apply_translation(normalized_vector * 0.7)"
   ]
  },
  {
   "cell_type": "code",
   "execution_count": 7,
   "metadata": {},
   "outputs": [],
   "source": [
    "new_mesh = trimesh.util.concatenate(connected_components)"
   ]
  },
  {
   "cell_type": "code",
   "execution_count": 8,
   "metadata": {},
   "outputs": [],
   "source": [
    "x = pymesh.form_mesh(vertices=new_mesh.vertices, faces = new_mesh.faces)"
   ]
  },
  {
   "cell_type": "code",
   "execution_count": 9,
   "metadata": {},
   "outputs": [
    {
     "data": {
      "application/vnd.jupyter.widget-view+json": {
       "model_id": "f8a350774bbc4e9b9bc450e83ec57808",
       "version_major": 2,
       "version_minor": 0
      },
      "text/plain": [
       "Widget(value='<iframe src=\"http://localhost:37609/index.html?ui=P_0x7f3b9e3a10f0_0&reconnect=auto\" class=\"pyvi…"
      ]
     },
     "metadata": {},
     "output_type": "display_data"
    },
    {
     "data": {
      "text/plain": [
       "None"
      ]
     },
     "metadata": {},
     "output_type": "display_data"
    }
   ],
   "source": [
    "visualize_two_meshes(mesh, x)"
   ]
  },
  {
   "cell_type": "code",
   "execution_count": null,
   "metadata": {},
   "outputs": [],
   "source": []
  },
  {
   "cell_type": "code",
   "execution_count": null,
   "metadata": {},
   "outputs": [],
   "source": []
  },
  {
   "cell_type": "code",
   "execution_count": 1,
   "metadata": {},
   "outputs": [],
   "source": [
    "import trimesh\n",
    "import numpy as np\n",
    "from utils import *"
   ]
  },
  {
   "cell_type": "code",
   "execution_count": 38,
   "metadata": {},
   "outputs": [
    {
     "name": "stdout",
     "output_type": "stream",
     "text": [
      "[[ 465  844]\n",
      " [ 465 1199]\n",
      " [ 465  830]\n",
      " [ 465 1156]\n",
      " [ 828  465]\n",
      " [1154  465]\n",
      " [1211  465]\n",
      " [ 864  465]\n",
      " [1232  465]\n",
      " [ 825  465]\n",
      " [1194  465]]\n"
     ]
    }
   ],
   "source": [
    "mesh = trimesh.load(\"data/shrink.ply\")\n",
    "connected_components = mesh.split(only_watertight=True)\n",
    "centroids = [comp.centroid for comp in connected_components]\n",
    "translation_vector = centroids[1] - centroids[0]\n",
    "distance = np.linalg.norm(translation_vector)\n",
    "normalized_vector = translation_vector / distance\n",
    "connected_components[1].apply_translation(normalized_vector * 0.079)\n",
    "new_mesh = trimesh.util.concatenate(connected_components)\n",
    "x = pymesh.form_mesh(vertices=new_mesh.vertices, faces = new_mesh.faces)\n",
    "print(pymesh.detect_self_intersection(x))"
   ]
  },
  {
   "cell_type": "code",
   "execution_count": 39,
   "metadata": {},
   "outputs": [
    {
     "data": {
      "application/vnd.jupyter.widget-view+json": {
       "model_id": "b5673154391048b389236c4ad94aa063",
       "version_major": 2,
       "version_minor": 0
      },
      "text/plain": [
       "Widget(value='<iframe src=\"http://localhost:40761/index.html?ui=P_0x7f2247f8a320_17&reconnect=auto\" class=\"pyv…"
      ]
     },
     "metadata": {},
     "output_type": "display_data"
    },
    {
     "data": {
      "text/plain": [
       "None"
      ]
     },
     "metadata": {},
     "output_type": "display_data"
    }
   ],
   "source": [
    "visualize_intersection(x)"
   ]
  },
  {
   "cell_type": "code",
   "execution_count": 41,
   "metadata": {},
   "outputs": [],
   "source": [
    "pymesh.save_mesh(\"data/shrink.ply\", x)"
   ]
  },
  {
   "cell_type": "code",
   "execution_count": null,
   "metadata": {},
   "outputs": [],
   "source": []
  },
  {
   "cell_type": "code",
   "execution_count": 11,
   "metadata": {},
   "outputs": [
    {
     "name": "stdout",
     "output_type": "stream",
     "text": [
      "Output saved to temp.ply\n"
     ]
    }
   ],
   "source": [
    "import trimesh\n",
    "import open3d as o3d\n",
    "import numpy as np\n",
    "\n",
    "def trimesh_to_open3d(tri_mesh: trimesh.Trimesh) -> o3d.geometry.TriangleMesh:\n",
    "    \"\"\"\n",
    "    Convert a trimesh.Trimesh to an open3d.geometry.TriangleMesh.\n",
    "    \"\"\"\n",
    "    o3d_mesh = o3d.geometry.TriangleMesh()\n",
    "    o3d_mesh.vertices = o3d.utility.Vector3dVector(tri_mesh.vertices)\n",
    "    o3d_mesh.triangles = o3d.utility.Vector3iVector(tri_mesh.faces)\n",
    "    return o3d_mesh\n",
    "\n",
    "\n",
    "def detach_inner_sphere_trimesh(\n",
    "    input_path,\n",
    "    output_path,\n",
    "    contact_threshold=0.001,\n",
    "    num_sample_points=50000\n",
    "):\n",
    "    \"\"\"\n",
    "    1) Use trimesh to read and split (connected components).\n",
    "    2) Convert each submesh to Open3D geometry.\n",
    "    3) Push the inner mesh inward where it contacts the outer mesh.\n",
    "    4) (Optionally) smooth the inner mesh.\n",
    "    5) Save final mesh in Open3D.\n",
    "    \"\"\"\n",
    "    # 1) Read mesh with trimesh\n",
    "    tm = trimesh.load(input_path, process=False)\n",
    "    \n",
    "    # 2) Split into connected components (sub-meshes)\n",
    "    submeshes = tm.split(only_watertight=True) \n",
    "    \n",
    "    # Sort by number of faces  ### FIX THIS!!!!\n",
    "    submeshes_sorted = sorted(submeshes, key=lambda m: m.volume)\n",
    "    mesh_inner_tm = submeshes_sorted[0]\n",
    "    mesh_outer_tm = submeshes_sorted[-1]\n",
    "    \n",
    "    # 3) Convert to Open3D\n",
    "    mesh_inner = trimesh_to_open3d(mesh_inner_tm)\n",
    "    mesh_outer = trimesh_to_open3d(mesh_outer_tm)\n",
    "    \n",
    "    mesh_inner.compute_vertex_normals()\n",
    "    mesh_outer.compute_vertex_normals()\n",
    "\n",
    "    # Sample outer for distance checks\n",
    "    pcd_outer = mesh_outer.sample_points_poisson_disk(number_of_points=num_sample_points)\n",
    "    pcd_tree = o3d.geometry.KDTreeFlann(pcd_outer)\n",
    "\n",
    "    inner_vertices = np.asarray(mesh_inner.vertices)\n",
    "    center_inner = np.mean(inner_vertices, axis=0)\n",
    "\n",
    "    # For each vertex, find distance to outer sphere\n",
    "    for i in range(len(inner_vertices)):\n",
    "        v = inner_vertices[i]\n",
    "        k, idx, dist_sq = pcd_tree.search_knn_vector_3d(v, 1)\n",
    "        if k > 0:\n",
    "            closest_point = np.asarray(pcd_outer.points)[idx[0]]\n",
    "            dist = np.linalg.norm(v - closest_point)\n",
    "            if dist < contact_threshold:\n",
    "                # shrink radially inward by (contact_threshold - dist)\n",
    "                offset = contact_threshold - dist\n",
    "                direction = v - center_inner\n",
    "                r_len = np.linalg.norm(direction)\n",
    "                if r_len > 1e-12:\n",
    "                    direction_unit = direction / r_len\n",
    "                    inner_vertices[i] = v - offset * direction_unit\n",
    "\n",
    "\n",
    "    mesh_inner.vertices = o3d.utility.Vector3dVector(inner_vertices)\n",
    "\n",
    "\n",
    "    # 7) Merge the two meshes in Open3D\n",
    "    combined_mesh = mesh_inner + mesh_outer\n",
    "    \n",
    "    # 8) Write out the combined mesh\n",
    "    o3d.io.write_triangle_mesh(output_path, combined_mesh)\n",
    "    print(f\"Output saved to {output_path}\")\n",
    "\n",
    "\n",
    "\n",
    "input_ply = \"data/shrink.ply\"\n",
    "output_ply = \"temp.ply\"\n",
    "detach_inner_sphere_trimesh(\n",
    "    input_path=input_ply,\n",
    "    output_path=output_ply,\n",
    "    contact_threshold=0.08,\n",
    "    num_sample_points=50000\n",
    "    \n",
    ")"
   ]
  },
  {
   "cell_type": "code",
   "execution_count": 12,
   "metadata": {},
   "outputs": [
    {
     "name": "stdout",
     "output_type": "stream",
     "text": [
      "[[ 465  844]\n",
      " [ 465 1199]\n",
      " [ 465  830]\n",
      " [ 465 1156]\n",
      " [ 828  465]\n",
      " [1154  465]\n",
      " [1211  465]\n",
      " [ 864  465]\n",
      " [1232  465]\n",
      " [ 825  465]\n",
      " [1194  465]]\n",
      "[]\n"
     ]
    }
   ],
   "source": [
    "original = pymesh.load_mesh(\"data/shrink.ply\")\n",
    "final = pymesh.load_mesh(\"temp.ply\")\n",
    "print(pymesh.detect_self_intersection(original))\n",
    "print(pymesh.detect_self_intersection(final))"
   ]
  },
  {
   "cell_type": "code",
   "execution_count": 13,
   "metadata": {},
   "outputs": [
    {
     "data": {
      "application/vnd.jupyter.widget-view+json": {
       "model_id": "78a103c7ef5049288935f6360e62b0e5",
       "version_major": 2,
       "version_minor": 0
      },
      "text/plain": [
       "Widget(value='<iframe src=\"http://localhost:37889/index.html?ui=P_0x7f1e26249270_2&reconnect=auto\" class=\"pyvi…"
      ]
     },
     "metadata": {},
     "output_type": "display_data"
    },
    {
     "data": {
      "text/plain": [
       "None"
      ]
     },
     "metadata": {},
     "output_type": "display_data"
    }
   ],
   "source": [
    "visualize_two_meshes(original, final)"
   ]
  },
  {
   "cell_type": "code",
   "execution_count": 5,
   "metadata": {},
   "outputs": [],
   "source": [
    "def pymesh_to_trimesh(mesh):\n",
    "    return trimesh.Trimesh(vertices=mesh.vertices, faces=mesh.faces)\n",
    "\n",
    "def trimesh_to_pymesh(mesh):\n",
    "    return pymesh.form_mesh(vertices=mesh.vertices, faces=mesh.faces)"
   ]
  },
  {
   "cell_type": "code",
   "execution_count": 6,
   "metadata": {},
   "outputs": [],
   "source": [
    "tri_original = pymesh_to_trimesh(original)\n",
    "tri_final = pymesh_to_trimesh(final)"
   ]
  },
  {
   "cell_type": "code",
   "execution_count": 7,
   "metadata": {},
   "outputs": [],
   "source": [
    "original_submeshes = tri_original.split(only_watertight=True)\n",
    "original_inner = sorted(original_submeshes, key=lambda m: m.volume)[0]\n",
    "final_submeshes = tri_final.split(only_watertight=True)\n",
    "final_inner = sorted(final_submeshes, key=lambda m: m.volume)[0]"
   ]
  },
  {
   "cell_type": "code",
   "execution_count": 8,
   "metadata": {},
   "outputs": [
    {
     "name": "stdout",
     "output_type": "stream",
     "text": [
      "+-----------------------------------+-----------+-----------+\n",
      "| Metric                            |    Before |     After |\n",
      "+===================================+===========+===========+\n",
      "| Number of vertices                | 368       | 368       |\n",
      "+-----------------------------------+-----------+-----------+\n",
      "| Number of faces                   | 732       | 732       |\n",
      "+-----------------------------------+-----------+-----------+\n",
      "| Number of intersecting face pairs |   0       |   0       |\n",
      "+-----------------------------------+-----------+-----------+\n",
      "| Volume                            |   1.27715 |   1.23444 |\n",
      "+-----------------------------------+-----------+-----------+\n",
      "| Area                              |   5.7148  |   5.59863 |\n",
      "+-----------------------------------+-----------+-----------+\n",
      "| Intact vertices (%)               | nan       |  80.7065  |\n",
      "+-----------------------------------+-----------+-----------+\n"
     ]
    }
   ],
   "source": [
    "evaluation(original_inner, final_inner)"
   ]
  },
  {
   "cell_type": "code",
   "execution_count": 9,
   "metadata": {},
   "outputs": [],
   "source": [
    "original_inner_py = trimesh_to_pymesh(original_inner)\n",
    "final_inner_py = trimesh_to_pymesh(final_inner)"
   ]
  },
  {
   "cell_type": "code",
   "execution_count": 10,
   "metadata": {},
   "outputs": [
    {
     "data": {
      "application/vnd.jupyter.widget-view+json": {
       "model_id": "256b8d6576ba46848686d1018d6dd7ee",
       "version_major": 2,
       "version_minor": 0
      },
      "text/plain": [
       "Widget(value='<iframe src=\"http://localhost:37889/index.html?ui=P_0x7f1e48790a00_1&reconnect=auto\" class=\"pyvi…"
      ]
     },
     "metadata": {},
     "output_type": "display_data"
    },
    {
     "data": {
      "text/plain": [
       "None"
      ]
     },
     "metadata": {},
     "output_type": "display_data"
    }
   ],
   "source": [
    "visualize_two_meshes(original_inner_py, final_inner_py)"
   ]
  },
  {
   "cell_type": "code",
   "execution_count": null,
   "metadata": {},
   "outputs": [],
   "source": []
  }
 ],
 "metadata": {
  "kernelspec": {
   "display_name": "pymesh_env",
   "language": "python",
   "name": "python3"
  },
  "language_info": {
   "codemirror_mode": {
    "name": "ipython",
    "version": 3
   },
   "file_extension": ".py",
   "mimetype": "text/x-python",
   "name": "python",
   "nbconvert_exporter": "python",
   "pygments_lexer": "ipython3",
   "version": "3.10.16"
  }
 },
 "nbformat": 4,
 "nbformat_minor": 2
}

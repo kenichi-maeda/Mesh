{
 "cells": [
  {
   "cell_type": "markdown",
   "metadata": {},
   "source": [
    "## PyMesh Methods Evaluation"
   ]
  },
  {
   "cell_type": "code",
   "execution_count": 5,
   "metadata": {},
   "outputs": [],
   "source": [
    "import trimesh\n",
    "import pyvista as pv\n",
    "from utils import *"
   ]
  },
  {
   "cell_type": "markdown",
   "metadata": {},
   "source": [
    "### Original Mesh"
   ]
  },
  {
   "cell_type": "code",
   "execution_count": 6,
   "metadata": {},
   "outputs": [
    {
     "data": {
      "application/vnd.jupyter.widget-view+json": {
       "model_id": "82761b01663049f29bf554f07b626def",
       "version_major": 2,
       "version_minor": 0
      },
      "text/plain": [
       "Widget(value='<iframe src=\"http://localhost:41357/index.html?ui=P_0x7f6899871de0_1&reconnect=auto\" class=\"pyvi…"
      ]
     },
     "metadata": {},
     "output_type": "display_data"
    },
    {
     "data": {
      "text/plain": [
       "None"
      ]
     },
     "metadata": {},
     "output_type": "display_data"
    }
   ],
   "source": [
    "filename = \"data/two_spheres.ply\"\n",
    "original_mesh = pymesh.load_mesh(filename)\n",
    "visualize(original_mesh, filename=\"Original Mesh\")"
   ]
  },
  {
   "cell_type": "markdown",
   "metadata": {},
   "source": [
    "### remove_duplicated_faces"
   ]
  },
  {
   "cell_type": "code",
   "execution_count": 7,
   "metadata": {},
   "outputs": [
    {
     "name": "stdout",
     "output_type": "stream",
     "text": [
      "+--------------------+----------+---------+\n",
      "| Metric             |   Before |   After |\n",
      "+====================+==========+=========+\n",
      "| Vertices           |      256 |     256 |\n",
      "+--------------------+----------+---------+\n",
      "| Faces              |      504 |     504 |\n",
      "+--------------------+----------+---------+\n",
      "| Intersecting Pairs |       64 |      64 |\n",
      "+--------------------+----------+---------+\n"
     ]
    },
    {
     "data": {
      "application/vnd.jupyter.widget-view+json": {
       "model_id": "91481c21d0084362a83b8761f0881dda",
       "version_major": 2,
       "version_minor": 0
      },
      "text/plain": [
       "Widget(value='<iframe src=\"http://localhost:41357/index.html?ui=P_0x7f6898b32320_2&reconnect=auto\" class=\"pyvi…"
      ]
     },
     "metadata": {},
     "output_type": "display_data"
    },
    {
     "data": {
      "text/plain": [
       "None"
      ]
     },
     "metadata": {},
     "output_type": "display_data"
    }
   ],
   "source": [
    "mesh = process_mesh(original_mesh, remove_duplicated_faces)\n",
    "visualize(mesh, filename=\"remove_duplicated_faces\")"
   ]
  },
  {
   "cell_type": "markdown",
   "metadata": {},
   "source": [
    "### remove_isolated_vertices"
   ]
  },
  {
   "cell_type": "code",
   "execution_count": 8,
   "metadata": {},
   "outputs": [
    {
     "name": "stdout",
     "output_type": "stream",
     "text": [
      "+--------------------+----------+---------+\n",
      "| Metric             |   Before |   After |\n",
      "+====================+==========+=========+\n",
      "| Vertices           |      256 |     256 |\n",
      "+--------------------+----------+---------+\n",
      "| Faces              |      504 |     504 |\n",
      "+--------------------+----------+---------+\n",
      "| Intersecting Pairs |       64 |      64 |\n",
      "+--------------------+----------+---------+\n"
     ]
    },
    {
     "data": {
      "application/vnd.jupyter.widget-view+json": {
       "model_id": "57d14c839d7d46d5af53858d2f440efd",
       "version_major": 2,
       "version_minor": 0
      },
      "text/plain": [
       "Widget(value='<iframe src=\"http://localhost:41357/index.html?ui=P_0x7f6898b35060_3&reconnect=auto\" class=\"pyvi…"
      ]
     },
     "metadata": {},
     "output_type": "display_data"
    },
    {
     "data": {
      "text/plain": [
       "None"
      ]
     },
     "metadata": {},
     "output_type": "display_data"
    }
   ],
   "source": [
    "mesh = process_mesh(original_mesh, remove_isolated_vertices)\n",
    "visualize(mesh, filename=\"remove_isolated_verticies\")"
   ]
  },
  {
   "cell_type": "markdown",
   "metadata": {},
   "source": [
    "### remove_duplicated_vertices"
   ]
  },
  {
   "cell_type": "code",
   "execution_count": 9,
   "metadata": {},
   "outputs": [
    {
     "name": "stdout",
     "output_type": "stream",
     "text": [
      "+--------------------+----------+---------+\n",
      "| Metric             |   Before |   After |\n",
      "+====================+==========+=========+\n",
      "| Vertices           |      256 |     256 |\n",
      "+--------------------+----------+---------+\n",
      "| Faces              |      504 |     504 |\n",
      "+--------------------+----------+---------+\n",
      "| Intersecting Pairs |       64 |      64 |\n",
      "+--------------------+----------+---------+\n"
     ]
    },
    {
     "data": {
      "application/vnd.jupyter.widget-view+json": {
       "model_id": "3ec3126e761146d08573b3091ad7bf1c",
       "version_major": 2,
       "version_minor": 0
      },
      "text/plain": [
       "Widget(value='<iframe src=\"http://localhost:41357/index.html?ui=P_0x7f689b8fc250_4&reconnect=auto\" class=\"pyvi…"
      ]
     },
     "metadata": {},
     "output_type": "display_data"
    },
    {
     "data": {
      "text/plain": [
       "None"
      ]
     },
     "metadata": {},
     "output_type": "display_data"
    }
   ],
   "source": [
    "mesh = process_mesh(original_mesh, remove_duplicated_vertices)\n",
    "visualize(mesh, filename=\"remove_duplicated_vertices\")"
   ]
  },
  {
   "cell_type": "markdown",
   "metadata": {},
   "source": [
    "### remove_obtuse_triangles"
   ]
  },
  {
   "cell_type": "code",
   "execution_count": 10,
   "metadata": {},
   "outputs": [
    {
     "name": "stdout",
     "output_type": "stream",
     "text": [
      "+--------------------+----------+---------+\n",
      "| Metric             |   Before |   After |\n",
      "+====================+==========+=========+\n",
      "| Vertices           |      256 |     256 |\n",
      "+--------------------+----------+---------+\n",
      "| Faces              |      504 |     504 |\n",
      "+--------------------+----------+---------+\n",
      "| Intersecting Pairs |       64 |      64 |\n",
      "+--------------------+----------+---------+\n"
     ]
    },
    {
     "data": {
      "application/vnd.jupyter.widget-view+json": {
       "model_id": "74c8c06248e84f2f9d9052aeb05dc678",
       "version_major": 2,
       "version_minor": 0
      },
      "text/plain": [
       "Widget(value='<iframe src=\"http://localhost:41357/index.html?ui=P_0x7f689b8fe350_5&reconnect=auto\" class=\"pyvi…"
      ]
     },
     "metadata": {},
     "output_type": "display_data"
    },
    {
     "data": {
      "text/plain": [
       "None"
      ]
     },
     "metadata": {},
     "output_type": "display_data"
    }
   ],
   "source": [
    "mesh = process_mesh(original_mesh, remove_obtuse_triangles)\n",
    "visualize(mesh, filename=\"remove_obtuse_triangles\")"
   ]
  },
  {
   "cell_type": "markdown",
   "metadata": {},
   "source": [
    "### remove_degenerated_triangles"
   ]
  },
  {
   "cell_type": "code",
   "execution_count": 11,
   "metadata": {},
   "outputs": [
    {
     "name": "stdout",
     "output_type": "stream",
     "text": [
      "+--------------------+----------+---------+\n",
      "| Metric             |   Before |   After |\n",
      "+====================+==========+=========+\n",
      "| Vertices           |      256 |     256 |\n",
      "+--------------------+----------+---------+\n",
      "| Faces              |      504 |     504 |\n",
      "+--------------------+----------+---------+\n",
      "| Intersecting Pairs |       64 |      64 |\n",
      "+--------------------+----------+---------+\n"
     ]
    },
    {
     "data": {
      "application/vnd.jupyter.widget-view+json": {
       "model_id": "8fb833a119054ba986c4c824eb4ab12a",
       "version_major": 2,
       "version_minor": 0
      },
      "text/plain": [
       "Widget(value='<iframe src=\"http://localhost:41357/index.html?ui=P_0x7f689b9ad720_6&reconnect=auto\" class=\"pyvi…"
      ]
     },
     "metadata": {},
     "output_type": "display_data"
    },
    {
     "data": {
      "text/plain": [
       "None"
      ]
     },
     "metadata": {},
     "output_type": "display_data"
    }
   ],
   "source": [
    "mesh = process_mesh(original_mesh, remove_degenerated_triangles)\n",
    "visualize(mesh, filename=\"remove_degenerated_triangles\")"
   ]
  },
  {
   "cell_type": "markdown",
   "metadata": {},
   "source": [
    "### resolve_self_intersection"
   ]
  },
  {
   "cell_type": "code",
   "execution_count": 12,
   "metadata": {},
   "outputs": [
    {
     "name": "stdout",
     "output_type": "stream",
     "text": [
      "+--------------------+----------+---------+\n",
      "| Metric             |   Before |   After |\n",
      "+====================+==========+=========+\n",
      "| Vertices           |      256 |     320 |\n",
      "+--------------------+----------+---------+\n",
      "| Faces              |      504 |     760 |\n",
      "+--------------------+----------+---------+\n",
      "| Intersecting Pairs |       64 |       0 |\n",
      "+--------------------+----------+---------+\n"
     ]
    },
    {
     "data": {
      "application/vnd.jupyter.widget-view+json": {
       "model_id": "88d9cc9709ef4a199689047d812dcac7",
       "version_major": 2,
       "version_minor": 0
      },
      "text/plain": [
       "Widget(value='<iframe src=\"http://localhost:41357/index.html?ui=P_0x7f68406601f0_7&reconnect=auto\" class=\"pyvi…"
      ]
     },
     "metadata": {},
     "output_type": "display_data"
    },
    {
     "data": {
      "text/plain": [
       "None"
      ]
     },
     "metadata": {},
     "output_type": "display_data"
    }
   ],
   "source": [
    "mesh = process_mesh(original_mesh, resolve_self_intersection)\n",
    "visualize(mesh, filename=\"resolve_self_intersection\")"
   ]
  },
  {
   "cell_type": "code",
   "execution_count": null,
   "metadata": {},
   "outputs": [],
   "source": []
  }
 ],
 "metadata": {
  "kernelspec": {
   "display_name": "pymesh_env",
   "language": "python",
   "name": "python3"
  },
  "language_info": {
   "codemirror_mode": {
    "name": "ipython",
    "version": 3
   },
   "file_extension": ".py",
   "mimetype": "text/x-python",
   "name": "python",
   "nbconvert_exporter": "python",
   "pygments_lexer": "ipython3",
   "version": "3.10.16"
  }
 },
 "nbformat": 4,
 "nbformat_minor": 2
}

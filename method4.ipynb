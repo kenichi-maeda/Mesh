{
 "cells": [
  {
   "cell_type": "markdown",
   "metadata": {},
   "source": [
    "## Method3 (Basically, Method2 but without bbox)"
   ]
  },
  {
   "cell_type": "code",
   "execution_count": 1,
   "metadata": {},
   "outputs": [],
   "source": [
    "import trimesh\n",
    "import pyvista as pv\n",
    "from utils import *"
   ]
  },
  {
   "cell_type": "markdown",
   "metadata": {},
   "source": [
    "#### Load a file"
   ]
  },
  {
   "cell_type": "code",
   "execution_count": 2,
   "metadata": {},
   "outputs": [],
   "source": [
    "mesh = pymesh.load_mesh(\"data/three_spheres.ply\")"
   ]
  },
  {
   "cell_type": "code",
   "execution_count": 3,
   "metadata": {},
   "outputs": [
    {
     "name": "stdout",
     "output_type": "stream",
     "text": [
      "+-----------------------------------+---------+\n",
      "| Metric                            |   Value |\n",
      "+===================================+=========+\n",
      "| Number of vertices                |    1608 |\n",
      "+-----------------------------------+---------+\n",
      "| Number of faces                   |    3204 |\n",
      "+-----------------------------------+---------+\n",
      "| Number of intersecting face pairs |     292 |\n",
      "+-----------------------------------+---------+\n"
     ]
    }
   ],
   "source": [
    "self_intersection_stats(mesh)"
   ]
  },
  {
   "cell_type": "code",
   "execution_count": 4,
   "metadata": {},
   "outputs": [
    {
     "name": "stderr",
     "output_type": "stream",
     "text": [
      "/home/kmaeda/anaconda3/envs/pymesh_env/lib/python3.10/site-packages/pyvista/core/pointset.py:1365: PyVistaDeprecationWarning: The current behavior of `pv.PolyData.n_faces` has been deprecated.\n",
      "                Use `pv.PolyData.n_cells` or `pv.PolyData.n_faces_strict` instead.\n",
      "                See the documentation in '`pv.PolyData.n_faces` for more information.\n",
      "  warnings.warn(\n"
     ]
    },
    {
     "data": {
      "application/vnd.jupyter.widget-view+json": {
       "model_id": "f76ab1d1853b48d3adccf141624984c0",
       "version_major": 2,
       "version_minor": 0
      },
      "text/plain": [
       "Widget(value='<iframe src=\"http://localhost:37597/index.html?ui=P_0x7fc561d47490_0&reconnect=auto\" class=\"pyvi…"
      ]
     },
     "metadata": {},
     "output_type": "display_data"
    },
    {
     "data": {
      "text/plain": [
       "None"
      ]
     },
     "metadata": {},
     "output_type": "display_data"
    }
   ],
   "source": [
    "visualize_intersection(mesh)"
   ]
  },
  {
   "cell_type": "markdown",
   "metadata": {},
   "source": [
    "#### Save intersection info first"
   ]
  },
  {
   "cell_type": "code",
   "execution_count": 5,
   "metadata": {},
   "outputs": [],
   "source": [
    "intersections = pymesh.detect_self_intersection(mesh)\n",
    "intersecting_vertices, intersecting_faces = track_self_intersecting_faces(mesh, intersections)"
   ]
  },
  {
   "cell_type": "markdown",
   "metadata": {},
   "source": [
    "#### Get outer hull"
   ]
  },
  {
   "cell_type": "code",
   "execution_count": 6,
   "metadata": {},
   "outputs": [],
   "source": [
    "outer_hull = pymesh.compute_outer_hull(mesh)"
   ]
  },
  {
   "cell_type": "code",
   "execution_count": 7,
   "metadata": {},
   "outputs": [
    {
     "name": "stdout",
     "output_type": "stream",
     "text": [
      "+-----------------------------------+---------+\n",
      "| Metric                            |   Value |\n",
      "+===================================+=========+\n",
      "| Number of vertices                |    1576 |\n",
      "+-----------------------------------+---------+\n",
      "| Number of faces                   |    3148 |\n",
      "+-----------------------------------+---------+\n",
      "| Number of intersecting face pairs |       0 |\n",
      "+-----------------------------------+---------+\n"
     ]
    }
   ],
   "source": [
    "self_intersection_stats(outer_hull)"
   ]
  },
  {
   "cell_type": "markdown",
   "metadata": {},
   "source": [
    "#### Map intersecting region to modified mesh & Extract submesh"
   ]
  },
  {
   "cell_type": "code",
   "execution_count": 8,
   "metadata": {},
   "outputs": [],
   "source": [
    "mapped_vertices = map_to_modified_mesh(mesh, outer_hull, intersecting_vertices)"
   ]
  },
  {
   "cell_type": "code",
   "execution_count": 9,
   "metadata": {},
   "outputs": [],
   "source": [
    "submesh, face_mask = extract_self_intersecting_region_from_modified(outer_hull, mapped_vertices)"
   ]
  },
  {
   "cell_type": "code",
   "execution_count": 10,
   "metadata": {},
   "outputs": [
    {
     "data": {
      "application/vnd.jupyter.widget-view+json": {
       "model_id": "03ec9f4446bf43229c55e2aa1c6e3b4c",
       "version_major": 2,
       "version_minor": 0
      },
      "text/plain": [
       "Widget(value='<iframe src=\"http://localhost:37597/index.html?ui=P_0x7fc561d478b0_1&reconnect=auto\" class=\"pyvi…"
      ]
     },
     "metadata": {},
     "output_type": "display_data"
    },
    {
     "data": {
      "text/plain": [
       "None"
      ]
     },
     "metadata": {},
     "output_type": "display_data"
    }
   ],
   "source": [
    "visualize(submesh, filename=\"Submesh\")"
   ]
  },
  {
   "cell_type": "code",
   "execution_count": 11,
   "metadata": {},
   "outputs": [],
   "source": [
    "remaining_mesh = extract_remaining_mesh(outer_hull, face_mask)"
   ]
  },
  {
   "cell_type": "code",
   "execution_count": 12,
   "metadata": {},
   "outputs": [
    {
     "data": {
      "application/vnd.jupyter.widget-view+json": {
       "model_id": "f6c88124084c48ecbfb99d08ee9e191b",
       "version_major": 2,
       "version_minor": 0
      },
      "text/plain": [
       "Widget(value='<iframe src=\"http://localhost:37597/index.html?ui=P_0x7fc5001ca7d0_2&reconnect=auto\" class=\"pyvi…"
      ]
     },
     "metadata": {},
     "output_type": "display_data"
    },
    {
     "data": {
      "text/plain": [
       "None"
      ]
     },
     "metadata": {},
     "output_type": "display_data"
    }
   ],
   "source": [
    "visualize(remaining_mesh, filename=\"remaining_mesh\")"
   ]
  },
  {
   "cell_type": "markdown",
   "metadata": {},
   "source": [
    "#### Repair (or Remesh) the submesh\n",
    "- `pymesh.collapse_short_edges(mesh, abs_threshold, rel_threshold, preserve_feature)`<br>\n",
    "Collapses all edges with length less than a user specified threshold.\n",
    "\n",
    "- `pymesh.split_long_edges(mesh, max_edge_length)`<br>\n",
    "Splits long edges into 2 or more shorter edges.\n",
    "\n",
    "- `pymesh.remove_obtuse_triangles(mesh, max_angle, max_iterations)`<br>\n",
    "Splits each obtuse triangle into 2 or more right or sharp triangles.\n",
    "\n",
    "- `pymesh.remove_degenerated_triangles(mesh, num_iterations)` <br>\n",
    "Degenerate triangles are triangles with collinear vertices (i.e., some vertices are lying in the same straight line). They have zero areas and their normals are undefined."
   ]
  },
  {
   "cell_type": "code",
   "execution_count": 13,
   "metadata": {},
   "outputs": [],
   "source": [
    "from numpy.linalg import norm\n",
    "\n",
    "def method2(mesh, detail=\"low\"):\n",
    "\n",
    "    bbox_min, bbox_max = mesh.bbox\n",
    "    diag_len = norm(bbox_max - bbox_min)\n",
    "    if detail == \"normal\":\n",
    "        target_len = diag_len * 5e-3\n",
    "    elif detail == \"high\":\n",
    "        target_len = diag_len * 2.5e-3\n",
    "    elif detail == \"low\":\n",
    "        target_len = diag_len * 2e-2\n",
    "    print(\"Target resolution: {} mm\".format(target_len))\n",
    "\n",
    "    count = 0\n",
    "    mesh, __ = pymesh.remove_degenerated_triangles(mesh, 100)\n",
    "    mesh, __ = pymesh.split_long_edges(mesh, target_len)\n",
    "    num_vertices = mesh.num_vertices\n",
    "    while True:\n",
    "        mesh, __ = pymesh.collapse_short_edges(mesh, 1e-6, preserve_feature=True) # Remove extremely small edges\n",
    "        mesh, __ = pymesh.collapse_short_edges(mesh, target_len,\n",
    "                                               preserve_feature=True)\n",
    "        mesh, __ = pymesh.remove_obtuse_triangles(mesh, 150.0, 100)\n",
    "        if mesh.num_vertices == num_vertices:\n",
    "            break\n",
    "\n",
    "        num_vertices = mesh.num_vertices\n",
    "        print(\"#v: {}\".format(num_vertices))\n",
    "        count += 1\n",
    "        if count > 10: break\n",
    "\n",
    "    mesh = pymesh.resolve_self_intersection(mesh)\n",
    "    mesh, __ = pymesh.remove_duplicated_faces(mesh)\n",
    "    mesh = pymesh.compute_outer_hull(mesh)\n",
    "    mesh, __ = pymesh.remove_duplicated_faces(mesh)\n",
    "    mesh, __ = pymesh.remove_obtuse_triangles(mesh, 179.0, 5)\n",
    "    mesh, __ = pymesh.remove_isolated_vertices(mesh)\n",
    "\n",
    "    return mesh"
   ]
  },
  {
   "cell_type": "code",
   "execution_count": 26,
   "metadata": {},
   "outputs": [],
   "source": [
    "components = pymesh.separate_mesh(submesh)"
   ]
  },
  {
   "cell_type": "code",
   "execution_count": 27,
   "metadata": {},
   "outputs": [
    {
     "name": "stdout",
     "output_type": "stream",
     "text": [
      "Target resolution: 0.06117549229246955 mm\n",
      "#v: 511\n",
      "#v: 505\n",
      "Target resolution: 0.06117549229246955 mm\n",
      "#v: 505\n",
      "#v: 501\n"
     ]
    }
   ],
   "source": [
    "repaired_components = []\n",
    "for compoenent in components:\n",
    "    repaired_component = method2(compoenent)\n",
    "    repaired_components.append(repaired_component)"
   ]
  },
  {
   "cell_type": "code",
   "execution_count": 28,
   "metadata": {},
   "outputs": [],
   "source": [
    "merged_components = pymesh.merge_meshes(repaired_components)"
   ]
  },
  {
   "cell_type": "code",
   "execution_count": 29,
   "metadata": {},
   "outputs": [
    {
     "data": {
      "application/vnd.jupyter.widget-view+json": {
       "model_id": "b6388a8453b84860a3e6fe976d8c31af",
       "version_major": 2,
       "version_minor": 0
      },
      "text/plain": [
       "Widget(value='<iframe src=\"http://localhost:37597/index.html?ui=P_0x7fc4c0f1b280_9&reconnect=auto\" class=\"pyvi…"
      ]
     },
     "metadata": {},
     "output_type": "display_data"
    },
    {
     "data": {
      "text/plain": [
       "None"
      ]
     },
     "metadata": {},
     "output_type": "display_data"
    }
   ],
   "source": [
    "visualize(merged_components, filename=\"Repaired_submesh\")"
   ]
  },
  {
   "cell_type": "markdown",
   "metadata": {},
   "source": [
    "#### Align submesh\n",
    "Since we have modified the submesh, we need to change its boundary to what it used to be. Otherwise, when we combine the submesh and the remaining component later, there will be some small gaps."
   ]
  },
  {
   "cell_type": "code",
   "execution_count": 30,
   "metadata": {},
   "outputs": [],
   "source": [
    "aligned_submesh = align_submesh_boundary(remaining_mesh, merged_components)"
   ]
  },
  {
   "cell_type": "code",
   "execution_count": 31,
   "metadata": {},
   "outputs": [
    {
     "data": {
      "application/vnd.jupyter.widget-view+json": {
       "model_id": "20e2a7c096924b2a8c3f9c845da9deec",
       "version_major": 2,
       "version_minor": 0
      },
      "text/plain": [
       "Widget(value='<iframe src=\"http://localhost:37597/index.html?ui=P_0x7fc4c1a5e9b0_10&reconnect=auto\" class=\"pyv…"
      ]
     },
     "metadata": {},
     "output_type": "display_data"
    },
    {
     "data": {
      "text/plain": [
       "None"
      ]
     },
     "metadata": {},
     "output_type": "display_data"
    }
   ],
   "source": [
    "visualize(aligned_submesh, filename=\"Aligned submesh\")"
   ]
  },
  {
   "cell_type": "markdown",
   "metadata": {},
   "source": [
    "#### Merge two meshes"
   ]
  },
  {
   "cell_type": "code",
   "execution_count": 32,
   "metadata": {},
   "outputs": [],
   "source": [
    "repaired_full = replace_submesh_in_original(remaining_mesh, aligned_submesh)"
   ]
  },
  {
   "cell_type": "code",
   "execution_count": 33,
   "metadata": {},
   "outputs": [
    {
     "data": {
      "application/vnd.jupyter.widget-view+json": {
       "model_id": "7fda5a9c03e54c27a3af8149f5ad6114",
       "version_major": 2,
       "version_minor": 0
      },
      "text/plain": [
       "Widget(value='<iframe src=\"http://localhost:37597/index.html?ui=P_0x7fc4228bdba0_11&reconnect=auto\" class=\"pyv…"
      ]
     },
     "metadata": {},
     "output_type": "display_data"
    },
    {
     "data": {
      "text/plain": [
       "None"
      ]
     },
     "metadata": {},
     "output_type": "display_data"
    }
   ],
   "source": [
    "visualize(repaired_full)"
   ]
  },
  {
   "cell_type": "markdown",
   "metadata": {},
   "source": [
    "#### Final refinement"
   ]
  },
  {
   "cell_type": "code",
   "execution_count": 34,
   "metadata": {},
   "outputs": [],
   "source": [
    "final, _ = pymesh.remove_duplicated_vertices(repaired_full)\n",
    "final, _ = pymesh.remove_duplicated_faces(final)\n",
    "final, _ = pymesh.remove_degenerated_triangles(final)\n",
    "final = pymesh.compute_outer_hull(final)\n",
    "final, __ = pymesh.collapse_short_edges(final, 1e-6)\n",
    "final, __ = pymesh.remove_obtuse_triangles(final, 175.0, 10)\n",
    "final, _ = pymesh.remove_isolated_vertices(final)\n",
    "final = pymesh.resolve_self_intersection(final)"
   ]
  },
  {
   "cell_type": "code",
   "execution_count": 35,
   "metadata": {},
   "outputs": [
    {
     "name": "stdout",
     "output_type": "stream",
     "text": [
      "+-----------------------------------+---------+\n",
      "| Metric                            |   Value |\n",
      "+===================================+=========+\n",
      "| Number of vertices                |    1804 |\n",
      "+-----------------------------------+---------+\n",
      "| Number of faces                   |    3604 |\n",
      "+-----------------------------------+---------+\n",
      "| Number of intersecting face pairs |       0 |\n",
      "+-----------------------------------+---------+\n"
     ]
    }
   ],
   "source": [
    "self_intersection_stats(final)"
   ]
  },
  {
   "cell_type": "code",
   "execution_count": 36,
   "metadata": {},
   "outputs": [
    {
     "data": {
      "application/vnd.jupyter.widget-view+json": {
       "model_id": "fe87c34182ed40139a39366a71d6853f",
       "version_major": 2,
       "version_minor": 0
      },
      "text/plain": [
       "Widget(value='<iframe src=\"http://localhost:37597/index.html?ui=P_0x7fc4c1a5cfa0_12&reconnect=auto\" class=\"pyv…"
      ]
     },
     "metadata": {},
     "output_type": "display_data"
    },
    {
     "data": {
      "text/plain": [
       "None"
      ]
     },
     "metadata": {},
     "output_type": "display_data"
    }
   ],
   "source": [
    "visualize(final, filename=\"Final Outerhull\")"
   ]
  },
  {
   "cell_type": "code",
   "execution_count": 37,
   "metadata": {},
   "outputs": [
    {
     "name": "stdout",
     "output_type": "stream",
     "text": [
      "+-----------------------------------+-----------+-----------+\n",
      "| Metric                            |    Before |     After |\n",
      "+===================================+===========+===========+\n",
      "| Number of vertices                | 1576      | 1804      |\n",
      "+-----------------------------------+-----------+-----------+\n",
      "| Number of faces                   | 3148      | 3604      |\n",
      "+-----------------------------------+-----------+-----------+\n",
      "| Number of intersecting face pairs |    0      |    0      |\n",
      "+-----------------------------------+-----------+-----------+\n",
      "| Volume                            |   11.0221 |   11.0157 |\n",
      "+-----------------------------------+-----------+-----------+\n",
      "| Area                              |   29.3751 |   29.3762 |\n",
      "+-----------------------------------+-----------+-----------+\n"
     ]
    }
   ],
   "source": [
    "evaluation(outer_hull, final)"
   ]
  },
  {
   "cell_type": "code",
   "execution_count": 38,
   "metadata": {},
   "outputs": [
    {
     "name": "stdout",
     "output_type": "stream",
     "text": [
      "Max Vertex Displacement: 0.12689949559159355\n",
      "Mean Vertex Displacement: 0.014576917342716766\n"
     ]
    }
   ],
   "source": [
    "evaluate_displacement(outer_hull, final)"
   ]
  },
  {
   "cell_type": "code",
   "execution_count": 39,
   "metadata": {},
   "outputs": [],
   "source": [
    "pymesh.save_mesh(\"temp.ply\", final, ascii=True)"
   ]
  },
  {
   "cell_type": "code",
   "execution_count": null,
   "metadata": {},
   "outputs": [],
   "source": []
  }
 ],
 "metadata": {
  "kernelspec": {
   "display_name": "pymesh_env",
   "language": "python",
   "name": "python3"
  },
  "language_info": {
   "codemirror_mode": {
    "name": "ipython",
    "version": 3
   },
   "file_extension": ".py",
   "mimetype": "text/x-python",
   "name": "python",
   "nbconvert_exporter": "python",
   "pygments_lexer": "ipython3",
   "version": "3.10.16"
  }
 },
 "nbformat": 4,
 "nbformat_minor": 2
}

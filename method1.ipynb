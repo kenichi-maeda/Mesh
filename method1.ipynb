{
 "cells": [
  {
   "cell_type": "markdown",
   "metadata": {},
   "source": [
    "## Method1"
   ]
  },
  {
   "cell_type": "code",
   "execution_count": 1,
   "metadata": {},
   "outputs": [],
   "source": [
    "import trimesh\n",
    "import pyvista as pv\n",
    "from utils import *"
   ]
  },
  {
   "cell_type": "markdown",
   "metadata": {},
   "source": [
    "#### Load a file"
   ]
  },
  {
   "cell_type": "code",
   "execution_count": 2,
   "metadata": {},
   "outputs": [],
   "source": [
    "mesh = pymesh.load_mesh(\"data/two_spheres.ply\")"
   ]
  },
  {
   "cell_type": "code",
   "execution_count": 3,
   "metadata": {},
   "outputs": [
    {
     "name": "stdout",
     "output_type": "stream",
     "text": [
      "+-----------------------------------+---------+\n",
      "| Metric                            |   Value |\n",
      "+===================================+=========+\n",
      "| Number of vertices                |     256 |\n",
      "+-----------------------------------+---------+\n",
      "| Number of faces                   |     504 |\n",
      "+-----------------------------------+---------+\n",
      "| Number of intersecting face pairs |      64 |\n",
      "+-----------------------------------+---------+\n"
     ]
    }
   ],
   "source": [
    "self_intersection_stats(mesh)"
   ]
  },
  {
   "cell_type": "code",
   "execution_count": 4,
   "metadata": {},
   "outputs": [
    {
     "data": {
      "application/vnd.jupyter.widget-view+json": {
       "model_id": "56ba756a8480420484876e68568a5ba1",
       "version_major": 2,
       "version_minor": 0
      },
      "text/plain": [
       "Widget(value='<iframe src=\"http://localhost:36907/index.html?ui=P_0x7fd9c65576a0_0&reconnect=auto\" class=\"pyvi…"
      ]
     },
     "metadata": {},
     "output_type": "display_data"
    },
    {
     "data": {
      "text/plain": [
       "None"
      ]
     },
     "metadata": {},
     "output_type": "display_data"
    }
   ],
   "source": [
    "visualize(mesh, filename=\"Initial Mesh\")"
   ]
  },
  {
   "cell_type": "code",
   "execution_count": 5,
   "metadata": {},
   "outputs": [
    {
     "name": "stderr",
     "output_type": "stream",
     "text": [
      "/home/kmaeda/anaconda3/envs/pymesh_env/lib/python3.10/site-packages/pyvista/core/pointset.py:1365: PyVistaDeprecationWarning: The current behavior of `pv.PolyData.n_faces` has been deprecated.\n",
      "                Use `pv.PolyData.n_cells` or `pv.PolyData.n_faces_strict` instead.\n",
      "                See the documentation in '`pv.PolyData.n_faces` for more information.\n",
      "  warnings.warn(\n"
     ]
    },
    {
     "data": {
      "application/vnd.jupyter.widget-view+json": {
       "model_id": "8c4267b8515142858b52b5450e0951f7",
       "version_major": 2,
       "version_minor": 0
      },
      "text/plain": [
       "Widget(value='<iframe src=\"http://localhost:43301/index.html?ui=P_0x7f8a5c1fb850_1&reconnect=auto\" class=\"pyvi…"
      ]
     },
     "metadata": {},
     "output_type": "display_data"
    },
    {
     "data": {
      "text/plain": [
       "None"
      ]
     },
     "metadata": {},
     "output_type": "display_data"
    }
   ],
   "source": [
    "visualize_intersection(mesh, filename=\"Intersections\")"
   ]
  },
  {
   "cell_type": "markdown",
   "metadata": {},
   "source": [
    "#### Get outer hull (to remove inner components)"
   ]
  },
  {
   "cell_type": "code",
   "execution_count": 5,
   "metadata": {},
   "outputs": [],
   "source": [
    "outer_hull = pymesh.compute_outer_hull(mesh)"
   ]
  },
  {
   "cell_type": "code",
   "execution_count": 7,
   "metadata": {},
   "outputs": [
    {
     "name": "stdout",
     "output_type": "stream",
     "text": [
      "+-----------------------------------+---------+\n",
      "| Metric                            |   Value |\n",
      "+===================================+=========+\n",
      "| Number of vertices                |     264 |\n",
      "+-----------------------------------+---------+\n",
      "| Number of faces                   |     524 |\n",
      "+-----------------------------------+---------+\n",
      "| Number of intersecting face pairs |       0 |\n",
      "+-----------------------------------+---------+\n"
     ]
    }
   ],
   "source": [
    "self_intersection_stats(outer_hull)"
   ]
  },
  {
   "cell_type": "code",
   "execution_count": 8,
   "metadata": {},
   "outputs": [
    {
     "data": {
      "application/vnd.jupyter.widget-view+json": {
       "model_id": "6a96670c7d78485594a3acfb815c5c08",
       "version_major": 2,
       "version_minor": 0
      },
      "text/plain": [
       "Widget(value='<iframe src=\"http://localhost:43301/index.html?ui=P_0x7f8a59deac80_2&reconnect=auto\" class=\"pyvi…"
      ]
     },
     "metadata": {},
     "output_type": "display_data"
    },
    {
     "data": {
      "text/plain": [
       "None"
      ]
     },
     "metadata": {},
     "output_type": "display_data"
    }
   ],
   "source": [
    "visualize(outer_hull, filename=\"After compute_outer_hull()\")"
   ]
  },
  {
   "cell_type": "markdown",
   "metadata": {},
   "source": [
    "#### Define method1\n"
   ]
  },
  {
   "cell_type": "code",
   "execution_count": 6,
   "metadata": {},
   "outputs": [],
   "source": [
    "def method1(mesh, with_rounding=True, precision=11, max_iterations=15):\n",
    "    \"\"\"\n",
    "    Resolves self-intersections in a mesh iteratively.\n",
    "\n",
    "    Parameters:\n",
    "        mesh: The input mesh object.\n",
    "        with_rounding (bool): Enables rounding of vertices for stability. Default is True.\n",
    "        precision (int): Rounding precision level for vertices.\n",
    "        max_iterations (int): Maximum number of iterations allowed to resolve intersections.\n",
    "\n",
    "    Returns:\n",
    "        mesh: The processed mesh with no self-intersections.\n",
    "    \"\"\"\n",
    "    # Initial rounding of vertices\n",
    "    if (with_rounding):\n",
    "        mesh = pymesh.form_mesh(\n",
    "                np.round(mesh.vertices, precision),\n",
    "                mesh.faces);\n",
    "    intersecting_faces = pymesh.detect_self_intersection(mesh);\n",
    "\n",
    "    # Iterative process to resolve self-intersections\n",
    "    counter = 0;\n",
    "    while len(intersecting_faces) > 0 and counter < max_iterations:\n",
    "        if (with_rounding):\n",
    "            involved_vertices = np.unique(mesh.faces[intersecting_faces].ravel());\n",
    "\n",
    "            # Round only the involved vertices\n",
    "            # Suppose precision = 4. Then,\n",
    "            # [1.234567, 2.345678, 3.456789] <- One vertex example (x, y, z coords)\n",
    "            # becomes\n",
    "            # [1.23, 2.35, 3.46]\n",
    "            vertices_copy = mesh.vertices.copy()  \n",
    "            vertices_copy[involved_vertices, :] =\\\n",
    "                    np.round(mesh.vertices[involved_vertices, :],\n",
    "                            precision//2);\n",
    "        \n",
    "            mesh = pymesh.form_mesh(vertices_copy, mesh.faces) \n",
    "\n",
    "        mesh = pymesh.resolve_self_intersection(mesh, \"igl\");\n",
    "        mesh, __ = pymesh.remove_duplicated_faces(mesh, fins_only=True);\n",
    "        if (with_rounding):\n",
    "            mesh = pymesh.form_mesh(\n",
    "                    np.round(mesh.vertices, precision),\n",
    "                    mesh.faces);\n",
    "        mesh = intermediate(mesh) # Reload mesh. Otherwise, the next step fails in some cases.\n",
    "        intersecting_faces = pymesh.detect_self_intersection(mesh);\n",
    "        print(len(intersecting_faces))\n",
    "        counter += 1;\n",
    "\n",
    "    if len(intersecting_faces) > 0:\n",
    "        logging.warn(\"Resolving failed: max iteration reached!\");\n",
    "\n",
    "    return mesh"
   ]
  },
  {
   "cell_type": "code",
   "execution_count": 7,
   "metadata": {},
   "outputs": [],
   "source": [
    "repaired_mesh = method1(outer_hull)"
   ]
  },
  {
   "cell_type": "code",
   "execution_count": 8,
   "metadata": {},
   "outputs": [
    {
     "name": "stdout",
     "output_type": "stream",
     "text": [
      "+-----------------------------------+---------+\n",
      "| Metric                            |   Value |\n",
      "+===================================+=========+\n",
      "| Number of vertices                |     264 |\n",
      "+-----------------------------------+---------+\n",
      "| Number of faces                   |     524 |\n",
      "+-----------------------------------+---------+\n",
      "| Number of intersecting face pairs |       0 |\n",
      "+-----------------------------------+---------+\n"
     ]
    }
   ],
   "source": [
    "self_intersection_stats(repaired_mesh)"
   ]
  },
  {
   "cell_type": "code",
   "execution_count": 9,
   "metadata": {},
   "outputs": [
    {
     "data": {
      "application/vnd.jupyter.widget-view+json": {
       "model_id": "0628765fca5449d18bfe3e23dbd122fc",
       "version_major": 2,
       "version_minor": 0
      },
      "text/plain": [
       "Widget(value='<iframe src=\"http://localhost:36907/index.html?ui=P_0x7fd97c932d40_1&reconnect=auto\" class=\"pyvi…"
      ]
     },
     "metadata": {},
     "output_type": "display_data"
    },
    {
     "data": {
      "text/plain": [
       "None"
      ]
     },
     "metadata": {},
     "output_type": "display_data"
    }
   ],
   "source": [
    "visualize(repaired_mesh, filename=\"After applying method1\")"
   ]
  },
  {
   "cell_type": "code",
   "execution_count": 13,
   "metadata": {},
   "outputs": [
    {
     "name": "stdout",
     "output_type": "stream",
     "text": [
      "+-----------------------------------+-----------+-----------+\n",
      "| Metric                            |    Before |     After |\n",
      "+===================================+===========+===========+\n",
      "| Number of vertices                | 264       | 264       |\n",
      "+-----------------------------------+-----------+-----------+\n",
      "| Number of faces                   | 524       | 524       |\n",
      "+-----------------------------------+-----------+-----------+\n",
      "| Number of intersecting face pairs |   0       |   0       |\n",
      "+-----------------------------------+-----------+-----------+\n",
      "| Volume                            |   6.10774 |   6.10774 |\n",
      "+-----------------------------------+-----------+-----------+\n",
      "| Area                              |  17.6163  |  17.6163  |\n",
      "+-----------------------------------+-----------+-----------+\n"
     ]
    }
   ],
   "source": [
    "evaluation(outer_hull, repaired_mesh)"
   ]
  },
  {
   "cell_type": "code",
   "execution_count": null,
   "metadata": {},
   "outputs": [],
   "source": []
  }
 ],
 "metadata": {
  "kernelspec": {
   "display_name": "pymesh_env",
   "language": "python",
   "name": "python3"
  },
  "language_info": {
   "codemirror_mode": {
    "name": "ipython",
    "version": 3
   },
   "file_extension": ".py",
   "mimetype": "text/x-python",
   "name": "python",
   "nbconvert_exporter": "python",
   "pygments_lexer": "ipython3",
   "version": "3.10.16"
  }
 },
 "nbformat": 4,
 "nbformat_minor": 2
}

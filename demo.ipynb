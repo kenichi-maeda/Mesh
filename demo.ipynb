{
 "cells": [
  {
   "cell_type": "markdown",
   "metadata": {},
   "source": [
    "## Ways to Repair Intersections\n",
    "\n",
    "### 1. Delete Self-Intersected Triangles and Re-Triangulate\n",
    "Remove self-intersected triangles and fill the resulting holes.\n",
    "\n",
    "- **Libraries:**\n",
    "  - [`MeshFix`](https://github.com/MarcoAttene/MeshFix-V2.1) – A C++ tool for 3D triangular meshes.\n",
    "  - [`pymeshfix`](https://github.com/pyvista/pymeshfix) – A Python wrapper for MeshFix.\n",
    "\n",
    "- **Relevant Papers:**\n",
    "  - Attene, M. (2010). [\"A lightweight approach to repairing digitized polygon meshes.\"](https://link.springer.com/article/10.1007/s00371-010-0416-3)\n",
    "\n",
    "---\n",
    "\n",
    "### 2. Divide Intersected Facets by Adding Vertices and Edges\n",
    "Subdivide intersecting triangles by adding vertices and edges at intersection points.\n",
    "\n",
    "- **Libraries:**\n",
    "  - [`libigl`](https://libigl.github.io/) – A geometry processing library with CGAL as a backend.\n",
    "  - [`PyMesh`](https://github.com/PyMesh/PyMesh) – A Python library supporting various geometry processing tasks. It covers some libigl functions.\n",
    "\n",
    "- **Relevant Papers:**\n",
    "  - Jiang Zhu et al (2019)  [\"A Robust Algorithm to Remove the Self-intersection of 3D Mesh Data without Changing the Original Shape.\"](https://iopscience.iop.org/article/10.1088/1742-6596/1314/1/012149) \n",
    "  - Attene, M. (2014). [\"Direct repair of self-intersecting meshes\"](https://www.sciencedirect.com/science/article/pii/S1524070314000496) \n",
    "  - GIANMARCO CHERCHI [\"Fast and Robust Mesh Arrangements using Floating-point Arithmetic\"](https://www.gianmarcocherchi.com/pdf/mesh_arrangement.pdf) \n",
    "  - Jerome Charton (2020) [\"Mesh repairing using topology graphs\"](https://academic.oup.com/jcde/article/8/1/251/6019635) \n",
    "\n",
    "---\n",
    "\n",
    "### 3. Locally Remesh Intersecting Areas\n",
    "Remeshe intersecting regions to remove narrow triangles.\n",
    "\n",
    "### 4. Others\n",
    "- **Relevant Papers:**\n",
    "  - Soji Yamakawa (2009) [\"Removing Self Intersections of a Triangular Mesh by Edge Swapping, Edge Hammering, and Face Lifting.\"](https://www.researchgate.net/publication/226683830_Removing_Self_Intersections_of_a_Triangular_Mesh_by_Edge_Swapping_Edge_Hammering_and_Face_Lifting)\n"
   ]
  },
  {
   "cell_type": "markdown",
   "metadata": {},
   "source": [
    "### Comparisons"
   ]
  },
  {
   "cell_type": "markdown",
   "metadata": {},
   "source": [
    "#### Example1"
   ]
  },
  {
   "cell_type": "code",
   "execution_count": 1,
   "metadata": {},
   "outputs": [],
   "source": [
    "import pymesh\n",
    "from utils import *"
   ]
  },
  {
   "cell_type": "code",
   "execution_count": 5,
   "metadata": {},
   "outputs": [],
   "source": [
    "mesh = pymesh.load_mesh(\"data/two_spheres2.ply\")"
   ]
  },
  {
   "cell_type": "code",
   "execution_count": 6,
   "metadata": {},
   "outputs": [
    {
     "data": {
      "application/vnd.jupyter.widget-view+json": {
       "model_id": "0e0f08dc128a468793d07fa0f1881899",
       "version_major": 2,
       "version_minor": 0
      },
      "text/plain": [
       "Widget(value='<iframe src=\"http://localhost:46367/index.html?ui=P_0x7f72a07f71f0_1&reconnect=auto\" class=\"pyvi…"
      ]
     },
     "metadata": {},
     "output_type": "display_data"
    },
    {
     "data": {
      "text/plain": [
       "None"
      ]
     },
     "metadata": {},
     "output_type": "display_data"
    }
   ],
   "source": [
    "visualize(mesh)"
   ]
  },
  {
   "cell_type": "code",
   "execution_count": 7,
   "metadata": {},
   "outputs": [],
   "source": [
    "method1_mesh = direct_repair(mesh)\n",
    "method2_mesh = pymesh.compute_outer_hull(mesh)\n",
    "method3_mesh = repair_with_local_remesh(mesh)"
   ]
  },
  {
   "cell_type": "code",
   "execution_count": 8,
   "metadata": {},
   "outputs": [
    {
     "data": {
      "application/vnd.jupyter.widget-view+json": {
       "model_id": "37ba7a1c269c4896b317bac2e032d1b0",
       "version_major": 2,
       "version_minor": 0
      },
      "text/plain": [
       "Widget(value='<iframe src=\"http://localhost:46367/index.html?ui=P_0x7f729e9a8b50_2&reconnect=auto\" class=\"pyvi…"
      ]
     },
     "metadata": {},
     "output_type": "display_data"
    },
    {
     "data": {
      "text/plain": [
       "None"
      ]
     },
     "metadata": {},
     "output_type": "display_data"
    }
   ],
   "source": [
    "visualize_three_meshes(method1_mesh, method2_mesh, method3_mesh)"
   ]
  },
  {
   "cell_type": "code",
   "execution_count": 9,
   "metadata": {},
   "outputs": [
    {
     "name": "stdout",
     "output_type": "stream",
     "text": [
      "+-----------------------------------+------------+-----------+--------------+--------------+\n",
      "| Metric                            |   Original |   Method1 |      Method2 |      Method3 |\n",
      "+===================================+============+===========+==============+==============+\n",
      "| Number of vertices                |  952       | 476       |  917         |  937         |\n",
      "+-----------------------------------+------------+-----------+--------------+--------------+\n",
      "| Number of faces                   | 1896       | 948       | 1830         | 1870         |\n",
      "+-----------------------------------+------------+-----------+--------------+--------------+\n",
      "| Number of intersecting face pairs |  119       |   0       |    0         |    0         |\n",
      "+-----------------------------------+------------+-----------+--------------+--------------+\n",
      "| Volume                            |    7.07818 |   3.57206 |    6.61368   |    6.61002   |\n",
      "+-----------------------------------+------------+-----------+--------------+--------------+\n",
      "| Area                              |   22.5682  |  11.3654  |   19.0834    |   19.0839    |\n",
      "+-----------------------------------+------------+-----------+--------------+--------------+\n",
      "| Mean displacement                 |  nan       |   0.22541 |    0.0237742 |    0.0300835 |\n",
      "+-----------------------------------+------------+-----------+--------------+--------------+\n"
     ]
    }
   ],
   "source": [
    "full_evaluation(mesh, method1_mesh, method2_mesh, method3_mesh)"
   ]
  },
  {
   "cell_type": "markdown",
   "metadata": {},
   "source": [
    "#### Example2"
   ]
  },
  {
   "cell_type": "code",
   "execution_count": 10,
   "metadata": {},
   "outputs": [],
   "source": [
    "mesh2 = pymesh.load_mesh(\"data/three_spheres.ply\")"
   ]
  },
  {
   "cell_type": "code",
   "execution_count": 11,
   "metadata": {},
   "outputs": [
    {
     "data": {
      "application/vnd.jupyter.widget-view+json": {
       "model_id": "d9569328f0f64bb2ad6153de191af1af",
       "version_major": 2,
       "version_minor": 0
      },
      "text/plain": [
       "Widget(value='<iframe src=\"http://localhost:46367/index.html?ui=P_0x7f724c27cc10_3&reconnect=auto\" class=\"pyvi…"
      ]
     },
     "metadata": {},
     "output_type": "display_data"
    },
    {
     "data": {
      "text/plain": [
       "None"
      ]
     },
     "metadata": {},
     "output_type": "display_data"
    }
   ],
   "source": [
    "visualize(mesh2)"
   ]
  },
  {
   "cell_type": "code",
   "execution_count": 12,
   "metadata": {},
   "outputs": [],
   "source": [
    "method1_mesh2 = direct_repair(mesh2)\n",
    "method2_mesh2 = pymesh.compute_outer_hull(mesh2)\n",
    "method3_mesh2 = repair_with_local_remesh(mesh2)"
   ]
  },
  {
   "cell_type": "code",
   "execution_count": 13,
   "metadata": {},
   "outputs": [
    {
     "data": {
      "application/vnd.jupyter.widget-view+json": {
       "model_id": "5181f1ac9fc746eb908456377a925fe3",
       "version_major": 2,
       "version_minor": 0
      },
      "text/plain": [
       "Widget(value='<iframe src=\"http://localhost:46367/index.html?ui=P_0x7f724c27c9a0_4&reconnect=auto\" class=\"pyvi…"
      ]
     },
     "metadata": {},
     "output_type": "display_data"
    },
    {
     "data": {
      "text/plain": [
       "None"
      ]
     },
     "metadata": {},
     "output_type": "display_data"
    }
   ],
   "source": [
    "visualize_three_meshes(method1_mesh2, method2_mesh2, method3_mesh2)"
   ]
  },
  {
   "cell_type": "code",
   "execution_count": 14,
   "metadata": {},
   "outputs": [
    {
     "name": "stdout",
     "output_type": "stream",
     "text": [
      "+-----------------------------------+------------+-------------+--------------+--------------+\n",
      "| Metric                            |   Original |     Method1 |      Method2 |      Method3 |\n",
      "+===================================+============+=============+==============+==============+\n",
      "| Number of vertices                |  1608      |  536        | 1576         | 1564         |\n",
      "+-----------------------------------+------------+-------------+--------------+--------------+\n",
      "| Number of faces                   |  3204      | 1068        | 3148         | 3124         |\n",
      "+-----------------------------------+------------+-------------+--------------+--------------+\n",
      "| Number of intersecting face pairs |   292      |    0        |    0         |    0         |\n",
      "+-----------------------------------+------------+-------------+--------------+--------------+\n",
      "| Volume                            |    11.9636 |    3.98785  |   11.0221    |   11.0126    |\n",
      "+-----------------------------------+------------+-------------+--------------+--------------+\n",
      "| Area                              |    36.5995 |   12.1998   |   29.3751    |   29.3838    |\n",
      "+-----------------------------------+------------+-------------+--------------+--------------+\n",
      "| Mean displacement                 |   nan      |    0.358335 |    0.0317006 |    0.0381097 |\n",
      "+-----------------------------------+------------+-------------+--------------+--------------+\n"
     ]
    }
   ],
   "source": [
    "full_evaluation(mesh2, method1_mesh2, method2_mesh2, method3_mesh2)"
   ]
  },
  {
   "cell_type": "markdown",
   "metadata": {},
   "source": [
    "#### Example3"
   ]
  },
  {
   "cell_type": "code",
   "execution_count": 15,
   "metadata": {},
   "outputs": [],
   "source": [
    "mesh3 = pymesh.load_mesh(\"data/toy3.ply\")"
   ]
  },
  {
   "cell_type": "code",
   "execution_count": 16,
   "metadata": {},
   "outputs": [
    {
     "data": {
      "application/vnd.jupyter.widget-view+json": {
       "model_id": "418e86ef0a954fa98ed78189608dc7f8",
       "version_major": 2,
       "version_minor": 0
      },
      "text/plain": [
       "Widget(value='<iframe src=\"http://localhost:46367/index.html?ui=P_0x7f724c27ec80_5&reconnect=auto\" class=\"pyvi…"
      ]
     },
     "metadata": {},
     "output_type": "display_data"
    },
    {
     "data": {
      "text/plain": [
       "None"
      ]
     },
     "metadata": {},
     "output_type": "display_data"
    }
   ],
   "source": [
    "visualize(mesh3)"
   ]
  },
  {
   "cell_type": "code",
   "execution_count": 17,
   "metadata": {},
   "outputs": [],
   "source": [
    "method1_mesh3 = direct_repair(mesh3)\n",
    "method2_mesh3 = pymesh.compute_outer_hull(mesh3)\n",
    "method3_mesh3 = repair_with_local_remesh(mesh3)"
   ]
  },
  {
   "cell_type": "code",
   "execution_count": 18,
   "metadata": {},
   "outputs": [
    {
     "data": {
      "application/vnd.jupyter.widget-view+json": {
       "model_id": "1b9e355e583a405c83bec1196e4607df",
       "version_major": 2,
       "version_minor": 0
      },
      "text/plain": [
       "Widget(value='<iframe src=\"http://localhost:46367/index.html?ui=P_0x7f724e7ade40_6&reconnect=auto\" class=\"pyvi…"
      ]
     },
     "metadata": {},
     "output_type": "display_data"
    },
    {
     "data": {
      "text/plain": [
       "None"
      ]
     },
     "metadata": {},
     "output_type": "display_data"
    }
   ],
   "source": [
    "visualize_three_meshes(method1_mesh3, method2_mesh3, method3_mesh3)"
   ]
  },
  {
   "cell_type": "code",
   "execution_count": 19,
   "metadata": {},
   "outputs": [
    {
     "name": "stdout",
     "output_type": "stream",
     "text": [
      "+-----------------------------------+------------+------------+--------------+--------------+\n",
      "| Metric                            |   Original |    Method1 |      Method2 |      Method3 |\n",
      "+===================================+============+============+==============+==============+\n",
      "| Number of vertices                |   760      | 230        |  758         |  860         |\n",
      "+-----------------------------------+------------+------------+--------------+--------------+\n",
      "| Number of faces                   |  1512      | 456        | 1512         | 1716         |\n",
      "+-----------------------------------+------------+------------+--------------+--------------+\n",
      "| Number of intersecting face pairs |    99      |   0        |    0         |    0         |\n",
      "+-----------------------------------+------------+------------+--------------+--------------+\n",
      "| Volume                            |    11.5887 |   6.95055  |   10.8456    |   10.8422    |\n",
      "+-----------------------------------+------------+------------+--------------+--------------+\n",
      "| Area                              |    34.6426 |  25.1159   |   29.9165    |   29.9154    |\n",
      "+-----------------------------------+------------+------------+--------------+--------------+\n",
      "| Mean displacement                 |   nan      |   0.305105 |    0.0259377 |    0.0366025 |\n",
      "+-----------------------------------+------------+------------+--------------+--------------+\n"
     ]
    }
   ],
   "source": [
    "full_evaluation(mesh3, method1_mesh3, method2_mesh3, method3_mesh3)"
   ]
  },
  {
   "cell_type": "markdown",
   "metadata": {},
   "source": [
    "#### Example4"
   ]
  },
  {
   "cell_type": "code",
   "execution_count": 2,
   "metadata": {},
   "outputs": [],
   "source": [
    "mesh4 = pymesh.load_mesh(\"data/brain.ply\")"
   ]
  },
  {
   "cell_type": "code",
   "execution_count": 3,
   "metadata": {},
   "outputs": [
    {
     "data": {
      "application/vnd.jupyter.widget-view+json": {
       "model_id": "6483458fd7844a2f92f6330bbb4c6409",
       "version_major": 2,
       "version_minor": 0
      },
      "text/plain": [
       "Widget(value='<iframe src=\"http://localhost:46367/index.html?ui=P_0x7f72f1445f60_0&reconnect=auto\" class=\"pyvi…"
      ]
     },
     "metadata": {},
     "output_type": "display_data"
    },
    {
     "data": {
      "text/plain": [
       "None"
      ]
     },
     "metadata": {},
     "output_type": "display_data"
    }
   ],
   "source": [
    "visualize(mesh4)"
   ]
  },
  {
   "cell_type": "code",
   "execution_count": 4,
   "metadata": {},
   "outputs": [],
   "source": [
    "method1_mesh4 = direct_repair(mesh4)\n",
    "method2_mesh4 = pymesh.compute_outer_hull(mesh4)\n",
    "method3_mesh4 = repair_with_local_remesh(mesh4)"
   ]
  },
  {
   "cell_type": "code",
   "execution_count": 22,
   "metadata": {},
   "outputs": [
    {
     "name": "stderr",
     "output_type": "stream",
     "text": [
      "/home/kmaeda/anaconda3/envs/pymesh_env/lib/python3.10/site-packages/pyvista/core/pointset.py:1365: PyVistaDeprecationWarning: The current behavior of `pv.PolyData.n_faces` has been deprecated.\n",
      "                Use `pv.PolyData.n_cells` or `pv.PolyData.n_faces_strict` instead.\n",
      "                See the documentation in '`pv.PolyData.n_faces` for more information.\n",
      "  warnings.warn(\n"
     ]
    },
    {
     "data": {
      "application/vnd.jupyter.widget-view+json": {
       "model_id": "7ce368dacb9d409eb4b9611441bf0ea3",
       "version_major": 2,
       "version_minor": 0
      },
      "text/plain": [
       "Widget(value='<iframe src=\"http://localhost:46367/index.html?ui=P_0x7f724e7adf30_8&reconnect=auto\" class=\"pyvi…"
      ]
     },
     "metadata": {},
     "output_type": "display_data"
    },
    {
     "data": {
      "text/plain": [
       "None"
      ]
     },
     "metadata": {},
     "output_type": "display_data"
    }
   ],
   "source": [
    "visualize_intersection(mesh4)"
   ]
  },
  {
   "cell_type": "code",
   "execution_count": 20,
   "metadata": {},
   "outputs": [
    {
     "data": {
      "application/vnd.jupyter.widget-view+json": {
       "model_id": "e322956b57d245618a4829c3774a5c5b",
       "version_major": 2,
       "version_minor": 0
      },
      "text/plain": [
       "Widget(value='<iframe src=\"http://localhost:46367/index.html?ui=P_0x7f727878c520_7&reconnect=auto\" class=\"pyvi…"
      ]
     },
     "metadata": {},
     "output_type": "display_data"
    },
    {
     "data": {
      "text/plain": [
       "None"
      ]
     },
     "metadata": {},
     "output_type": "display_data"
    }
   ],
   "source": [
    "visualize_three_meshes(method1_mesh4, method2_mesh4, method3_mesh4)"
   ]
  },
  {
   "cell_type": "code",
   "execution_count": 21,
   "metadata": {},
   "outputs": [
    {
     "name": "stdout",
     "output_type": "stream",
     "text": [
      "+-----------------------------------+------------------+------------------+------------------+------------------+\n",
      "| Metric                            |         Original |          Method1 |          Method2 |          Method3 |\n",
      "+===================================+==================+==================+==================+==================+\n",
      "| Number of vertices                | 114045           | 108232           | 104810           | 105946           |\n",
      "+-----------------------------------+------------------+------------------+------------------+------------------+\n",
      "| Number of faces                   | 228190           | 216576           | 209720           | 212002           |\n",
      "+-----------------------------------+------------------+------------------+------------------+------------------+\n",
      "| Number of intersecting face pairs |    402           |      0           |      0           |      0           |\n",
      "+-----------------------------------+------------------+------------------+------------------+------------------+\n",
      "| Volume                            |      1.23075e+06 |      1.21568e+06 |      1.22503e+06 |      1.22503e+06 |\n",
      "+-----------------------------------+------------------+------------------+------------------+------------------+\n",
      "| Area                              | 189938           | 181213           | 175277           | 175275           |\n",
      "+-----------------------------------+------------------+------------------+------------------+------------------+\n",
      "| Mean displacement                 |    nan           |      0.04265     |      0.422342    |      0.423801    |\n",
      "+-----------------------------------+------------------+------------------+------------------+------------------+\n"
     ]
    }
   ],
   "source": [
    "full_evaluation(mesh4, method1_mesh4, method2_mesh4, method3_mesh4)"
   ]
  },
  {
   "cell_type": "code",
   "execution_count": null,
   "metadata": {},
   "outputs": [],
   "source": []
  }
 ],
 "metadata": {
  "kernelspec": {
   "display_name": "pymesh_env",
   "language": "python",
   "name": "python3"
  },
  "language_info": {
   "codemirror_mode": {
    "name": "ipython",
    "version": 3
   },
   "file_extension": ".py",
   "mimetype": "text/x-python",
   "name": "python",
   "nbconvert_exporter": "python",
   "pygments_lexer": "ipython3",
   "version": "3.10.16"
  }
 },
 "nbformat": 4,
 "nbformat_minor": 2
}

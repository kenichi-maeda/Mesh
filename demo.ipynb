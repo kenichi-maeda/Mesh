{
 "cells": [
  {
   "cell_type": "markdown",
   "metadata": {},
   "source": [
    "## Ways to Repair Intersections\n",
    "\n",
    "### 1. Delete Self-Intersected Triangles and Re-Triangulate\n",
    "Remove self-intersected triangles and fill the resulting holes.\n",
    "\n",
    "- **Libraries:**\n",
    "  - [`MeshFix`](https://github.com/MarcoAttene/MeshFix-V2.1) – A C++ tool for 3D triangular meshes.\n",
    "  - [`pymeshfix`](https://github.com/pyvista/pymeshfix) – A Python wrapper for MeshFix.\n",
    "\n",
    "- **Relevant Papers:**\n",
    "  - Attene, M. (2010). [\"A lightweight approach to repairing digitized polygon meshes.\"](https://link.springer.com/article/10.1007/s00371-010-0416-3)\n",
    "\n",
    "---\n",
    "\n",
    "### 2. Divide Intersected Facets by Adding Vertices and Edges\n",
    "Subdivide intersecting triangles by adding vertices and edges at intersection points.\n",
    "\n",
    "- **Libraries:**\n",
    "  - [`libigl`](https://libigl.github.io/) – A geometry processing library with CGAL as a backend.\n",
    "  - [`PyMesh`](https://github.com/PyMesh/PyMesh) – A Python library supporting various geometry processing tasks. It covers some libigl functions.\n",
    "\n",
    "- **Relevant Papers:**\n",
    "  - Jiang Zhu et al (2019)  [\"A Robust Algorithm to Remove the Self-intersection of 3D Mesh Data without Changing the Original Shape.\"](https://iopscience.iop.org/article/10.1088/1742-6596/1314/1/012149) \n",
    "  - Attene, M. (2014). [\"Direct repair of self-intersecting meshes\"](https://www.sciencedirect.com/science/article/pii/S1524070314000496) \n",
    "  - GIANMARCO CHERCHI [\"Fast and Robust Mesh Arrangements using Floating-point Arithmetic\"](https://www.gianmarcocherchi.com/pdf/mesh_arrangement.pdf) \n",
    "  - Jerome Charton (2020) [\"Mesh repairing using topology graphs\"](https://academic.oup.com/jcde/article/8/1/251/6019635) \n",
    "\n",
    "---\n",
    "\n",
    "### 3. Locally Remesh Intersecting Areas\n",
    "Remeshe intersecting regions to remove narrow triangles.\n",
    "\n",
    "### 4. Others\n",
    "- **Relevant Papers:**\n",
    "  - Soji Yamakawa (2009) [\"Removing Self Intersections of a Triangular Mesh by Edge Swapping, Edge Hammering, and Face Lifting.\"](https://www.researchgate.net/publication/226683830_Removing_Self_Intersections_of_a_Triangular_Mesh_by_Edge_Swapping_Edge_Hammering_and_Face_Lifting)\n"
   ]
  },
  {
   "cell_type": "markdown",
   "metadata": {},
   "source": [
    "### Comparisons"
   ]
  },
  {
   "cell_type": "markdown",
   "metadata": {},
   "source": [
    "#### Example1"
   ]
  },
  {
   "cell_type": "code",
   "execution_count": 1,
   "metadata": {},
   "outputs": [],
   "source": [
    "import pymesh\n",
    "from utils import *"
   ]
  },
  {
   "cell_type": "code",
   "execution_count": 11,
   "metadata": {},
   "outputs": [],
   "source": [
    "mesh = pymesh.load_mesh(\"data/two_spheres2.ply\")"
   ]
  },
  {
   "cell_type": "code",
   "execution_count": null,
   "metadata": {},
   "outputs": [
    {
     "data": {
      "application/vnd.jupyter.widget-view+json": {
       "model_id": "9ac2d8a19b4647348adc9a62bf894ba5",
       "version_major": 2,
       "version_minor": 0
      },
      "text/plain": [
       "Widget(value='<iframe src=\"http://localhost:45675/index.html?ui=P_0x7f619390a140_0&reconnect=auto\" class=\"pyvi…"
      ]
     },
     "metadata": {},
     "output_type": "display_data"
    },
    {
     "data": {
      "text/plain": [
       "None"
      ]
     },
     "metadata": {},
     "output_type": "display_data"
    },
    {
     "ename": "",
     "evalue": "",
     "output_type": "error",
     "traceback": [
      "\u001b[1;31mThe Kernel crashed while executing code in the current cell or a previous cell. \n",
      "\u001b[1;31mPlease review the code in the cell(s) to identify a possible cause of the failure. \n",
      "\u001b[1;31mClick <a href='https://aka.ms/vscodeJupyterKernelCrash'>here</a> for more info. \n",
      "\u001b[1;31mView Jupyter <a href='command:jupyter.viewOutput'>log</a> for further details."
     ]
    }
   ],
   "source": [
    "visualize(mesh)"
   ]
  },
  {
   "cell_type": "code",
   "execution_count": 12,
   "metadata": {},
   "outputs": [],
   "source": [
    "method1_mesh = direct_repair(mesh)\n",
    "method2_mesh = pymesh.compute_outer_hull(mesh)\n",
    "method3_mesh = repair_with_local_remesh(mesh)\n",
    "#method4_mesh = repair_contour(mesh, voxel_size=0.03)\n",
    "#method5_mesh = repair_meshlib(path=\"data/two_spheres2.ply\") # Fix self-intersections by converting to voxels and back."
   ]
  },
  {
   "cell_type": "code",
   "execution_count": null,
   "metadata": {},
   "outputs": [
    {
     "data": {
      "application/vnd.jupyter.widget-view+json": {
       "model_id": "1064a48c3719423d935485610372eafc",
       "version_major": 2,
       "version_minor": 0
      },
      "text/plain": [
       "Widget(value='<iframe src=\"http://localhost:35187/index.html?ui=P_0x7f78bd519b10_3&reconnect=auto\" class=\"pyvi…"
      ]
     },
     "metadata": {},
     "output_type": "display_data"
    },
    {
     "data": {
      "text/plain": [
       "None"
      ]
     },
     "metadata": {},
     "output_type": "display_data"
    }
   ],
   "source": [
    "visualize_six_meshes(original=mesh, mesh1=method1_mesh, mesh2=method2_mesh, mesh3=method3_mesh, mesh4=method4_mesh, mesh5=method5_mesh)"
   ]
  },
  {
   "cell_type": "code",
   "execution_count": null,
   "metadata": {},
   "outputs": [
    {
     "data": {
      "application/vnd.jupyter.widget-view+json": {
       "model_id": "4b64d847e3a74ca6a425ff92608bd16b",
       "version_major": 2,
       "version_minor": 0
      },
      "text/plain": [
       "Widget(value='<iframe src=\"http://localhost:35187/index.html?ui=P_0x7f78bd559420_4&reconnect=auto\" class=\"pyvi…"
      ]
     },
     "metadata": {},
     "output_type": "display_data"
    },
    {
     "data": {
      "text/plain": [
       "None"
      ]
     },
     "metadata": {},
     "output_type": "display_data"
    }
   ],
   "source": [
    "visualize_three_meshes(method1_mesh, method2_mesh, method3_mesh)"
   ]
  },
  {
   "cell_type": "code",
   "execution_count": 13,
   "metadata": {},
   "outputs": [
    {
     "name": "stdout",
     "output_type": "stream",
     "text": [
      "+-----------------------------------+-------------+------------+--------------+--------------+\n",
      "| Metric                            |    Original |    Method1 |      Method2 |      Method3 |\n",
      "+===================================+=============+============+==============+==============+\n",
      "| Number of vertices                |  952        | 476        |  917         |  937         |\n",
      "+-----------------------------------+-------------+------------+--------------+--------------+\n",
      "| Number of faces                   | 1896        | 948        | 1830         | 1870         |\n",
      "+-----------------------------------+-------------+------------+--------------+--------------+\n",
      "| Number of intersecting face pairs |  119        |   0        |    0         |    0         |\n",
      "+-----------------------------------+-------------+------------+--------------+--------------+\n",
      "| Volume                            |    7.07818  |   3.57206  |    6.61368   |    6.61002   |\n",
      "+-----------------------------------+-------------+------------+--------------+--------------+\n",
      "| Area                              |   22.5682   |  11.3654   |   19.0834    |   19.0839    |\n",
      "+-----------------------------------+-------------+------------+--------------+--------------+\n",
      "| Mean displacement                 |  nan        |   0.22541  |    0.0237742 |    0.0300835 |\n",
      "+-----------------------------------+-------------+------------+--------------+--------------+\n",
      "| Mean aspect ratio                 |    1.44276  |   1.38694  |   10.3517    |    1.44384   |\n",
      "+-----------------------------------+-------------+------------+--------------+--------------+\n",
      "| Mean condition                    |    1.24015  |   1.18328  |   10.0668    |    1.2398    |\n",
      "+-----------------------------------+-------------+------------+--------------+--------------+\n",
      "| Mean max angle                    |   84.5364   |  84.758    |   88.9071    |   84.4893    |\n",
      "+-----------------------------------+-------------+------------+--------------+--------------+\n",
      "| Mean min angle                    |   41.6242   |  41.9123   |   37.6993    |   41.4381    |\n",
      "+-----------------------------------+-------------+------------+--------------+--------------+\n",
      "| Mean scaled jacobian              |    0.757957 |   0.764245 |    0.688635  |    0.754435  |\n",
      "+-----------------------------------+-------------+------------+--------------+--------------+\n",
      "| Intact vertices (%)               |  nan        |  50        |   84.0336    |   76.9958    |\n",
      "+-----------------------------------+-------------+------------+--------------+--------------+\n",
      "| Mean Angle Deviation              |   17.1776   |  17.2509   |   20.5737    |   17.1808    |\n",
      "+-----------------------------------+-------------+------------+--------------+--------------+\n"
     ]
    }
   ],
   "source": [
    "full_evaluation(mesh, method1_mesh, method2_mesh, method3_mesh)"
   ]
  },
  {
   "cell_type": "markdown",
   "metadata": {},
   "source": [
    "#### Example2"
   ]
  },
  {
   "cell_type": "code",
   "execution_count": 8,
   "metadata": {},
   "outputs": [],
   "source": [
    "mesh2 = pymesh.load_mesh(\"data/three_spheres.ply\")"
   ]
  },
  {
   "cell_type": "code",
   "execution_count": null,
   "metadata": {},
   "outputs": [
    {
     "data": {
      "application/vnd.jupyter.widget-view+json": {
       "model_id": "9ced93d6b83544f0bc522a42ef716ce3",
       "version_major": 2,
       "version_minor": 0
      },
      "text/plain": [
       "Widget(value='<iframe src=\"http://localhost:35187/index.html?ui=P_0x7f78bd5cca60_7&reconnect=auto\" class=\"pyvi…"
      ]
     },
     "metadata": {},
     "output_type": "display_data"
    },
    {
     "data": {
      "text/plain": [
       "None"
      ]
     },
     "metadata": {},
     "output_type": "display_data"
    }
   ],
   "source": [
    "visualize(mesh2)"
   ]
  },
  {
   "cell_type": "code",
   "execution_count": 9,
   "metadata": {},
   "outputs": [],
   "source": [
    "method1_mesh2 = direct_repair(mesh2)\n",
    "method2_mesh2 = pymesh.compute_outer_hull(mesh2)\n",
    "method3_mesh2 = repair_with_local_remesh(mesh2)"
   ]
  },
  {
   "cell_type": "code",
   "execution_count": null,
   "metadata": {},
   "outputs": [
    {
     "data": {
      "application/vnd.jupyter.widget-view+json": {
       "model_id": "0a71d4ce13ed4496b6e193c6c35b4e7b",
       "version_major": 2,
       "version_minor": 0
      },
      "text/plain": [
       "Widget(value='<iframe src=\"http://localhost:35187/index.html?ui=P_0x7f78bd5c6a70_6&reconnect=auto\" class=\"pyvi…"
      ]
     },
     "metadata": {},
     "output_type": "display_data"
    },
    {
     "data": {
      "text/plain": [
       "None"
      ]
     },
     "metadata": {},
     "output_type": "display_data"
    }
   ],
   "source": [
    "visualize_three_meshes(method1_mesh2, method2_mesh2, method3_mesh2)"
   ]
  },
  {
   "cell_type": "code",
   "execution_count": 10,
   "metadata": {},
   "outputs": [
    {
     "name": "stdout",
     "output_type": "stream",
     "text": [
      "+-----------------------------------+-------------+-------------+--------------+--------------+\n",
      "| Metric                            |    Original |     Method1 |      Method2 |      Method3 |\n",
      "+===================================+=============+=============+==============+==============+\n",
      "| Number of vertices                | 1608        |  536        | 1576         | 1564         |\n",
      "+-----------------------------------+-------------+-------------+--------------+--------------+\n",
      "| Number of faces                   | 3204        | 1068        | 3148         | 3124         |\n",
      "+-----------------------------------+-------------+-------------+--------------+--------------+\n",
      "| Number of intersecting face pairs |  292        |    0        |    0         |    0         |\n",
      "+-----------------------------------+-------------+-------------+--------------+--------------+\n",
      "| Volume                            |   11.9636   |    3.98785  |   11.0221    |   11.0126    |\n",
      "+-----------------------------------+-------------+-------------+--------------+--------------+\n",
      "| Area                              |   36.5995   |   12.1998   |   29.3751    |   29.3838    |\n",
      "+-----------------------------------+-------------+-------------+--------------+--------------+\n",
      "| Mean displacement                 |  nan        |    0.358335 |    0.0317006 |    0.0381097 |\n",
      "+-----------------------------------+-------------+-------------+--------------+--------------+\n",
      "| Mean aspect ratio                 |    1.32852  |    1.32852  |    7.58477   |    1.3732    |\n",
      "+-----------------------------------+-------------+-------------+--------------+--------------+\n",
      "| Mean condition                    |    1.14841  |    1.14841  |    7.32582   |    1.18108   |\n",
      "+-----------------------------------+-------------+-------------+--------------+--------------+\n",
      "| Mean max angle                    |   81.7211   |   81.7211   |   88.1958    |   82.7455    |\n",
      "+-----------------------------------+-------------+-------------+--------------+--------------+\n",
      "| Mean min angle                    |   41.216    |   41.216    |   36.6265    |   41.0062    |\n",
      "+-----------------------------------+-------------+-------------+--------------+--------------+\n",
      "| Mean scaled jacobian              |    0.756785 |    0.756785 |    0.674093  |    0.751746  |\n",
      "+-----------------------------------+-------------+-------------+--------------+--------------+\n",
      "| Intact vertices (%)               |  nan        |   33.3333   |   80.3483    |   70.6468    |\n",
      "+-----------------------------------+-------------+-------------+--------------+--------------+\n",
      "| Mean Angle Deviation              |   15.7303   |   15.7303   |   20.1621    |   16.3723    |\n",
      "+-----------------------------------+-------------+-------------+--------------+--------------+\n"
     ]
    }
   ],
   "source": [
    "full_evaluation(mesh2, method1_mesh2, method2_mesh2, method3_mesh2)"
   ]
  },
  {
   "cell_type": "markdown",
   "metadata": {},
   "source": [
    "#### Example3"
   ]
  },
  {
   "cell_type": "code",
   "execution_count": 5,
   "metadata": {},
   "outputs": [],
   "source": [
    "mesh3 = pymesh.load_mesh(\"data/toy3.ply\")"
   ]
  },
  {
   "cell_type": "code",
   "execution_count": null,
   "metadata": {},
   "outputs": [
    {
     "data": {
      "application/vnd.jupyter.widget-view+json": {
       "model_id": "2862adf82f1d4129b6ca851be9dac7bd",
       "version_major": 2,
       "version_minor": 0
      },
      "text/plain": [
       "Widget(value='<iframe src=\"http://localhost:35187/index.html?ui=P_0x7f78921b2a70_8&reconnect=auto\" class=\"pyvi…"
      ]
     },
     "metadata": {},
     "output_type": "display_data"
    },
    {
     "data": {
      "text/plain": [
       "None"
      ]
     },
     "metadata": {},
     "output_type": "display_data"
    }
   ],
   "source": [
    "visualize(mesh3)"
   ]
  },
  {
   "cell_type": "code",
   "execution_count": 6,
   "metadata": {},
   "outputs": [],
   "source": [
    "method1_mesh3 = direct_repair(mesh3)\n",
    "method2_mesh3 = pymesh.compute_outer_hull(mesh3)\n",
    "method3_mesh3 = repair_with_local_remesh(mesh3)"
   ]
  },
  {
   "cell_type": "code",
   "execution_count": null,
   "metadata": {},
   "outputs": [
    {
     "data": {
      "application/vnd.jupyter.widget-view+json": {
       "model_id": "d69c4d4f36a943708b6b2c516696b875",
       "version_major": 2,
       "version_minor": 0
      },
      "text/plain": [
       "Widget(value='<iframe src=\"http://localhost:35187/index.html?ui=P_0x7f78bd5cdb40_9&reconnect=auto\" class=\"pyvi…"
      ]
     },
     "metadata": {},
     "output_type": "display_data"
    },
    {
     "data": {
      "text/plain": [
       "None"
      ]
     },
     "metadata": {},
     "output_type": "display_data"
    }
   ],
   "source": [
    "visualize_three_meshes(method1_mesh3, method2_mesh3, method3_mesh3)"
   ]
  },
  {
   "cell_type": "code",
   "execution_count": 7,
   "metadata": {},
   "outputs": [
    {
     "name": "stdout",
     "output_type": "stream",
     "text": [
      "+-----------------------------------+-------------+------------+--------------+--------------+\n",
      "| Metric                            |    Original |    Method1 |      Method2 |      Method3 |\n",
      "+===================================+=============+============+==============+==============+\n",
      "| Number of vertices                |  760        | 230        |  758         |  860         |\n",
      "+-----------------------------------+-------------+------------+--------------+--------------+\n",
      "| Number of faces                   | 1512        | 456        | 1512         | 1716         |\n",
      "+-----------------------------------+-------------+------------+--------------+--------------+\n",
      "| Number of intersecting face pairs |   99        |   0        |    0         |    0         |\n",
      "+-----------------------------------+-------------+------------+--------------+--------------+\n",
      "| Volume                            |   11.5887   |   6.95055  |   10.8456    |   10.8422    |\n",
      "+-----------------------------------+-------------+------------+--------------+--------------+\n",
      "| Area                              |   34.6426   |  25.1159   |   29.9165    |   29.9154    |\n",
      "+-----------------------------------+-------------+------------+--------------+--------------+\n",
      "| Mean displacement                 |  nan        |   0.305105 |    0.0259377 |    0.0366025 |\n",
      "+-----------------------------------+-------------+------------+--------------+--------------+\n",
      "| Mean aspect ratio                 |    1.39028  |   2.20959  |    2.13189   |    1.42078   |\n",
      "+-----------------------------------+-------------+------------+--------------+--------------+\n",
      "| Mean condition                    |    1.17609  |   1.87382  |    1.86243   |    1.20389   |\n",
      "+-----------------------------------+-------------+------------+--------------+--------------+\n",
      "| Mean max angle                    |   86.4643   |  96.0991   |   90.4528    |   86.3096    |\n",
      "+-----------------------------------+-------------+------------+--------------+--------------+\n",
      "| Mean min angle                    |   41.6592   |  35.0129   |   38.041     |   40.8672    |\n",
      "+-----------------------------------+-------------+------------+--------------+--------------+\n",
      "| Mean scaled jacobian              |    0.761911 |   0.648732 |    0.698354  |    0.748224  |\n",
      "+-----------------------------------+-------------+------------+--------------+--------------+\n",
      "| Intact vertices (%)               |  nan        |  30.2632   |   86.7105    |   79.7368    |\n",
      "+-----------------------------------+-------------+------------+--------------+--------------+\n",
      "| Mean Angle Deviation              |   17.9117   |  24.3704   |   20.8828    |   18.0721    |\n",
      "+-----------------------------------+-------------+------------+--------------+--------------+\n"
     ]
    }
   ],
   "source": [
    "full_evaluation(mesh3, method1_mesh3, method2_mesh3, method3_mesh3)"
   ]
  },
  {
   "cell_type": "markdown",
   "metadata": {},
   "source": [
    "#### Example4"
   ]
  },
  {
   "cell_type": "code",
   "execution_count": 2,
   "metadata": {},
   "outputs": [],
   "source": [
    "mesh4 = pymesh.load_mesh(\"data/brain.ply\")"
   ]
  },
  {
   "cell_type": "code",
   "execution_count": null,
   "metadata": {},
   "outputs": [],
   "source": [
    "visualize(mesh4)"
   ]
  },
  {
   "cell_type": "code",
   "execution_count": 3,
   "metadata": {},
   "outputs": [],
   "source": [
    "method1_mesh4 = direct_repair(mesh4)\n",
    "method2_mesh4 = pymesh.compute_outer_hull(mesh4)\n",
    "method3_mesh4 = repair_with_local_remesh(mesh4)"
   ]
  },
  {
   "cell_type": "code",
   "execution_count": null,
   "metadata": {},
   "outputs": [],
   "source": [
    "visualize_intersection(mesh4)"
   ]
  },
  {
   "cell_type": "code",
   "execution_count": null,
   "metadata": {},
   "outputs": [
    {
     "data": {
      "application/vnd.jupyter.widget-view+json": {
       "model_id": "063bc127376e42bb9142868b0e455157",
       "version_major": 2,
       "version_minor": 0
      },
      "text/plain": [
       "Widget(value='<iframe src=\"http://localhost:36215/index.html?ui=P_0x7f1a20f8a6e0_3&reconnect=auto\" class=\"pyvi…"
      ]
     },
     "metadata": {},
     "output_type": "display_data"
    },
    {
     "data": {
      "text/plain": [
       "None"
      ]
     },
     "metadata": {},
     "output_type": "display_data"
    }
   ],
   "source": [
    "visualize_three_meshes(method1_mesh4, method2_mesh4, method3_mesh4)"
   ]
  },
  {
   "cell_type": "code",
   "execution_count": 4,
   "metadata": {},
   "outputs": [
    {
     "name": "stdout",
     "output_type": "stream",
     "text": [
      "+-----------------------------------+------------------+------------------+------------------+------------------+\n",
      "| Metric                            |         Original |          Method1 |          Method2 |          Method3 |\n",
      "+===================================+==================+==================+==================+==================+\n",
      "| Number of vertices                | 114045           | 108232           | 104810           | 105946           |\n",
      "+-----------------------------------+------------------+------------------+------------------+------------------+\n",
      "| Number of faces                   | 228190           | 216576           | 209720           | 212002           |\n",
      "+-----------------------------------+------------------+------------------+------------------+------------------+\n",
      "| Number of intersecting face pairs |    402           |      0           |      0           |      0           |\n",
      "+-----------------------------------+------------------+------------------+------------------+------------------+\n",
      "| Volume                            |      1.23075e+06 |      1.21568e+06 |      1.22503e+06 |      1.22503e+06 |\n",
      "+-----------------------------------+------------------+------------------+------------------+------------------+\n",
      "| Area                              | 189938           | 181213           | 175277           | 175275           |\n",
      "+-----------------------------------+------------------+------------------+------------------+------------------+\n",
      "| Mean displacement                 |    nan           |      0.04265     |      0.422342    |      0.423801    |\n",
      "+-----------------------------------+------------------+------------------+------------------+------------------+\n",
      "| Mean aspect ratio                 |      1.18871     |      1.18844     |      1.20086     |      1.23701     |\n",
      "+-----------------------------------+------------------+------------------+------------------+------------------+\n",
      "| Mean condition                    |      1.06917     |      1.06908     |      1.08053     |      1.11575     |\n",
      "+-----------------------------------+------------------+------------------+------------------+------------------+\n",
      "| Mean max angle                    |     73.8423      |     73.8178      |     73.9033      |     73.9932      |\n",
      "+-----------------------------------+------------------+------------------+------------------+------------------+\n",
      "| Mean min angle                    |     47.7692      |     47.7743      |     47.7014      |     47.6602      |\n",
      "+-----------------------------------+------------------+------------------+------------------+------------------+\n",
      "| Mean scaled jacobian              |      0.849881    |      0.849946    |      0.84871     |      0.848187    |\n",
      "+-----------------------------------+------------------+------------------+------------------+------------------+\n",
      "| Intact vertices (%)               |    nan           |     94.9029      |     91.6919      |     88.3713      |\n",
      "+-----------------------------------+------------------+------------------+------------------+------------------+\n",
      "| Mean Angle Deviation              |     10.1367      |     10.124       |     10.186       |     10.2436      |\n",
      "+-----------------------------------+------------------+------------------+------------------+------------------+\n"
     ]
    }
   ],
   "source": [
    "full_evaluation(mesh4, method1_mesh4, method2_mesh4, method3_mesh4)"
   ]
  },
  {
   "cell_type": "code",
   "execution_count": null,
   "metadata": {},
   "outputs": [],
   "source": [
    "original_mesh = mesh4\n",
    "repaired_mesh = method3_mesh4"
   ]
  },
  {
   "cell_type": "code",
   "execution_count": null,
   "metadata": {},
   "outputs": [
    {
     "name": "stdout",
     "output_type": "stream",
     "text": [
      "[[-62.318844  13.726541  35.150734]\n",
      " [-62.13073   12.639082  35.109333]\n",
      " [-62.089294   2.406333   3.60285 ]\n",
      " ...\n",
      " [ 30.508677  18.342154  -8.132757]\n",
      " [ 30.525169  19.352129  -8.974946]\n",
      " [ 30.644588  18.414427  -9.146328]]\n",
      "[[-62.3188      13.7265      35.1507    ]\n",
      " [-62.1307      12.6391      35.1093    ]\n",
      " [-62.0893       2.40633      3.60285   ]\n",
      " ...\n",
      " [-27.0549      -2.13112      9.23786   ]\n",
      " [-27.0367      -2.13813      9.2311    ]\n",
      " [-27.03822514  -2.13760467   9.23170363]]\n"
     ]
    }
   ],
   "source": [
    "original_vertices = original_mesh.vertices\n",
    "repaired_vertices = repaired_mesh.vertices\n",
    "print(original_vertices)\n",
    "print(repaired_vertices)"
   ]
  },
  {
   "cell_type": "code",
   "execution_count": null,
   "metadata": {},
   "outputs": [
    {
     "name": "stdout",
     "output_type": "stream",
     "text": [
      "[(31.143332, 93.89682, 15.842457), (-57.869671, -6.377414, 18.123165), (-22.942926, -0.371479, 6.947646), (-28.765762, 35.048004, -30.266104), (25.846231, 46.969326, 60.759846)]\n",
      "[(-10.2565, 5.94844, 48.9925), (4.37363, 81.3666, -13.1425), (56.3098, 21.7609, 2.4041), (0.481607, -10.188, -13.6762), (-0.427319, 35.2363, 71.2058)]\n"
     ]
    }
   ],
   "source": [
    "original_set = set(map(tuple, original_vertices))\n",
    "repaired_set = set(map(tuple, repaired_vertices))\n",
    "print(list(original_set)[:5])\n",
    "print(list(repaired_set)[:5])"
   ]
  },
  {
   "cell_type": "code",
   "execution_count": null,
   "metadata": {},
   "outputs": [
    {
     "name": "stdout",
     "output_type": "stream",
     "text": [
      "8\n"
     ]
    }
   ],
   "source": [
    "intact_count = len(original_set.intersection(repaired_set))\n",
    "intact_percentage = (intact_count / len(original_set)) * 100\n",
    "print(intact_count)"
   ]
  },
  {
   "cell_type": "code",
   "execution_count": null,
   "metadata": {},
   "outputs": [],
   "source": []
  }
 ],
 "metadata": {
  "kernelspec": {
   "display_name": "pymesh_env",
   "language": "python",
   "name": "python3"
  },
  "language_info": {
   "codemirror_mode": {
    "name": "ipython",
    "version": 3
   },
   "file_extension": ".py",
   "mimetype": "text/x-python",
   "name": "python",
   "nbconvert_exporter": "python",
   "pygments_lexer": "ipython3",
   "version": "3.10.16"
  }
 },
 "nbformat": 4,
 "nbformat_minor": 2
}

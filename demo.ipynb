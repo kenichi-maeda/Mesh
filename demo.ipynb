{
 "cells": [
  {
   "cell_type": "markdown",
   "metadata": {},
   "source": [
    "## Ways to Repair Intersections\n",
    "\n",
    "### 1. Delete Self-Intersected Triangles and Re-Triangulate\n",
    "Remove self-intersected triangles and fill the resulting holes.\n",
    "\n",
    "- **Libraries:**\n",
    "  - [`MeshFix`](https://github.com/MarcoAttene/MeshFix-V2.1) – A C++ tool for 3D triangular meshes.\n",
    "  - [`pymeshfix`](https://github.com/pyvista/pymeshfix) – A Python wrapper for MeshFix.\n",
    "\n",
    "- **Relevant Papers:**\n",
    "  - Attene, M. (2010). [\"A lightweight approach to repairing digitized polygon meshes.\"](https://link.springer.com/article/10.1007/s00371-010-0416-3)\n",
    "\n",
    "---\n",
    "\n",
    "### 2. Divide Intersected Facets by Adding Vertices and Edges\n",
    "Subdivide intersecting triangles by adding vertices and edges at intersection points.\n",
    "\n",
    "- **Libraries:**\n",
    "  - [`libigl`](https://libigl.github.io/) – A geometry processing library with CGAL as a backend.\n",
    "  - [`PyMesh`](https://github.com/PyMesh/PyMesh) – A Python library supporting various geometry processing tasks. It covers some libigl functions.\n",
    "\n",
    "- **Relevant Papers:**\n",
    "  - Jiang Zhu et al (2019)  [\"A Robust Algorithm to Remove the Self-intersection of 3D Mesh Data without Changing the Original Shape.\"](https://iopscience.iop.org/article/10.1088/1742-6596/1314/1/012149) \n",
    "  - Attene, M. (2014). [\"Direct repair of self-intersecting meshes\"](https://www.sciencedirect.com/science/article/pii/S1524070314000496) \n",
    "  - GIANMARCO CHERCHI [\"Fast and Robust Mesh Arrangements using Floating-point Arithmetic\"](https://www.gianmarcocherchi.com/pdf/mesh_arrangement.pdf) \n",
    "  - Jerome Charton (2020) [\"Mesh repairing using topology graphs\"](https://academic.oup.com/jcde/article/8/1/251/6019635) \n",
    "\n",
    "---\n",
    "\n",
    "### 3. Locally Remesh Intersecting Areas\n",
    "Remeshe intersecting regions to remove narrow triangles.\n",
    "\n",
    "### 4. Others\n",
    "- **Relevant Papers:**\n",
    "  - Soji Yamakawa (2009) [\"Removing Self Intersections of a Triangular Mesh by Edge Swapping, Edge Hammering, and Face Lifting.\"](https://www.researchgate.net/publication/226683830_Removing_Self_Intersections_of_a_Triangular_Mesh_by_Edge_Swapping_Edge_Hammering_and_Face_Lifting)\n"
   ]
  },
  {
   "cell_type": "markdown",
   "metadata": {},
   "source": [
    "### Comparisons"
   ]
  },
  {
   "cell_type": "markdown",
   "metadata": {},
   "source": [
    "#### Example1"
   ]
  },
  {
   "cell_type": "code",
   "execution_count": 1,
   "metadata": {},
   "outputs": [],
   "source": [
    "import pymesh\n",
    "from utils import *"
   ]
  },
  {
   "cell_type": "code",
   "execution_count": 2,
   "metadata": {},
   "outputs": [],
   "source": [
    "mesh = pymesh.load_mesh(\"data/two_spheres2.ply\")"
   ]
  },
  {
   "cell_type": "code",
   "execution_count": null,
   "metadata": {},
   "outputs": [],
   "source": [
    "visualize(mesh)"
   ]
  },
  {
   "cell_type": "code",
   "execution_count": 3,
   "metadata": {},
   "outputs": [],
   "source": [
    "method1_mesh = direct_repair(mesh)\n",
    "method2_mesh = pymesh.compute_outer_hull(mesh)\n",
    "method3_mesh = repair_with_local_remesh(mesh)"
   ]
  },
  {
   "cell_type": "code",
   "execution_count": null,
   "metadata": {},
   "outputs": [],
   "source": [
    "visualize_three_meshes(method1_mesh, method2_mesh, method3_mesh)"
   ]
  },
  {
   "cell_type": "code",
   "execution_count": 4,
   "metadata": {},
   "outputs": [
    {
     "name": "stdout",
     "output_type": "stream",
     "text": [
      "+-----------------------------------+-------------+------------+--------------+--------------+\n",
      "| Metric                            |    Original |    Method1 |      Method2 |      Method3 |\n",
      "+===================================+=============+============+==============+==============+\n",
      "| Number of vertices                |  952        | 476        |  917         |  937         |\n",
      "+-----------------------------------+-------------+------------+--------------+--------------+\n",
      "| Number of faces                   | 1896        | 948        | 1830         | 1870         |\n",
      "+-----------------------------------+-------------+------------+--------------+--------------+\n",
      "| Number of intersecting face pairs |  119        |   0        |    0         |    0         |\n",
      "+-----------------------------------+-------------+------------+--------------+--------------+\n",
      "| Volume                            |    7.07818  |   3.57206  |    6.61368   |    6.61002   |\n",
      "+-----------------------------------+-------------+------------+--------------+--------------+\n",
      "| Area                              |   22.5682   |  11.3654   |   19.0834    |   19.0839    |\n",
      "+-----------------------------------+-------------+------------+--------------+--------------+\n",
      "| Mean displacement                 |  nan        |   0.22541  |    0.0237742 |    0.0300835 |\n",
      "+-----------------------------------+-------------+------------+--------------+--------------+\n",
      "| Mean aspect ratio                 |    1.44276  |   1.38694  |   10.3517    |    1.44384   |\n",
      "+-----------------------------------+-------------+------------+--------------+--------------+\n",
      "| Mean condition                    |    1.24015  |   1.18328  |   10.0668    |    1.2398    |\n",
      "+-----------------------------------+-------------+------------+--------------+--------------+\n",
      "| Mean max angle                    |   84.5364   |  84.758    |   88.9071    |   84.4893    |\n",
      "+-----------------------------------+-------------+------------+--------------+--------------+\n",
      "| Mean scaled jacobian              |    0.757957 |   0.764245 |    0.688635  |    0.754435  |\n",
      "+-----------------------------------+-------------+------------+--------------+--------------+\n",
      "| Intact vertices (%)               |  nan        |  50        |   84.0336    |   76.9958    |\n",
      "+-----------------------------------+-------------+------------+--------------+--------------+\n"
     ]
    }
   ],
   "source": [
    "full_evaluation(mesh, method1_mesh, method2_mesh, method3_mesh)"
   ]
  },
  {
   "cell_type": "markdown",
   "metadata": {},
   "source": [
    "#### Example2"
   ]
  },
  {
   "cell_type": "code",
   "execution_count": 5,
   "metadata": {},
   "outputs": [],
   "source": [
    "mesh2 = pymesh.load_mesh(\"data/three_spheres.ply\")"
   ]
  },
  {
   "cell_type": "code",
   "execution_count": null,
   "metadata": {},
   "outputs": [],
   "source": [
    "visualize(mesh2)"
   ]
  },
  {
   "cell_type": "code",
   "execution_count": 6,
   "metadata": {},
   "outputs": [],
   "source": [
    "method1_mesh2 = direct_repair(mesh2)\n",
    "method2_mesh2 = pymesh.compute_outer_hull(mesh2)\n",
    "method3_mesh2 = repair_with_local_remesh(mesh2)"
   ]
  },
  {
   "cell_type": "code",
   "execution_count": null,
   "metadata": {},
   "outputs": [],
   "source": [
    "visualize_three_meshes(method1_mesh2, method2_mesh2, method3_mesh2)"
   ]
  },
  {
   "cell_type": "code",
   "execution_count": 7,
   "metadata": {},
   "outputs": [
    {
     "name": "stdout",
     "output_type": "stream",
     "text": [
      "+-----------------------------------+-------------+-------------+--------------+--------------+\n",
      "| Metric                            |    Original |     Method1 |      Method2 |      Method3 |\n",
      "+===================================+=============+=============+==============+==============+\n",
      "| Number of vertices                | 1608        |  536        | 1576         | 1564         |\n",
      "+-----------------------------------+-------------+-------------+--------------+--------------+\n",
      "| Number of faces                   | 3204        | 1068        | 3148         | 3124         |\n",
      "+-----------------------------------+-------------+-------------+--------------+--------------+\n",
      "| Number of intersecting face pairs |  292        |    0        |    0         |    0         |\n",
      "+-----------------------------------+-------------+-------------+--------------+--------------+\n",
      "| Volume                            |   11.9636   |    3.98785  |   11.0221    |   11.0126    |\n",
      "+-----------------------------------+-------------+-------------+--------------+--------------+\n",
      "| Area                              |   36.5995   |   12.1998   |   29.3751    |   29.3838    |\n",
      "+-----------------------------------+-------------+-------------+--------------+--------------+\n",
      "| Mean displacement                 |  nan        |    0.358335 |    0.0317006 |    0.0381097 |\n",
      "+-----------------------------------+-------------+-------------+--------------+--------------+\n",
      "| Mean aspect ratio                 |    1.32852  |    1.32852  |    7.58477   |    1.3732    |\n",
      "+-----------------------------------+-------------+-------------+--------------+--------------+\n",
      "| Mean condition                    |    1.14841  |    1.14841  |    7.32582   |    1.18108   |\n",
      "+-----------------------------------+-------------+-------------+--------------+--------------+\n",
      "| Mean max angle                    |   81.7211   |   81.7211   |   88.1958    |   82.7455    |\n",
      "+-----------------------------------+-------------+-------------+--------------+--------------+\n",
      "| Mean scaled jacobian              |    0.756785 |    0.756785 |    0.674093  |    0.751746  |\n",
      "+-----------------------------------+-------------+-------------+--------------+--------------+\n",
      "| Intact vertices (%)               |  nan        |   33.3333   |   80.3483    |   70.6468    |\n",
      "+-----------------------------------+-------------+-------------+--------------+--------------+\n"
     ]
    }
   ],
   "source": [
    "full_evaluation(mesh2, method1_mesh2, method2_mesh2, method3_mesh2)"
   ]
  },
  {
   "cell_type": "markdown",
   "metadata": {},
   "source": [
    "#### Example3"
   ]
  },
  {
   "cell_type": "code",
   "execution_count": null,
   "metadata": {},
   "outputs": [],
   "source": [
    "mesh3 = pymesh.load_mesh(\"data/toy3.ply\")"
   ]
  },
  {
   "cell_type": "code",
   "execution_count": null,
   "metadata": {},
   "outputs": [],
   "source": [
    "visualize(mesh3)"
   ]
  },
  {
   "cell_type": "code",
   "execution_count": null,
   "metadata": {},
   "outputs": [],
   "source": [
    "method1_mesh3 = direct_repair(mesh3)\n",
    "method2_mesh3 = pymesh.compute_outer_hull(mesh3)\n",
    "method3_mesh3 = repair_with_local_remesh(mesh3)"
   ]
  },
  {
   "cell_type": "code",
   "execution_count": null,
   "metadata": {},
   "outputs": [],
   "source": [
    "visualize_three_meshes(method1_mesh3, method2_mesh3, method3_mesh3)"
   ]
  },
  {
   "cell_type": "code",
   "execution_count": null,
   "metadata": {},
   "outputs": [],
   "source": [
    "full_evaluation(mesh3, method1_mesh3, method2_mesh3, method3_mesh3)"
   ]
  },
  {
   "cell_type": "markdown",
   "metadata": {},
   "source": [
    "#### Example4"
   ]
  },
  {
   "cell_type": "code",
   "execution_count": null,
   "metadata": {},
   "outputs": [],
   "source": [
    "mesh4 = pymesh.load_mesh(\"data/brain.ply\")"
   ]
  },
  {
   "cell_type": "code",
   "execution_count": null,
   "metadata": {},
   "outputs": [],
   "source": [
    "visualize(mesh4)"
   ]
  },
  {
   "cell_type": "code",
   "execution_count": null,
   "metadata": {},
   "outputs": [],
   "source": [
    "method1_mesh4 = direct_repair(mesh4)\n",
    "method2_mesh4 = pymesh.compute_outer_hull(mesh4)\n",
    "method3_mesh4 = repair_with_local_remesh(mesh4)"
   ]
  },
  {
   "cell_type": "code",
   "execution_count": null,
   "metadata": {},
   "outputs": [],
   "source": [
    "visualize_intersection(mesh4)"
   ]
  },
  {
   "cell_type": "code",
   "execution_count": null,
   "metadata": {},
   "outputs": [],
   "source": [
    "visualize_three_meshes(method1_mesh4, method2_mesh4, method3_mesh4)"
   ]
  },
  {
   "cell_type": "code",
   "execution_count": null,
   "metadata": {},
   "outputs": [],
   "source": [
    "full_evaluation(mesh4, method1_mesh4, method2_mesh4, method3_mesh4)"
   ]
  },
  {
   "cell_type": "code",
   "execution_count": null,
   "metadata": {},
   "outputs": [],
   "source": []
  }
 ],
 "metadata": {
  "kernelspec": {
   "display_name": "pymesh_env",
   "language": "python",
   "name": "python3"
  },
  "language_info": {
   "codemirror_mode": {
    "name": "ipython",
    "version": 3
   },
   "file_extension": ".py",
   "mimetype": "text/x-python",
   "name": "python",
   "nbconvert_exporter": "python",
   "pygments_lexer": "ipython3",
   "version": "3.10.16"
  }
 },
 "nbformat": 4,
 "nbformat_minor": 2
}

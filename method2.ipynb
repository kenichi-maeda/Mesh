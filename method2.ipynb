{
 "cells": [
  {
   "cell_type": "markdown",
   "metadata": {},
   "source": [
    "## Method2"
   ]
  },
  {
   "cell_type": "code",
   "execution_count": 16,
   "metadata": {},
   "outputs": [],
   "source": [
    "from utils import *"
   ]
  },
  {
   "cell_type": "markdown",
   "metadata": {},
   "source": [
    "#### Load a file"
   ]
  },
  {
   "cell_type": "code",
   "execution_count": 17,
   "metadata": {},
   "outputs": [],
   "source": [
    "mesh = pymesh.load_mesh(\"data/two_spheres.ply\")"
   ]
  },
  {
   "cell_type": "code",
   "execution_count": 18,
   "metadata": {},
   "outputs": [
    {
     "name": "stdout",
     "output_type": "stream",
     "text": [
      "+-----------------------------------+---------+\n",
      "| Metric                            |   Value |\n",
      "+===================================+=========+\n",
      "| Number of vertices                |     256 |\n",
      "+-----------------------------------+---------+\n",
      "| Number of faces                   |     504 |\n",
      "+-----------------------------------+---------+\n",
      "| Number of intersecting face pairs |      64 |\n",
      "+-----------------------------------+---------+\n"
     ]
    }
   ],
   "source": [
    "self_intersection_stats(mesh)"
   ]
  },
  {
   "cell_type": "code",
   "execution_count": 19,
   "metadata": {},
   "outputs": [
    {
     "data": {
      "application/vnd.jupyter.widget-view+json": {
       "model_id": "fa9bea64559349dfbefc55f5b7da3c18",
       "version_major": 2,
       "version_minor": 0
      },
      "text/plain": [
       "Widget(value='<iframe src=\"http://localhost:38155/index.html?ui=P_0x7fbc1a606f20_4&reconnect=auto\" class=\"pyvi…"
      ]
     },
     "metadata": {},
     "output_type": "display_data"
    },
    {
     "data": {
      "text/plain": [
       "None"
      ]
     },
     "metadata": {},
     "output_type": "display_data"
    }
   ],
   "source": [
    "visualize(mesh)"
   ]
  },
  {
   "cell_type": "code",
   "execution_count": null,
   "metadata": {},
   "outputs": [],
   "source": [
    "visualize_intersection(mesh)"
   ]
  },
  {
   "cell_type": "markdown",
   "metadata": {},
   "source": [
    "#### Get outer hull"
   ]
  },
  {
   "cell_type": "code",
   "execution_count": 20,
   "metadata": {},
   "outputs": [],
   "source": [
    "outer_hull = pymesh.compute_outer_hull(mesh)"
   ]
  },
  {
   "cell_type": "code",
   "execution_count": 21,
   "metadata": {},
   "outputs": [
    {
     "name": "stdout",
     "output_type": "stream",
     "text": [
      "+-----------------------------------+---------+\n",
      "| Metric                            |   Value |\n",
      "+===================================+=========+\n",
      "| Number of vertices                |     264 |\n",
      "+-----------------------------------+---------+\n",
      "| Number of faces                   |     524 |\n",
      "+-----------------------------------+---------+\n",
      "| Number of intersecting face pairs |       0 |\n",
      "+-----------------------------------+---------+\n"
     ]
    }
   ],
   "source": [
    "self_intersection_stats(outer_hull)"
   ]
  },
  {
   "cell_type": "markdown",
   "metadata": {},
   "source": [
    "#### Create a bounding box"
   ]
  },
  {
   "cell_type": "code",
   "execution_count": 89,
   "metadata": {},
   "outputs": [],
   "source": [
    "local_min = np.array([ -0.90, -0.80, -0.90])\n",
    "local_max = np.array([ 0.90,  0.20,  0.9])"
   ]
  },
  {
   "cell_type": "code",
   "execution_count": 90,
   "metadata": {},
   "outputs": [],
   "source": [
    "submesh, face_mask = extract_submesh_by_bbox(outer_hull, local_min, local_max)"
   ]
  },
  {
   "cell_type": "code",
   "execution_count": 91,
   "metadata": {},
   "outputs": [
    {
     "data": {
      "application/vnd.jupyter.widget-view+json": {
       "model_id": "40ae979f027d4f81bd34381a9d67bcbb",
       "version_major": 2,
       "version_minor": 0
      },
      "text/plain": [
       "Widget(value='<iframe src=\"http://localhost:38155/index.html?ui=P_0x7fbaf614a7a0_26&reconnect=auto\" class=\"pyv…"
      ]
     },
     "metadata": {},
     "output_type": "display_data"
    },
    {
     "data": {
      "text/plain": [
       "None"
      ]
     },
     "metadata": {},
     "output_type": "display_data"
    }
   ],
   "source": [
    "visualize(submesh, filename=\"Submesh\")"
   ]
  },
  {
   "cell_type": "code",
   "execution_count": 92,
   "metadata": {},
   "outputs": [],
   "source": [
    "remaining_mesh = extract_remaining_mesh(outer_hull, face_mask)"
   ]
  },
  {
   "cell_type": "code",
   "execution_count": 93,
   "metadata": {},
   "outputs": [
    {
     "data": {
      "application/vnd.jupyter.widget-view+json": {
       "model_id": "473477550c3041b5b4123b57837e4753",
       "version_major": 2,
       "version_minor": 0
      },
      "text/plain": [
       "Widget(value='<iframe src=\"http://localhost:38155/index.html?ui=P_0x7fbaec119690_27&reconnect=auto\" class=\"pyv…"
      ]
     },
     "metadata": {},
     "output_type": "display_data"
    },
    {
     "data": {
      "text/plain": [
       "None"
      ]
     },
     "metadata": {},
     "output_type": "display_data"
    }
   ],
   "source": [
    "visualize(remaining_mesh, filename=\"remaining_mesh\")"
   ]
  },
  {
   "cell_type": "markdown",
   "metadata": {},
   "source": [
    "#### Repair (or Remesh) the submesh\n",
    "- `pymesh.collapse_short_edges(mesh, abs_threshold, rel_threshold, preserve_feature)`<br>\n",
    "Collapses all edges with length less than a user specified threshold.\n",
    "\n",
    "- `pymesh.split_long_edges(mesh, max_edge_length)`<br>\n",
    "Splits long edges into 2 or more shorter edges.\n",
    "\n",
    "- `pymesh.remove_obtuse_triangles(mesh, max_angle, max_iterations)`<br>\n",
    "Splits each obtuse triangle into 2 or more right or sharp triangles.\n",
    "\n",
    "- `pymesh.remove_degenerated_triangles(mesh, num_iterations)` <br>\n",
    "Degenerate triangles are triangles with collinear vertices (i.e., some vertices are lying in the same straight line). They have zero areas and their normals are undefined."
   ]
  },
  {
   "cell_type": "code",
   "execution_count": 94,
   "metadata": {},
   "outputs": [],
   "source": [
    "from numpy.linalg import norm\n",
    "\n",
    "def method2(mesh, detail=2e-2):\n",
    "\n",
    "    bbox_min, bbox_max = mesh.bbox\n",
    "    diag_len = norm(bbox_max - bbox_min)\n",
    "    target_len = diag_len * detail\n",
    "    print(\"Target resolution: {} mm\".format(target_len))\n",
    "\n",
    "    count = 0\n",
    "    mesh, __ = pymesh.remove_degenerated_triangles(mesh, 100)\n",
    "    mesh, __ = pymesh.split_long_edges(mesh, target_len)\n",
    "    num_vertices = mesh.num_vertices\n",
    "    while True:\n",
    "        mesh, __ = pymesh.collapse_short_edges(mesh, 1e-6) # Remove extremely small edges\n",
    "        mesh, __ = pymesh.collapse_short_edges(mesh, target_len,\n",
    "                                               preserve_feature=True)\n",
    "        mesh, __ = pymesh.remove_obtuse_triangles(mesh, 150.0, 100)\n",
    "        if mesh.num_vertices == num_vertices:\n",
    "            break\n",
    "\n",
    "        num_vertices = mesh.num_vertices\n",
    "        print(\"#v: {}\".format(num_vertices))\n",
    "        count += 1\n",
    "        if count > 10: break\n",
    "\n",
    "    mesh = pymesh.resolve_self_intersection(mesh)\n",
    "    mesh, __ = pymesh.remove_duplicated_faces(mesh)\n",
    "    mesh = pymesh.compute_outer_hull(mesh)\n",
    "    mesh, __ = pymesh.remove_duplicated_faces(mesh)\n",
    "    mesh, __ = pymesh.remove_obtuse_triangles(mesh, 179.0, 5)\n",
    "    mesh, __ = pymesh.remove_isolated_vertices(mesh)\n",
    "\n",
    "    return mesh"
   ]
  },
  {
   "cell_type": "code",
   "execution_count": 95,
   "metadata": {},
   "outputs": [
    {
     "name": "stdout",
     "output_type": "stream",
     "text": [
      "Target resolution: 0.06085787560109866 mm\n",
      "#v: 922\n",
      "#v: 917\n"
     ]
    }
   ],
   "source": [
    "repaired_submesh = method2(submesh)"
   ]
  },
  {
   "cell_type": "code",
   "execution_count": 96,
   "metadata": {},
   "outputs": [
    {
     "data": {
      "application/vnd.jupyter.widget-view+json": {
       "model_id": "b8726837d433460e889e9ec9c5df9740",
       "version_major": 2,
       "version_minor": 0
      },
      "text/plain": [
       "Widget(value='<iframe src=\"http://localhost:38155/index.html?ui=P_0x7fbaec119d20_28&reconnect=auto\" class=\"pyv…"
      ]
     },
     "metadata": {},
     "output_type": "display_data"
    },
    {
     "data": {
      "text/plain": [
       "None"
      ]
     },
     "metadata": {},
     "output_type": "display_data"
    }
   ],
   "source": [
    "visualize(repaired_submesh, filename=\"Repaired_submesh\")"
   ]
  },
  {
   "cell_type": "markdown",
   "metadata": {},
   "source": [
    "#### Align submesh\n",
    "Since we have modified the submesh, we need to fix its boundary."
   ]
  },
  {
   "cell_type": "code",
   "execution_count": 97,
   "metadata": {},
   "outputs": [],
   "source": [
    "aligned_submesh = align_submesh_boundary(remaining_mesh, repaired_submesh)"
   ]
  },
  {
   "cell_type": "code",
   "execution_count": 98,
   "metadata": {},
   "outputs": [
    {
     "data": {
      "application/vnd.jupyter.widget-view+json": {
       "model_id": "8f4d551eecb74dce835f502364e5876d",
       "version_major": 2,
       "version_minor": 0
      },
      "text/plain": [
       "Widget(value='<iframe src=\"http://localhost:38155/index.html?ui=P_0x7fbac8d60130_29&reconnect=auto\" class=\"pyv…"
      ]
     },
     "metadata": {},
     "output_type": "display_data"
    },
    {
     "data": {
      "text/plain": [
       "None"
      ]
     },
     "metadata": {},
     "output_type": "display_data"
    }
   ],
   "source": [
    "visualize(aligned_submesh, filename=\"Method2\")"
   ]
  },
  {
   "cell_type": "markdown",
   "metadata": {},
   "source": [
    "#### Merge two meshes"
   ]
  },
  {
   "cell_type": "code",
   "execution_count": 99,
   "metadata": {},
   "outputs": [],
   "source": [
    "repaired_full = replace_submesh_in_original(remaining_mesh, aligned_submesh)"
   ]
  },
  {
   "cell_type": "markdown",
   "metadata": {},
   "source": [
    "#### Final refinement"
   ]
  },
  {
   "cell_type": "code",
   "execution_count": 100,
   "metadata": {},
   "outputs": [],
   "source": [
    "final = refinement(repaired_full)"
   ]
  },
  {
   "cell_type": "code",
   "execution_count": 101,
   "metadata": {},
   "outputs": [
    {
     "name": "stdout",
     "output_type": "stream",
     "text": [
      "+-----------------------------------+---------+\n",
      "| Metric                            |   Value |\n",
      "+===================================+=========+\n",
      "| Number of vertices                |     890 |\n",
      "+-----------------------------------+---------+\n",
      "| Number of faces                   |    1778 |\n",
      "+-----------------------------------+---------+\n",
      "| Number of intersecting face pairs |       0 |\n",
      "+-----------------------------------+---------+\n"
     ]
    }
   ],
   "source": [
    "self_intersection_stats(final)"
   ]
  },
  {
   "cell_type": "code",
   "execution_count": 102,
   "metadata": {},
   "outputs": [
    {
     "data": {
      "application/vnd.jupyter.widget-view+json": {
       "model_id": "b3d35b156dac4735af588d0c4dda0828",
       "version_major": 2,
       "version_minor": 0
      },
      "text/plain": [
       "Widget(value='<iframe src=\"http://localhost:38155/index.html?ui=P_0x7fbac8d62170_30&reconnect=auto\" class=\"pyv…"
      ]
     },
     "metadata": {},
     "output_type": "display_data"
    },
    {
     "data": {
      "text/plain": [
       "None"
      ]
     },
     "metadata": {},
     "output_type": "display_data"
    }
   ],
   "source": [
    "visualize(final, filename=\"Final Outerhull\")"
   ]
  },
  {
   "cell_type": "code",
   "execution_count": 103,
   "metadata": {},
   "outputs": [
    {
     "name": "stdout",
     "output_type": "stream",
     "text": [
      "+-----------------------------------+-----------+------------+\n",
      "| Metric                            |    Before |      After |\n",
      "+===================================+===========+============+\n",
      "| Number of vertices                | 264       |  890       |\n",
      "+-----------------------------------+-----------+------------+\n",
      "| Number of faces                   | 524       | 1778       |\n",
      "+-----------------------------------+-----------+------------+\n",
      "| Number of intersecting face pairs |   0       |    0       |\n",
      "+-----------------------------------+-----------+------------+\n",
      "| Volume                            |   6.10774 |    6.10364 |\n",
      "+-----------------------------------+-----------+------------+\n",
      "| Area                              |  17.6163  |   17.6158  |\n",
      "+-----------------------------------+-----------+------------+\n"
     ]
    }
   ],
   "source": [
    "evaluation(outer_hull, final)"
   ]
  },
  {
   "cell_type": "code",
   "execution_count": 104,
   "metadata": {},
   "outputs": [
    {
     "name": "stdout",
     "output_type": "stream",
     "text": [
      "Max Vertex Displacement: 0.230974936710108\n",
      "Mean Vertex Displacement: 0.07147648726846435\n"
     ]
    }
   ],
   "source": [
    "evaluate_displacement(outer_hull, final)"
   ]
  },
  {
   "cell_type": "code",
   "execution_count": 105,
   "metadata": {},
   "outputs": [],
   "source": [
    "pymesh.save_mesh(\"final.ply\", final, ascii=True)"
   ]
  },
  {
   "cell_type": "code",
   "execution_count": null,
   "metadata": {},
   "outputs": [],
   "source": []
  }
 ],
 "metadata": {
  "kernelspec": {
   "display_name": "pymesh_env",
   "language": "python",
   "name": "python3"
  },
  "language_info": {
   "codemirror_mode": {
    "name": "ipython",
    "version": 3
   },
   "file_extension": ".py",
   "mimetype": "text/x-python",
   "name": "python",
   "nbconvert_exporter": "python",
   "pygments_lexer": "ipython3",
   "version": "3.10.16"
  }
 },
 "nbformat": 4,
 "nbformat_minor": 2
}

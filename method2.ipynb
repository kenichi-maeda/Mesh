{
 "cells": [
  {
   "cell_type": "markdown",
   "metadata": {},
   "source": [
    "## Method2"
   ]
  },
  {
   "cell_type": "code",
   "execution_count": 1,
   "metadata": {},
   "outputs": [],
   "source": [
    "from utils import *"
   ]
  },
  {
   "cell_type": "markdown",
   "metadata": {},
   "source": [
    "#### Load a file"
   ]
  },
  {
   "cell_type": "code",
   "execution_count": 2,
   "metadata": {},
   "outputs": [],
   "source": [
    "mesh = pymesh.load_mesh(\"data/two_spheres.ply\")"
   ]
  },
  {
   "cell_type": "code",
   "execution_count": null,
   "metadata": {},
   "outputs": [],
   "source": [
    "self_intersection_stats(mesh)"
   ]
  },
  {
   "cell_type": "code",
   "execution_count": null,
   "metadata": {},
   "outputs": [],
   "source": [
    "visualize(mesh)"
   ]
  },
  {
   "cell_type": "code",
   "execution_count": null,
   "metadata": {},
   "outputs": [],
   "source": [
    "visualize_intersection(mesh)"
   ]
  },
  {
   "cell_type": "markdown",
   "metadata": {},
   "source": [
    "#### Get outer hull"
   ]
  },
  {
   "cell_type": "code",
   "execution_count": 3,
   "metadata": {},
   "outputs": [],
   "source": [
    "outer_hull = pymesh.compute_outer_hull(mesh)"
   ]
  },
  {
   "cell_type": "code",
   "execution_count": null,
   "metadata": {},
   "outputs": [],
   "source": [
    "self_intersection_stats(outer_hull)"
   ]
  },
  {
   "cell_type": "markdown",
   "metadata": {},
   "source": [
    "#### Create a bounding box"
   ]
  },
  {
   "cell_type": "code",
   "execution_count": 39,
   "metadata": {},
   "outputs": [],
   "source": [
    "local_min = np.array([ -0.90, -0.90, -0.90])\n",
    "local_max = np.array([ 0.90,  0.10,  0.90])"
   ]
  },
  {
   "cell_type": "code",
   "execution_count": 40,
   "metadata": {},
   "outputs": [],
   "source": [
    "submesh, face_mask = extract_submesh_by_bbox(outer_hull, local_min, local_max)"
   ]
  },
  {
   "cell_type": "code",
   "execution_count": null,
   "metadata": {},
   "outputs": [],
   "source": [
    "visualize(submesh, filename=\"Submesh\")"
   ]
  },
  {
   "cell_type": "code",
   "execution_count": 41,
   "metadata": {},
   "outputs": [],
   "source": [
    "remaining_mesh = extract_remaining_mesh(outer_hull, face_mask)"
   ]
  },
  {
   "cell_type": "code",
   "execution_count": null,
   "metadata": {},
   "outputs": [],
   "source": [
    "visualize(remaining_mesh, filename=\"remaining_mesh\")"
   ]
  },
  {
   "cell_type": "markdown",
   "metadata": {},
   "source": [
    "#### Repair (or Remesh) the submesh\n",
    "- `pymesh.collapse_short_edges(mesh, abs_threshold, rel_threshold, preserve_feature)`<br>\n",
    "Collapses all edges with length less than a user specified threshold.\n",
    "\n",
    "- `pymesh.split_long_edges(mesh, max_edge_length)`<br>\n",
    "Splits long edges into 2 or more shorter edges.\n",
    "\n",
    "- `pymesh.remove_obtuse_triangles(mesh, max_angle, max_iterations)`<br>\n",
    "Splits each obtuse triangle into 2 or more right or sharp triangles.\n",
    "\n",
    "- `pymesh.remove_degenerated_triangles(mesh, num_iterations)` <br>\n",
    "Degenerate triangles are triangles with collinear vertices (i.e., some vertices are lying in the same straight line). They have zero areas and their normals are undefined."
   ]
  },
  {
   "cell_type": "code",
   "execution_count": 42,
   "metadata": {},
   "outputs": [],
   "source": [
    "from numpy.linalg import norm\n",
    "\n",
    "def method2(mesh, detail=2e-2):\n",
    "\n",
    "    bbox_min, bbox_max = mesh.bbox\n",
    "    diag_len = norm(bbox_max - bbox_min)\n",
    "    target_len = diag_len * detail\n",
    "    print(\"Target resolution: {} mm\".format(target_len))\n",
    "\n",
    "    count = 0\n",
    "    mesh, __ = pymesh.remove_degenerated_triangles(mesh, 100)\n",
    "    mesh, __ = pymesh.split_long_edges(mesh, target_len)\n",
    "    num_vertices = mesh.num_vertices\n",
    "    while True:\n",
    "        mesh, __ = pymesh.collapse_short_edges(mesh, 1e-6) # Remove extremely small edges\n",
    "        mesh, __ = pymesh.collapse_short_edges(mesh, target_len,\n",
    "                                               preserve_feature=True)\n",
    "        mesh, __ = pymesh.remove_obtuse_triangles(mesh, 150.0, 100)\n",
    "        if mesh.num_vertices == num_vertices:\n",
    "            break\n",
    "\n",
    "        num_vertices = mesh.num_vertices\n",
    "        print(\"#v: {}\".format(num_vertices))\n",
    "        count += 1\n",
    "        if count > 10: break\n",
    "\n",
    "    mesh = pymesh.resolve_self_intersection(mesh)\n",
    "    mesh, __ = pymesh.remove_duplicated_faces(mesh)\n",
    "    mesh = pymesh.compute_outer_hull(mesh)\n",
    "    mesh, __ = pymesh.remove_duplicated_faces(mesh)\n",
    "    mesh, __ = pymesh.remove_obtuse_triangles(mesh, 179.0, 5)\n",
    "    mesh, __ = pymesh.remove_isolated_vertices(mesh)\n",
    "\n",
    "    return mesh"
   ]
  },
  {
   "cell_type": "code",
   "execution_count": 43,
   "metadata": {},
   "outputs": [
    {
     "name": "stdout",
     "output_type": "stream",
     "text": [
      "Target resolution: 0.061370150332789634 mm\n",
      "#v: 980\n",
      "#v: 977\n"
     ]
    }
   ],
   "source": [
    "repaired_submesh = method2(submesh)"
   ]
  },
  {
   "cell_type": "code",
   "execution_count": null,
   "metadata": {},
   "outputs": [],
   "source": [
    "visualize(repaired_submesh, filename=\"Repaired_submesh\")"
   ]
  },
  {
   "cell_type": "markdown",
   "metadata": {},
   "source": [
    "#### Align submesh\n",
    "Since we have modified the submesh, we need to fix its boundary."
   ]
  },
  {
   "cell_type": "code",
   "execution_count": 44,
   "metadata": {},
   "outputs": [],
   "source": [
    "aligned_submesh = align_submesh_boundary(remaining_mesh, repaired_submesh)"
   ]
  },
  {
   "cell_type": "code",
   "execution_count": null,
   "metadata": {},
   "outputs": [],
   "source": [
    "visualize(aligned_submesh, filename=\"Method2\")"
   ]
  },
  {
   "cell_type": "markdown",
   "metadata": {},
   "source": [
    "#### Merge two meshes"
   ]
  },
  {
   "cell_type": "code",
   "execution_count": 45,
   "metadata": {},
   "outputs": [],
   "source": [
    "repaired_full = replace_submesh_in_original(remaining_mesh, aligned_submesh)"
   ]
  },
  {
   "cell_type": "markdown",
   "metadata": {},
   "source": [
    "#### Final refinement"
   ]
  },
  {
   "cell_type": "code",
   "execution_count": 46,
   "metadata": {},
   "outputs": [],
   "source": [
    "final = refinement(repaired_full)"
   ]
  },
  {
   "cell_type": "code",
   "execution_count": 47,
   "metadata": {},
   "outputs": [
    {
     "name": "stdout",
     "output_type": "stream",
     "text": [
      "+-----------------------------------+---------+\n",
      "| Metric                            |   Value |\n",
      "+===================================+=========+\n",
      "| Number of vertices                |     948 |\n",
      "+-----------------------------------+---------+\n",
      "| Number of faces                   |    1892 |\n",
      "+-----------------------------------+---------+\n",
      "| Number of intersecting face pairs |       0 |\n",
      "+-----------------------------------+---------+\n"
     ]
    }
   ],
   "source": [
    "self_intersection_stats(final)"
   ]
  },
  {
   "cell_type": "code",
   "execution_count": 48,
   "metadata": {},
   "outputs": [
    {
     "data": {
      "application/vnd.jupyter.widget-view+json": {
       "model_id": "b97feb33d6c84250aa40da983179d717",
       "version_major": 2,
       "version_minor": 0
      },
      "text/plain": [
       "Widget(value='<iframe src=\"http://localhost:37513/index.html?ui=P_0x7fac8cff6b30_2&reconnect=auto\" class=\"pyvi…"
      ]
     },
     "metadata": {},
     "output_type": "display_data"
    },
    {
     "data": {
      "text/plain": [
       "None"
      ]
     },
     "metadata": {},
     "output_type": "display_data"
    }
   ],
   "source": [
    "visualize(final, filename=\"Final Outerhull\")"
   ]
  },
  {
   "cell_type": "code",
   "execution_count": 49,
   "metadata": {},
   "outputs": [
    {
     "name": "stdout",
     "output_type": "stream",
     "text": [
      "+-----------------------------------+-----------+------------+\n",
      "| Metric                            |    Before |      After |\n",
      "+===================================+===========+============+\n",
      "| Number of vertices                | 264       |  948       |\n",
      "+-----------------------------------+-----------+------------+\n",
      "| Number of faces                   | 524       | 1892       |\n",
      "+-----------------------------------+-----------+------------+\n",
      "| Number of intersecting face pairs |   0       |    0       |\n",
      "+-----------------------------------+-----------+------------+\n",
      "| Volume                            |   6.10774 |    6.10366 |\n",
      "+-----------------------------------+-----------+------------+\n",
      "| Area                              |  17.6163  |   17.6117  |\n",
      "+-----------------------------------+-----------+------------+\n"
     ]
    }
   ],
   "source": [
    "evaluation(outer_hull, final)"
   ]
  },
  {
   "cell_type": "code",
   "execution_count": 50,
   "metadata": {},
   "outputs": [
    {
     "name": "stdout",
     "output_type": "stream",
     "text": [
      "Max Vertex Displacement: 0.2651650429449553\n",
      "Mean Vertex Displacement: 0.07841682882135739\n"
     ]
    }
   ],
   "source": [
    "evaluate_displacement(outer_hull, final)"
   ]
  },
  {
   "cell_type": "code",
   "execution_count": 51,
   "metadata": {},
   "outputs": [],
   "source": [
    "pymesh.save_mesh(\"final.ply\", final, ascii=True)"
   ]
  },
  {
   "cell_type": "code",
   "execution_count": 31,
   "metadata": {},
   "outputs": [],
   "source": [
    "x = pymesh.load_mesh(\"final.ply\")"
   ]
  },
  {
   "cell_type": "code",
   "execution_count": null,
   "metadata": {},
   "outputs": [],
   "source": []
  }
 ],
 "metadata": {
  "kernelspec": {
   "display_name": "pymesh_env",
   "language": "python",
   "name": "python3"
  },
  "language_info": {
   "codemirror_mode": {
    "name": "ipython",
    "version": 3
   },
   "file_extension": ".py",
   "mimetype": "text/x-python",
   "name": "python",
   "nbconvert_exporter": "python",
   "pygments_lexer": "ipython3",
   "version": "3.10.16"
  }
 },
 "nbformat": 4,
 "nbformat_minor": 2
}

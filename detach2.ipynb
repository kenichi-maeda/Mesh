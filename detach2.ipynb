{
 "cells": [
  {
   "cell_type": "code",
   "execution_count": 1,
   "metadata": {},
   "outputs": [
    {
     "name": "stdout",
     "output_type": "stream",
     "text": [
      "Jupyter environment detected. Enabling Open3D WebVisualizer.\n",
      "[Open3D INFO] WebRTC GUI backend enabled.\n",
      "[Open3D INFO] WebRTCWindowSystem: HTTP handshake server disabled.\n"
     ]
    }
   ],
   "source": [
    "import trimesh\n",
    "import numpy as np\n",
    "from utils import *\n",
    "import open3d as o3d"
   ]
  },
  {
   "cell_type": "code",
   "execution_count": 2,
   "metadata": {},
   "outputs": [],
   "source": [
    "def pymesh_to_trimesh(mesh):\n",
    "    return trimesh.Trimesh(vertices=mesh.vertices, faces=mesh.faces)\n",
    "\n",
    "def trimesh_to_pymesh(mesh):\n",
    "    return pymesh.form_mesh(vertices=mesh.vertices, faces=mesh.faces)\n",
    "\n",
    "def compute_median_edge_length(mesh):\n",
    "    face_indices = mesh.faces \n",
    "    verts = mesh.vertices\n",
    "\n",
    "    edge_lengths = []\n",
    "    unique_edges = set()\n",
    "\n",
    "\n",
    "    for f in face_indices:\n",
    "        # Each face has 3 edges: (f[0], f[1]), (f[1], f[2]), (f[2], f[0])\n",
    "        edges = [(f[0], f[1]), (f[1], f[2]), (f[2], f[0])]\n",
    "        \n",
    "        for edge in edges:\n",
    "            edge = tuple(sorted(edge))\n",
    "            if edge not in unique_edges:\n",
    "                unique_edges.add(edge)\n",
    "                \n",
    "                # Calculate the edge length\n",
    "                e_length = np.linalg.norm(verts[edge[0]] - verts[edge[1]])\n",
    "                edge_lengths.append(e_length)\n",
    "\n",
    "    return np.median(edge_lengths) if edge_lengths else 0\n",
    "\n",
    "def collapse_long_edges(mesh):\n",
    "    tol = compute_median_edge_length(mesh)\n",
    "    new_mesh, _ = pymesh.split_long_edges(mesh, tol)\n",
    "    return new_mesh\n",
    "\n",
    "def count_num_components(mesh):\n",
    "    mesh = pymesh_to_trimesh(mesh)\n",
    "    components = mesh.split(only_watertight=True)\n",
    "    return len(components)"
   ]
  },
  {
   "cell_type": "code",
   "execution_count": null,
   "metadata": {},
   "outputs": [],
   "source": [
    "mesh = pymesh.load_mesh(\"data/two_spheres2.ply\")"
   ]
  },
  {
   "cell_type": "code",
   "execution_count": 15,
   "metadata": {},
   "outputs": [],
   "source": [
    "count = count_num_components(mesh)\n",
    "intersecting_faces = pymesh.detect_self_intersection(mesh)\n",
    "intersected_faces = set(intersecting_faces.flatten())\n",
    "\n",
    "remaining_faces = np.setdiff1d(np.arange(mesh.num_faces), list(intersected_faces))\n",
    "remaining_faces_vertices = mesh.faces[remaining_faces]\n",
    "\n",
    "unique_vertices, new_faces = np.unique(remaining_faces_vertices, return_inverse=True)\n",
    "new_mesh = pymesh.form_mesh(mesh.vertices[unique_vertices], new_faces.reshape(-1, 3))\n"
   ]
  },
  {
   "cell_type": "code",
   "execution_count": 16,
   "metadata": {},
   "outputs": [],
   "source": [
    "submeshes = pymesh_to_trimesh(new_mesh).split(only_watertight=False)\n",
    "submeshes_sorted = sorted(submeshes, key=lambda x: len(x.vertices), reverse=True)\n",
    "submeshes_needed = submeshes_sorted[:count]"
   ]
  },
  {
   "cell_type": "code",
   "execution_count": 17,
   "metadata": {},
   "outputs": [],
   "source": [
    "repaired_submesh_needed = []\n",
    "for submesh in submeshes_needed:\n",
    "    submesh = pymesh.convex_hull(trimesh_to_pymesh(submesh))\n",
    "    submesh = collapse_long_edges(submesh)\n",
    "    submesh = pymesh_to_trimesh(submesh)\n",
    "    repaired_submesh_needed.append(submesh)"
   ]
  },
  {
   "cell_type": "code",
   "execution_count": 18,
   "metadata": {},
   "outputs": [],
   "source": [
    "final = trimesh.util.concatenate(repaired_submesh_needed)"
   ]
  },
  {
   "cell_type": "code",
   "execution_count": 19,
   "metadata": {},
   "outputs": [
    {
     "data": {
      "application/vnd.jupyter.widget-view+json": {
       "model_id": "8b2f3b277c4c47f0ad05e2096baf4527",
       "version_major": 2,
       "version_minor": 0
      },
      "text/plain": [
       "Widget(value='<iframe src=\"http://localhost:40139/index.html?ui=P_0x7efd123a2bf0_3&reconnect=auto\" class=\"pyvi…"
      ]
     },
     "metadata": {},
     "output_type": "display_data"
    },
    {
     "data": {
      "text/plain": [
       "None"
      ]
     },
     "metadata": {},
     "output_type": "display_data"
    }
   ],
   "source": [
    "visualize(final)"
   ]
  },
  {
   "cell_type": "code",
   "execution_count": 13,
   "metadata": {},
   "outputs": [
    {
     "data": {
      "application/vnd.jupyter.widget-view+json": {
       "model_id": "37d8a19e75494b159d9746d648af086b",
       "version_major": 2,
       "version_minor": 0
      },
      "text/plain": [
       "Widget(value='<iframe src=\"http://localhost:40139/index.html?ui=P_0x7efd35d7f8b0_2&reconnect=auto\" class=\"pyvi…"
      ]
     },
     "metadata": {},
     "output_type": "display_data"
    },
    {
     "data": {
      "text/plain": [
       "None"
      ]
     },
     "metadata": {},
     "output_type": "display_data"
    }
   ],
   "source": [
    "visualize(repaired_submesh_needed[0])"
   ]
  },
  {
   "cell_type": "code",
   "execution_count": null,
   "metadata": {},
   "outputs": [],
   "source": []
  }
 ],
 "metadata": {
  "kernelspec": {
   "display_name": "pymesh_env",
   "language": "python",
   "name": "python3"
  },
  "language_info": {
   "codemirror_mode": {
    "name": "ipython",
    "version": 3
   },
   "file_extension": ".py",
   "mimetype": "text/x-python",
   "name": "python",
   "nbconvert_exporter": "python",
   "pygments_lexer": "ipython3",
   "version": "3.10.16"
  }
 },
 "nbformat": 4,
 "nbformat_minor": 2
}

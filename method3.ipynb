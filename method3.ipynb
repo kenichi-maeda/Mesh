{
 "cells": [
  {
   "cell_type": "markdown",
   "metadata": {},
   "source": [
    "## Method3 (Basically Method2 but without bbox)"
   ]
  },
  {
   "cell_type": "code",
   "execution_count": 1,
   "metadata": {},
   "outputs": [],
   "source": [
    "from utils import *"
   ]
  },
  {
   "cell_type": "markdown",
   "metadata": {},
   "source": [
    "#### Load a file"
   ]
  },
  {
   "cell_type": "code",
   "execution_count": 2,
   "metadata": {},
   "outputs": [],
   "source": [
    "mesh = pymesh.load_mesh(\"data/two_spheres2.ply\")"
   ]
  },
  {
   "cell_type": "code",
   "execution_count": 3,
   "metadata": {},
   "outputs": [
    {
     "name": "stdout",
     "output_type": "stream",
     "text": [
      "+-----------------------------------+---------+\n",
      "| Metric                            |   Value |\n",
      "+===================================+=========+\n",
      "| Number of vertices                |     952 |\n",
      "+-----------------------------------+---------+\n",
      "| Number of faces                   |    1896 |\n",
      "+-----------------------------------+---------+\n",
      "| Number of intersecting face pairs |     119 |\n",
      "+-----------------------------------+---------+\n"
     ]
    }
   ],
   "source": [
    "self_intersection_stats(mesh)"
   ]
  },
  {
   "cell_type": "code",
   "execution_count": 4,
   "metadata": {},
   "outputs": [
    {
     "name": "stderr",
     "output_type": "stream",
     "text": [
      "/home/kmaeda/anaconda3/envs/pymesh_env/lib/python3.10/site-packages/pyvista/core/pointset.py:1365: PyVistaDeprecationWarning: The current behavior of `pv.PolyData.n_faces` has been deprecated.\n",
      "                Use `pv.PolyData.n_cells` or `pv.PolyData.n_faces_strict` instead.\n",
      "                See the documentation in '`pv.PolyData.n_faces` for more information.\n",
      "  warnings.warn(\n"
     ]
    },
    {
     "data": {
      "application/vnd.jupyter.widget-view+json": {
       "model_id": "31e915a03159475e891fd474db057f9d",
       "version_major": 2,
       "version_minor": 0
      },
      "text/plain": [
       "Widget(value='<iframe src=\"http://localhost:46737/index.html?ui=P_0x7f63e7c22b30_0&reconnect=auto\" class=\"pyvi…"
      ]
     },
     "metadata": {},
     "output_type": "display_data"
    },
    {
     "data": {
      "text/plain": [
       "None"
      ]
     },
     "metadata": {},
     "output_type": "display_data"
    }
   ],
   "source": [
    "visualize_intersection(mesh)"
   ]
  },
  {
   "cell_type": "markdown",
   "metadata": {},
   "source": [
    "#### Save intersection info first"
   ]
  },
  {
   "cell_type": "code",
   "execution_count": 5,
   "metadata": {},
   "outputs": [],
   "source": [
    "intersections = pymesh.detect_self_intersection(mesh)\n",
    "intersecting_vertices, intersecting_faces = track_self_intersecting_faces(mesh, intersections)"
   ]
  },
  {
   "cell_type": "markdown",
   "metadata": {},
   "source": [
    "#### Get outer hull"
   ]
  },
  {
   "cell_type": "code",
   "execution_count": 6,
   "metadata": {},
   "outputs": [],
   "source": [
    "outer_hull = pymesh.compute_outer_hull(mesh)"
   ]
  },
  {
   "cell_type": "code",
   "execution_count": 7,
   "metadata": {},
   "outputs": [
    {
     "name": "stdout",
     "output_type": "stream",
     "text": [
      "+-----------------------------------+---------+\n",
      "| Metric                            |   Value |\n",
      "+===================================+=========+\n",
      "| Number of vertices                |     917 |\n",
      "+-----------------------------------+---------+\n",
      "| Number of faces                   |    1830 |\n",
      "+-----------------------------------+---------+\n",
      "| Number of intersecting face pairs |       0 |\n",
      "+-----------------------------------+---------+\n"
     ]
    }
   ],
   "source": [
    "self_intersection_stats(outer_hull)"
   ]
  },
  {
   "cell_type": "markdown",
   "metadata": {},
   "source": [
    "#### Map intersecting region to modified mesh & Extract submesh"
   ]
  },
  {
   "cell_type": "code",
   "execution_count": 8,
   "metadata": {},
   "outputs": [],
   "source": [
    "mapped_vertices = map_to_modified_mesh(mesh, outer_hull, intersecting_vertices)"
   ]
  },
  {
   "cell_type": "code",
   "execution_count": 9,
   "metadata": {},
   "outputs": [],
   "source": [
    "submesh, face_mask = extract_self_intersecting_region_from_modified(outer_hull, mapped_vertices)"
   ]
  },
  {
   "cell_type": "code",
   "execution_count": 10,
   "metadata": {},
   "outputs": [
    {
     "data": {
      "application/vnd.jupyter.widget-view+json": {
       "model_id": "f4491cebe4394914add060621666cadb",
       "version_major": 2,
       "version_minor": 0
      },
      "text/plain": [
       "Widget(value='<iframe src=\"http://localhost:46737/index.html?ui=P_0x7f63e0bafc10_1&reconnect=auto\" class=\"pyvi…"
      ]
     },
     "metadata": {},
     "output_type": "display_data"
    },
    {
     "data": {
      "text/plain": [
       "None"
      ]
     },
     "metadata": {},
     "output_type": "display_data"
    }
   ],
   "source": [
    "visualize(submesh, filename=\"Submesh\")"
   ]
  },
  {
   "cell_type": "code",
   "execution_count": 11,
   "metadata": {},
   "outputs": [],
   "source": [
    "remaining_mesh = extract_remaining_mesh(outer_hull, face_mask)"
   ]
  },
  {
   "cell_type": "code",
   "execution_count": 12,
   "metadata": {},
   "outputs": [
    {
     "data": {
      "application/vnd.jupyter.widget-view+json": {
       "model_id": "c4c9533136274d54a93aaf4ae1101c50",
       "version_major": 2,
       "version_minor": 0
      },
      "text/plain": [
       "Widget(value='<iframe src=\"http://localhost:46737/index.html?ui=P_0x7f63e0bafa60_2&reconnect=auto\" class=\"pyvi…"
      ]
     },
     "metadata": {},
     "output_type": "display_data"
    },
    {
     "data": {
      "text/plain": [
       "None"
      ]
     },
     "metadata": {},
     "output_type": "display_data"
    }
   ],
   "source": [
    "visualize(remaining_mesh, filename=\"remaining_mesh\")"
   ]
  },
  {
   "cell_type": "markdown",
   "metadata": {},
   "source": [
    "#### Repair (or Remesh) the submesh\n",
    "- `pymesh.collapse_short_edges(mesh, abs_threshold, rel_threshold, preserve_feature)`<br>\n",
    "Collapses all edges with length less than a user specified threshold.\n",
    "\n",
    "- `pymesh.split_long_edges(mesh, max_edge_length)`<br>\n",
    "Splits long edges into 2 or more shorter edges.\n",
    "\n",
    "- `pymesh.remove_obtuse_triangles(mesh, max_angle, max_iterations)`<br>\n",
    "Splits each obtuse triangle into 2 or more right or sharp triangles.\n",
    "\n",
    "- `pymesh.remove_degenerated_triangles(mesh, num_iterations)` <br>\n",
    "Degenerate triangles are triangles with collinear vertices (i.e., some vertices are lying in the same straight line). They have zero areas and their normals are undefined."
   ]
  },
  {
   "cell_type": "code",
   "execution_count": 13,
   "metadata": {},
   "outputs": [],
   "source": [
    "from numpy.linalg import norm\n",
    "\n",
    "def method2(mesh, detail=2e-2):\n",
    "\n",
    "    bbox_min, bbox_max = mesh.bbox\n",
    "    diag_len = norm(bbox_max - bbox_min)\n",
    "    target_len = diag_len * detail\n",
    "    print(\"Target resolution: {} mm\".format(target_len))\n",
    "\n",
    "    count = 0\n",
    "    mesh, __ = pymesh.remove_degenerated_triangles(mesh, 100)\n",
    "    mesh, __ = pymesh.split_long_edges(mesh, target_len)\n",
    "    num_vertices = mesh.num_vertices\n",
    "    while True:\n",
    "        mesh, __ = pymesh.collapse_short_edges(mesh, 1e-6, preserve_feature=True) # Remove extremely small edges\n",
    "        mesh, __ = pymesh.collapse_short_edges(mesh, target_len,\n",
    "                                               preserve_feature=True)\n",
    "        mesh, __ = pymesh.remove_obtuse_triangles(mesh, 150.0, 100)\n",
    "        if mesh.num_vertices == num_vertices:\n",
    "            break\n",
    "\n",
    "        num_vertices = mesh.num_vertices\n",
    "        print(\"#v: {}\".format(num_vertices))\n",
    "        count += 1\n",
    "        if count > 10: break\n",
    "\n",
    "    mesh = pymesh.resolve_self_intersection(mesh)\n",
    "    mesh, __ = pymesh.remove_duplicated_faces(mesh)\n",
    "    mesh = pymesh.compute_outer_hull(mesh)\n",
    "    mesh, __ = pymesh.remove_duplicated_faces(mesh)\n",
    "    mesh, __ = pymesh.remove_obtuse_triangles(mesh, 179.0, 5)\n",
    "    mesh, __ = pymesh.remove_isolated_vertices(mesh)\n",
    "\n",
    "    return mesh"
   ]
  },
  {
   "cell_type": "code",
   "execution_count": 14,
   "metadata": {},
   "outputs": [
    {
     "name": "stdout",
     "output_type": "stream",
     "text": [
      "Target resolution: 0.058262021377178466 mm\n",
      "#v: 428\n",
      "#v: 427\n"
     ]
    }
   ],
   "source": [
    "repaired_submesh = method2(submesh)"
   ]
  },
  {
   "cell_type": "code",
   "execution_count": 15,
   "metadata": {},
   "outputs": [
    {
     "data": {
      "application/vnd.jupyter.widget-view+json": {
       "model_id": "102d3126542448a9b68403e9cde05ac0",
       "version_major": 2,
       "version_minor": 0
      },
      "text/plain": [
       "Widget(value='<iframe src=\"http://localhost:46737/index.html?ui=P_0x7f63e0baff70_3&reconnect=auto\" class=\"pyvi…"
      ]
     },
     "metadata": {},
     "output_type": "display_data"
    },
    {
     "data": {
      "text/plain": [
       "None"
      ]
     },
     "metadata": {},
     "output_type": "display_data"
    }
   ],
   "source": [
    "visualize(repaired_submesh, filename=\"Repaired_submesh\")"
   ]
  },
  {
   "cell_type": "markdown",
   "metadata": {},
   "source": [
    "#### Align submesh\n",
    "Since we have modified the submesh, we need to fix its boundary. "
   ]
  },
  {
   "cell_type": "code",
   "execution_count": 16,
   "metadata": {},
   "outputs": [],
   "source": [
    "aligned_submesh = align_submesh_boundary(remaining_mesh, repaired_submesh)"
   ]
  },
  {
   "cell_type": "code",
   "execution_count": 17,
   "metadata": {},
   "outputs": [
    {
     "data": {
      "application/vnd.jupyter.widget-view+json": {
       "model_id": "b314f3f34fcc447abdbfd7d64cb645d3",
       "version_major": 2,
       "version_minor": 0
      },
      "text/plain": [
       "Widget(value='<iframe src=\"http://localhost:46737/index.html?ui=P_0x7f63c25d29b0_4&reconnect=auto\" class=\"pyvi…"
      ]
     },
     "metadata": {},
     "output_type": "display_data"
    },
    {
     "data": {
      "text/plain": [
       "None"
      ]
     },
     "metadata": {},
     "output_type": "display_data"
    }
   ],
   "source": [
    "visualize(aligned_submesh, filename=\"Method2\")"
   ]
  },
  {
   "cell_type": "markdown",
   "metadata": {},
   "source": [
    "#### Merge two meshes"
   ]
  },
  {
   "cell_type": "code",
   "execution_count": 18,
   "metadata": {},
   "outputs": [],
   "source": [
    "repaired_full = replace_submesh_in_original(remaining_mesh, aligned_submesh)"
   ]
  },
  {
   "cell_type": "code",
   "execution_count": 19,
   "metadata": {},
   "outputs": [
    {
     "data": {
      "application/vnd.jupyter.widget-view+json": {
       "model_id": "5d2fe564a71b4dbc975488209fa6c967",
       "version_major": 2,
       "version_minor": 0
      },
      "text/plain": [
       "Widget(value='<iframe src=\"http://localhost:46737/index.html?ui=P_0x7f636af0e3b0_5&reconnect=auto\" class=\"pyvi…"
      ]
     },
     "metadata": {},
     "output_type": "display_data"
    },
    {
     "data": {
      "text/plain": [
       "None"
      ]
     },
     "metadata": {},
     "output_type": "display_data"
    }
   ],
   "source": [
    "visualize(repaired_full)"
   ]
  },
  {
   "cell_type": "markdown",
   "metadata": {},
   "source": [
    "#### Final refinement"
   ]
  },
  {
   "cell_type": "code",
   "execution_count": 20,
   "metadata": {},
   "outputs": [],
   "source": [
    "final = refinement(repaired_full)"
   ]
  },
  {
   "cell_type": "code",
   "execution_count": 21,
   "metadata": {},
   "outputs": [
    {
     "name": "stdout",
     "output_type": "stream",
     "text": [
      "+-----------------------------------+---------+\n",
      "| Metric                            |   Value |\n",
      "+===================================+=========+\n",
      "| Number of vertices                |    1021 |\n",
      "+-----------------------------------+---------+\n",
      "| Number of faces                   |    2040 |\n",
      "+-----------------------------------+---------+\n",
      "| Number of intersecting face pairs |       0 |\n",
      "+-----------------------------------+---------+\n"
     ]
    }
   ],
   "source": [
    "self_intersection_stats(final)"
   ]
  },
  {
   "cell_type": "code",
   "execution_count": 22,
   "metadata": {},
   "outputs": [
    {
     "data": {
      "application/vnd.jupyter.widget-view+json": {
       "model_id": "bd6ccf16a3374ea3915b5395e15954b5",
       "version_major": 2,
       "version_minor": 0
      },
      "text/plain": [
       "Widget(value='<iframe src=\"http://localhost:46737/index.html?ui=P_0x7f636af0da20_6&reconnect=auto\" class=\"pyvi…"
      ]
     },
     "metadata": {},
     "output_type": "display_data"
    },
    {
     "data": {
      "text/plain": [
       "None"
      ]
     },
     "metadata": {},
     "output_type": "display_data"
    }
   ],
   "source": [
    "visualize(final, filename=\"Final Outerhull\")"
   ]
  },
  {
   "cell_type": "code",
   "execution_count": 23,
   "metadata": {},
   "outputs": [
    {
     "name": "stdout",
     "output_type": "stream",
     "text": [
      "+-----------------------------------+------------+-----------+\n",
      "| Metric                            |     Before |     After |\n",
      "+===================================+============+===========+\n",
      "| Number of vertices                |  917       | 1021      |\n",
      "+-----------------------------------+------------+-----------+\n",
      "| Number of faces                   | 1830       | 2040      |\n",
      "+-----------------------------------+------------+-----------+\n",
      "| Number of intersecting face pairs |    0       |    0      |\n",
      "+-----------------------------------+------------+-----------+\n",
      "| Volume                            |    6.61368 |    6.6111 |\n",
      "+-----------------------------------+------------+-----------+\n",
      "| Area                              |   19.0834  |   19.0837 |\n",
      "+-----------------------------------+------------+-----------+\n"
     ]
    }
   ],
   "source": [
    "evaluation(outer_hull, final)"
   ]
  },
  {
   "cell_type": "code",
   "execution_count": 24,
   "metadata": {},
   "outputs": [
    {
     "name": "stdout",
     "output_type": "stream",
     "text": [
      "Max Vertex Displacement: 0.11448359749842713\n",
      "Mean Vertex Displacement: 0.010789851710345038\n"
     ]
    }
   ],
   "source": [
    "evaluate_displacement(outer_hull, final)"
   ]
  },
  {
   "cell_type": "code",
   "execution_count": 25,
   "metadata": {},
   "outputs": [],
   "source": [
    "pymesh.save_mesh(\"temp.ply\", final, ascii=True)"
   ]
  },
  {
   "cell_type": "code",
   "execution_count": null,
   "metadata": {},
   "outputs": [],
   "source": []
  }
 ],
 "metadata": {
  "kernelspec": {
   "display_name": "pymesh_env",
   "language": "python",
   "name": "python3"
  },
  "language_info": {
   "codemirror_mode": {
    "name": "ipython",
    "version": 3
   },
   "file_extension": ".py",
   "mimetype": "text/x-python",
   "name": "python",
   "nbconvert_exporter": "python",
   "pygments_lexer": "ipython3",
   "version": "3.10.16"
  }
 },
 "nbformat": 4,
 "nbformat_minor": 2
}
